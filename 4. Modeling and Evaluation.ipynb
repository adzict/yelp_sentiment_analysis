{
 "cells": [
  {
   "cell_type": "markdown",
   "metadata": {},
   "source": [
    "# Modeling and Evaluation of Sentiment Prediction\n",
    "\n",
    "This stage of the project includes preparing text for machine learning algorithms, splitting the dataset into train and test set, and then performing predictions and evaluations using different classifiers. Best models will be then tested again.\n",
    "\n",
    "Contents of this notebook:\n",
    "\n",
    "<ul>\n",
    "    <li>1. Imports</li>\n",
    "    <li>2. Data</li>\n",
    "    <li>3. Preparing Text</li>\n",
    "        <ul>\n",
    "            <li>3.1 Removing Missing values</li>\n",
    "            <li>3.2 Creating three categories of labels from ratings</li>\n",
    "            <li>3.3 Train/Test Split</li>\n",
    "            <li>3.4 Vectorizing the text</li>\n",
    "        </ul>\n",
    "    <li>4. Classification</li>\n",
    "        <ul>\n",
    "            <li>4.1 Further splitting data into a train and validation set</li>\n",
    "            <li>4.2 Logistic Regression</li>\n",
    "            <li>4.3 Multinomial Naive Bayes</li>\n",
    "            <li>4.4 Random Forest</li>\n",
    "            <li>4.5 Decision Tree</li>\n",
    "            <li>4.6 K Neighbors</li>\n",
    "            <li>4.7 AdaBoost</li>\n",
    "            <li>4.8 XGBoost</li>\n",
    "        </ul>\n",
    "    <li>5. Evaluation</li>\n",
    "        <ul>\n",
    "            <li>5.1 Comparing scores from all models</li>\n",
    "            <li>5.2 Fitting the best model with test data</li>\n",
    "            <li>5.3 Additional model metrics and tuning</li>\n",
    "        </ul>\n",
    "</ul>"
   ]
  },
  {
   "cell_type": "markdown",
   "metadata": {},
   "source": [
    "# 1. Imports"
   ]
  },
  {
   "cell_type": "code",
   "execution_count": 1,
   "metadata": {
    "execution": {
     "iopub.execute_input": "2022-09-20T05:24:32.001342Z",
     "iopub.status.busy": "2022-09-20T05:24:32.000870Z",
     "iopub.status.idle": "2022-09-20T05:24:34.181186Z",
     "shell.execute_reply": "2022-09-20T05:24:34.179957Z",
     "shell.execute_reply.started": "2022-09-20T05:24:32.001238Z"
    }
   },
   "outputs": [],
   "source": [
    "#basic libraries for linear algebra and data processing\n",
    "import numpy as np\n",
    "import pandas as pd\n",
    "\n",
    "#visualization\n",
    "import matplotlib.pyplot as plt\n",
    "import seaborn as sns\n",
    "\n",
    "#data preparation tools\n",
    "from sklearn.model_selection import train_test_split, StratifiedKFold\n",
    "from sklearn.feature_extraction.text import TfidfVectorizer\n",
    "from sklearn.preprocessing import StandardScaler\n",
    "import nltk\n",
    "from nltk.corpus import stopwords\n",
    "\n",
    "import pickle\n",
    "\n",
    "#classification class\n",
    "from classification_py import Classification\n",
    "\n",
    "#time and warnings\n",
    "import time\n",
    "import warnings\n",
    "\n",
    "#settings\n",
    "warnings.filterwarnings(\"ignore\")\n",
    "%matplotlib inline\n",
    "sns.set_context('poster', font_scale=0.5)"
   ]
  },
  {
   "cell_type": "markdown",
   "metadata": {},
   "source": [
    "# 2. Data"
   ]
  },
  {
   "cell_type": "code",
   "execution_count": 2,
   "metadata": {
    "execution": {
     "iopub.execute_input": "2022-09-20T05:24:34.183564Z",
     "iopub.status.busy": "2022-09-20T05:24:34.183209Z",
     "iopub.status.idle": "2022-09-20T05:24:40.576374Z",
     "shell.execute_reply": "2022-09-20T05:24:40.575231Z",
     "shell.execute_reply.started": "2022-09-20T05:24:34.183533Z"
    }
   },
   "outputs": [],
   "source": [
    "#loading the review dataset\n",
    "review = pd.read_csv('../input/yelp-reviews-phoenix-az/review_prepared.csv')"
   ]
  },
  {
   "cell_type": "code",
   "execution_count": 3,
   "metadata": {
    "execution": {
     "iopub.execute_input": "2022-09-20T05:24:40.578191Z",
     "iopub.status.busy": "2022-09-20T05:24:40.577806Z",
     "iopub.status.idle": "2022-09-20T05:24:40.620022Z",
     "shell.execute_reply": "2022-09-20T05:24:40.619008Z",
     "shell.execute_reply.started": "2022-09-20T05:24:40.578152Z"
    }
   },
   "outputs": [],
   "source": [
    "#filtering out the stars and text columns\n",
    "reviews = review[['text', 'stars']].reset_index().drop(columns='index')"
   ]
  },
  {
   "cell_type": "code",
   "execution_count": 4,
   "metadata": {
    "execution": {
     "iopub.execute_input": "2022-09-20T05:24:40.622967Z",
     "iopub.status.busy": "2022-09-20T05:24:40.622596Z",
     "iopub.status.idle": "2022-09-20T05:24:40.640766Z",
     "shell.execute_reply": "2022-09-20T05:24:40.639598Z",
     "shell.execute_reply.started": "2022-09-20T05:24:40.622934Z"
    }
   },
   "outputs": [
    {
     "name": "stdout",
     "output_type": "stream",
     "text": [
      "(229130, 2)\n"
     ]
    },
    {
     "data": {
      "text/html": [
       "<div>\n",
       "<style scoped>\n",
       "    .dataframe tbody tr th:only-of-type {\n",
       "        vertical-align: middle;\n",
       "    }\n",
       "\n",
       "    .dataframe tbody tr th {\n",
       "        vertical-align: top;\n",
       "    }\n",
       "\n",
       "    .dataframe thead th {\n",
       "        text-align: right;\n",
       "    }\n",
       "</style>\n",
       "<table border=\"1\" class=\"dataframe\">\n",
       "  <thead>\n",
       "    <tr style=\"text-align: right;\">\n",
       "      <th></th>\n",
       "      <th>text</th>\n",
       "      <th>stars</th>\n",
       "    </tr>\n",
       "  </thead>\n",
       "  <tbody>\n",
       "    <tr>\n",
       "      <th>0</th>\n",
       "      <td>My wife took me here on my birthday for breakf...</td>\n",
       "      <td>5</td>\n",
       "    </tr>\n",
       "    <tr>\n",
       "      <th>1</th>\n",
       "      <td>I have no idea why some people give bad review...</td>\n",
       "      <td>5</td>\n",
       "    </tr>\n",
       "    <tr>\n",
       "      <th>2</th>\n",
       "      <td>love the gyro plate. Rice is so good and I als...</td>\n",
       "      <td>4</td>\n",
       "    </tr>\n",
       "    <tr>\n",
       "      <th>3</th>\n",
       "      <td>Rosie, Dakota, and I LOVE Chaparral Dog Park!!...</td>\n",
       "      <td>5</td>\n",
       "    </tr>\n",
       "    <tr>\n",
       "      <th>4</th>\n",
       "      <td>General Manager Scott Petello is a good egg!!!...</td>\n",
       "      <td>5</td>\n",
       "    </tr>\n",
       "  </tbody>\n",
       "</table>\n",
       "</div>"
      ],
      "text/plain": [
       "                                                text  stars\n",
       "0  My wife took me here on my birthday for breakf...      5\n",
       "1  I have no idea why some people give bad review...      5\n",
       "2  love the gyro plate. Rice is so good and I als...      4\n",
       "3  Rosie, Dakota, and I LOVE Chaparral Dog Park!!...      5\n",
       "4  General Manager Scott Petello is a good egg!!!...      5"
      ]
     },
     "execution_count": 4,
     "metadata": {},
     "output_type": "execute_result"
    }
   ],
   "source": [
    "print(reviews.shape)\n",
    "reviews.head()"
   ]
  },
  {
   "cell_type": "markdown",
   "metadata": {},
   "source": [
    "# 3. Preparing Text"
   ]
  },
  {
   "cell_type": "markdown",
   "metadata": {},
   "source": [
    "## 3.1 Removing Missing values\n",
    "\n",
    "Checking if there are missing values I didn't catch the first time"
   ]
  },
  {
   "cell_type": "code",
   "execution_count": 5,
   "metadata": {
    "execution": {
     "iopub.execute_input": "2022-09-20T05:24:40.642391Z",
     "iopub.status.busy": "2022-09-20T05:24:40.642047Z",
     "iopub.status.idle": "2022-09-20T05:24:40.681324Z",
     "shell.execute_reply": "2022-09-20T05:24:40.680070Z",
     "shell.execute_reply.started": "2022-09-20T05:24:40.642362Z"
    }
   },
   "outputs": [
    {
     "data": {
      "text/plain": [
       "text     6\n",
       "stars    0\n",
       "dtype: int64"
      ]
     },
     "execution_count": 5,
     "metadata": {},
     "output_type": "execute_result"
    }
   ],
   "source": [
    "reviews.isnull().sum()"
   ]
  },
  {
   "cell_type": "code",
   "execution_count": 6,
   "metadata": {
    "execution": {
     "iopub.execute_input": "2022-09-20T05:24:40.683056Z",
     "iopub.status.busy": "2022-09-20T05:24:40.682733Z",
     "iopub.status.idle": "2022-09-20T05:24:40.735429Z",
     "shell.execute_reply": "2022-09-20T05:24:40.734359Z",
     "shell.execute_reply.started": "2022-09-20T05:24:40.683028Z"
    }
   },
   "outputs": [
    {
     "name": "stdout",
     "output_type": "stream",
     "text": [
      "(229124, 2)\n"
     ]
    }
   ],
   "source": [
    "reviews.dropna(inplace = True)\n",
    "print(reviews.shape)"
   ]
  },
  {
   "cell_type": "markdown",
   "metadata": {},
   "source": [
    "## 3.2 Creating three categories of labels from ratings\n",
    "\n",
    "Creating lables of positive, negative, and neutral for their corresponding ratings."
   ]
  },
  {
   "cell_type": "code",
   "execution_count": 7,
   "metadata": {
    "execution": {
     "iopub.execute_input": "2022-09-20T05:24:40.736947Z",
     "iopub.status.busy": "2022-09-20T05:24:40.736608Z",
     "iopub.status.idle": "2022-09-20T05:24:40.752085Z",
     "shell.execute_reply": "2022-09-20T05:24:40.751039Z",
     "shell.execute_reply.started": "2022-09-20T05:24:40.736917Z"
    }
   },
   "outputs": [
    {
     "data": {
      "text/plain": [
       "4    79702\n",
       "5    75911\n",
       "3    35266\n",
       "2    20897\n",
       "1    17348\n",
       "Name: stars, dtype: int64"
      ]
     },
     "execution_count": 7,
     "metadata": {},
     "output_type": "execute_result"
    }
   ],
   "source": [
    "reviews['stars'].value_counts()"
   ]
  },
  {
   "cell_type": "code",
   "execution_count": 8,
   "metadata": {
    "execution": {
     "iopub.execute_input": "2022-09-20T05:24:40.753828Z",
     "iopub.status.busy": "2022-09-20T05:24:40.753458Z",
     "iopub.status.idle": "2022-09-20T05:24:40.816269Z",
     "shell.execute_reply": "2022-09-20T05:24:40.815108Z",
     "shell.execute_reply.started": "2022-09-20T05:24:40.753798Z"
    }
   },
   "outputs": [
    {
     "data": {
      "text/html": [
       "<div>\n",
       "<style scoped>\n",
       "    .dataframe tbody tr th:only-of-type {\n",
       "        vertical-align: middle;\n",
       "    }\n",
       "\n",
       "    .dataframe tbody tr th {\n",
       "        vertical-align: top;\n",
       "    }\n",
       "\n",
       "    .dataframe thead th {\n",
       "        text-align: right;\n",
       "    }\n",
       "</style>\n",
       "<table border=\"1\" class=\"dataframe\">\n",
       "  <thead>\n",
       "    <tr style=\"text-align: right;\">\n",
       "      <th></th>\n",
       "      <th>text</th>\n",
       "      <th>stars</th>\n",
       "      <th>label</th>\n",
       "    </tr>\n",
       "  </thead>\n",
       "  <tbody>\n",
       "    <tr>\n",
       "      <th>0</th>\n",
       "      <td>My wife took me here on my birthday for breakf...</td>\n",
       "      <td>5</td>\n",
       "      <td>positive</td>\n",
       "    </tr>\n",
       "    <tr>\n",
       "      <th>1</th>\n",
       "      <td>I have no idea why some people give bad review...</td>\n",
       "      <td>5</td>\n",
       "      <td>positive</td>\n",
       "    </tr>\n",
       "    <tr>\n",
       "      <th>2</th>\n",
       "      <td>love the gyro plate. Rice is so good and I als...</td>\n",
       "      <td>4</td>\n",
       "      <td>positive</td>\n",
       "    </tr>\n",
       "    <tr>\n",
       "      <th>3</th>\n",
       "      <td>Rosie, Dakota, and I LOVE Chaparral Dog Park!!...</td>\n",
       "      <td>5</td>\n",
       "      <td>positive</td>\n",
       "    </tr>\n",
       "    <tr>\n",
       "      <th>4</th>\n",
       "      <td>General Manager Scott Petello is a good egg!!!...</td>\n",
       "      <td>5</td>\n",
       "      <td>positive</td>\n",
       "    </tr>\n",
       "  </tbody>\n",
       "</table>\n",
       "</div>"
      ],
      "text/plain": [
       "                                                text  stars     label\n",
       "0  My wife took me here on my birthday for breakf...      5  positive\n",
       "1  I have no idea why some people give bad review...      5  positive\n",
       "2  love the gyro plate. Rice is so good and I als...      4  positive\n",
       "3  Rosie, Dakota, and I LOVE Chaparral Dog Park!!...      5  positive\n",
       "4  General Manager Scott Petello is a good egg!!!...      5  positive"
      ]
     },
     "execution_count": 8,
     "metadata": {},
     "output_type": "execute_result"
    }
   ],
   "source": [
    "#creating labels from stars\n",
    "reviews['label'] = reviews['stars'].apply(lambda s: 'positive' if s >= 4 else ('negative' if s <= 2 else 'neutral'))\n",
    "\n",
    "reviews.head()"
   ]
  },
  {
   "cell_type": "code",
   "execution_count": 9,
   "metadata": {
    "execution": {
     "iopub.execute_input": "2022-09-20T05:24:40.818531Z",
     "iopub.status.busy": "2022-09-20T05:24:40.817748Z",
     "iopub.status.idle": "2022-09-20T05:24:40.836587Z",
     "shell.execute_reply": "2022-09-20T05:24:40.835696Z",
     "shell.execute_reply.started": "2022-09-20T05:24:40.818489Z"
    }
   },
   "outputs": [
    {
     "data": {
      "text/plain": [
       "positive    155613\n",
       "negative     38245\n",
       "neutral      35266\n",
       "Name: label, dtype: int64"
      ]
     },
     "execution_count": 9,
     "metadata": {},
     "output_type": "execute_result"
    }
   ],
   "source": [
    "reviews['label'].value_counts()"
   ]
  },
  {
   "cell_type": "markdown",
   "metadata": {},
   "source": [
    "## 3.3 Train/Test Split"
   ]
  },
  {
   "cell_type": "code",
   "execution_count": 10,
   "metadata": {
    "execution": {
     "iopub.execute_input": "2022-09-20T05:24:40.842060Z",
     "iopub.status.busy": "2022-09-20T05:24:40.841666Z",
     "iopub.status.idle": "2022-09-20T05:24:40.849101Z",
     "shell.execute_reply": "2022-09-20T05:24:40.848078Z",
     "shell.execute_reply.started": "2022-09-20T05:24:40.842018Z"
    }
   },
   "outputs": [],
   "source": [
    "X = reviews['text']\n",
    "y = reviews['label']"
   ]
  },
  {
   "cell_type": "code",
   "execution_count": 11,
   "metadata": {
    "execution": {
     "iopub.execute_input": "2022-09-20T05:24:40.850888Z",
     "iopub.status.busy": "2022-09-20T05:24:40.850506Z",
     "iopub.status.idle": "2022-09-20T05:24:40.906361Z",
     "shell.execute_reply": "2022-09-20T05:24:40.905394Z",
     "shell.execute_reply.started": "2022-09-20T05:24:40.850830Z"
    }
   },
   "outputs": [],
   "source": [
    "X_train, X_test, y_train, y_test = train_test_split(X, y, test_size = 0.33, random_state = 42)"
   ]
  },
  {
   "cell_type": "code",
   "execution_count": 12,
   "metadata": {
    "execution": {
     "iopub.execute_input": "2022-09-20T05:24:40.908106Z",
     "iopub.status.busy": "2022-09-20T05:24:40.907746Z",
     "iopub.status.idle": "2022-09-20T05:24:40.914747Z",
     "shell.execute_reply": "2022-09-20T05:24:40.913500Z",
     "shell.execute_reply.started": "2022-09-20T05:24:40.908075Z"
    }
   },
   "outputs": [
    {
     "name": "stdout",
     "output_type": "stream",
     "text": [
      "Shape of the X train set:  (153513,)\n",
      "Shape of the X test set:  (75611,)\n",
      "Shape of the y train set:  (153513,)\n",
      "Shape of the y test set:  (75611,)\n"
     ]
    }
   ],
   "source": [
    "print('Shape of the X train set: ', X_train.shape)\n",
    "print('Shape of the X test set: ', X_test.shape)\n",
    "print('Shape of the y train set: ', y_train.shape)\n",
    "print('Shape of the y test set: ', y_test.shape)"
   ]
  },
  {
   "cell_type": "code",
   "execution_count": 13,
   "metadata": {
    "execution": {
     "iopub.execute_input": "2022-09-20T05:24:40.917209Z",
     "iopub.status.busy": "2022-09-20T05:24:40.916280Z",
     "iopub.status.idle": "2022-09-20T05:24:40.979809Z",
     "shell.execute_reply": "2022-09-20T05:24:40.978430Z",
     "shell.execute_reply.started": "2022-09-20T05:24:40.917165Z"
    }
   },
   "outputs": [],
   "source": [
    "from sklearn.preprocessing import LabelEncoder\n",
    "label_encoder = LabelEncoder()\n",
    "\n",
    "y_train = label_encoder.fit_transform(y_train)\n",
    "y_test = label_encoder.fit_transform(y_test)"
   ]
  },
  {
   "cell_type": "markdown",
   "metadata": {},
   "source": [
    "## 3.4 Vectorizing the text"
   ]
  },
  {
   "cell_type": "code",
   "execution_count": 14,
   "metadata": {
    "execution": {
     "iopub.execute_input": "2022-09-20T05:24:40.981868Z",
     "iopub.status.busy": "2022-09-20T05:24:40.981363Z",
     "iopub.status.idle": "2022-09-20T05:24:40.991996Z",
     "shell.execute_reply": "2022-09-20T05:24:40.990682Z",
     "shell.execute_reply.started": "2022-09-20T05:24:40.981824Z"
    }
   },
   "outputs": [],
   "source": [
    "#variable that contains stopwords\n",
    "stopwords = set(stopwords.words('english'))"
   ]
  },
  {
   "cell_type": "code",
   "execution_count": 15,
   "metadata": {
    "execution": {
     "iopub.execute_input": "2022-09-20T05:24:40.993944Z",
     "iopub.status.busy": "2022-09-20T05:24:40.993517Z",
     "iopub.status.idle": "2022-09-20T05:24:41.000671Z",
     "shell.execute_reply": "2022-09-20T05:24:40.999430Z",
     "shell.execute_reply.started": "2022-09-20T05:24:40.993910Z"
    }
   },
   "outputs": [],
   "source": [
    "#building the vectorizer\n",
    "vectorizer = TfidfVectorizer(lowercase = True, \n",
    "                             stop_words = stopwords, \n",
    "                             ngram_range = (1,2), \n",
    "                             min_df = 0.01)"
   ]
  },
  {
   "cell_type": "code",
   "execution_count": 16,
   "metadata": {
    "execution": {
     "iopub.execute_input": "2022-09-20T05:24:41.004795Z",
     "iopub.status.busy": "2022-09-20T05:24:41.003778Z",
     "iopub.status.idle": "2022-09-20T05:25:14.604663Z",
     "shell.execute_reply": "2022-09-20T05:25:14.603377Z",
     "shell.execute_reply.started": "2022-09-20T05:24:41.004756Z"
    }
   },
   "outputs": [
    {
     "name": "stdout",
     "output_type": "stream",
     "text": [
      "Shape of X_train vectorized:  (153513,)\n"
     ]
    }
   ],
   "source": [
    "#vectorizing the training set\n",
    "X_train_vect = vectorizer.fit_transform(X_train)\n",
    "print('Shape of X_train vectorized: ',X_train.shape)"
   ]
  },
  {
   "cell_type": "code",
   "execution_count": 17,
   "metadata": {
    "execution": {
     "iopub.execute_input": "2022-09-20T05:25:14.606582Z",
     "iopub.status.busy": "2022-09-20T05:25:14.606108Z",
     "iopub.status.idle": "2022-09-20T05:25:31.377480Z",
     "shell.execute_reply": "2022-09-20T05:25:31.376137Z",
     "shell.execute_reply.started": "2022-09-20T05:25:14.606540Z"
    }
   },
   "outputs": [
    {
     "name": "stdout",
     "output_type": "stream",
     "text": [
      "Shape of X_test vectorized:  (75611,)\n"
     ]
    }
   ],
   "source": [
    "#vectorizing the test set\n",
    "X_test_vect = vectorizer.fit_transform(X_test)\n",
    "print('Shape of X_test vectorized: ',X_test.shape)"
   ]
  },
  {
   "cell_type": "markdown",
   "metadata": {},
   "source": [
    "## 3.5 Feature Scaling"
   ]
  },
  {
   "cell_type": "code",
   "execution_count": 18,
   "metadata": {
    "execution": {
     "iopub.execute_input": "2022-09-20T05:25:31.379277Z",
     "iopub.status.busy": "2022-09-20T05:25:31.378958Z",
     "iopub.status.idle": "2022-09-20T05:25:31.383981Z",
     "shell.execute_reply": "2022-09-20T05:25:31.382472Z",
     "shell.execute_reply.started": "2022-09-20T05:25:31.379248Z"
    }
   },
   "outputs": [],
   "source": [
    "#initializing StandardScaler\n",
    "scaler = StandardScaler(with_mean = False)"
   ]
  },
  {
   "cell_type": "code",
   "execution_count": 19,
   "metadata": {
    "execution": {
     "iopub.execute_input": "2022-09-20T05:25:31.385773Z",
     "iopub.status.busy": "2022-09-20T05:25:31.385386Z",
     "iopub.status.idle": "2022-09-20T05:25:31.587464Z",
     "shell.execute_reply": "2022-09-20T05:25:31.586411Z",
     "shell.execute_reply.started": "2022-09-20T05:25:31.385742Z"
    }
   },
   "outputs": [],
   "source": [
    "#scaling X_train_vect\n",
    "X_train_scaled = scaler.fit_transform(X_train_vect)"
   ]
  },
  {
   "cell_type": "code",
   "execution_count": 20,
   "metadata": {
    "execution": {
     "iopub.execute_input": "2022-09-20T05:25:31.589174Z",
     "iopub.status.busy": "2022-09-20T05:25:31.588751Z",
     "iopub.status.idle": "2022-09-20T05:25:31.686451Z",
     "shell.execute_reply": "2022-09-20T05:25:31.685423Z",
     "shell.execute_reply.started": "2022-09-20T05:25:31.589144Z"
    }
   },
   "outputs": [],
   "source": [
    "#scaling X_test_vect\n",
    "X_test_scaled = scaler.fit_transform(X_test_vect)"
   ]
  },
  {
   "cell_type": "code",
   "execution_count": 21,
   "metadata": {
    "execution": {
     "iopub.execute_input": "2022-09-20T05:25:31.688235Z",
     "iopub.status.busy": "2022-09-20T05:25:31.687763Z",
     "iopub.status.idle": "2022-09-20T05:25:31.694580Z",
     "shell.execute_reply": "2022-09-20T05:25:31.693330Z",
     "shell.execute_reply.started": "2022-09-20T05:25:31.688193Z"
    }
   },
   "outputs": [
    {
     "name": "stdout",
     "output_type": "stream",
     "text": [
      "(153513, 1095)\n",
      "(153513,)\n"
     ]
    }
   ],
   "source": [
    "print(X_train_scaled.shape)\n",
    "print(y_train.shape)"
   ]
  },
  {
   "cell_type": "markdown",
   "metadata": {},
   "source": [
    "# 4. Classifcation"
   ]
  },
  {
   "cell_type": "markdown",
   "metadata": {},
   "source": [
    "## 4.1 Further splitting data into a train and validation set\n",
    "\n",
    "For better model performance, I decided to use GridSearch to find the best parameters for each model used, as well as Stratified k-fold Cross Validation, as my dataset is rather imbalanced."
   ]
  },
  {
   "cell_type": "code",
   "execution_count": 22,
   "metadata": {
    "execution": {
     "iopub.execute_input": "2022-09-20T05:25:31.696349Z",
     "iopub.status.busy": "2022-09-20T05:25:31.695947Z",
     "iopub.status.idle": "2022-09-20T05:25:31.744926Z",
     "shell.execute_reply": "2022-09-20T05:25:31.743622Z",
     "shell.execute_reply.started": "2022-09-20T05:25:31.696318Z"
    }
   },
   "outputs": [],
   "source": [
    "#splitting the train dataset into a train and validation dataset\n",
    "X_train, X_val, y_train, y_val = train_test_split(X_train_scaled, y_train, \n",
    "                                                  test_size = 0.3, random_state = 42)"
   ]
  },
  {
   "cell_type": "code",
   "execution_count": 23,
   "metadata": {
    "execution": {
     "iopub.execute_input": "2022-09-20T05:25:31.747708Z",
     "iopub.status.busy": "2022-09-20T05:25:31.746685Z",
     "iopub.status.idle": "2022-09-20T05:25:31.753065Z",
     "shell.execute_reply": "2022-09-20T05:25:31.751913Z",
     "shell.execute_reply.started": "2022-09-20T05:25:31.747665Z"
    }
   },
   "outputs": [],
   "source": [
    "#initializing the Stratified K-fold CV\n",
    "skf = StratifiedKFold(n_splits = 5, random_state = 42, shuffle = True)"
   ]
  },
  {
   "cell_type": "markdown",
   "metadata": {},
   "source": [
    "## 4.2 Logistic Regression"
   ]
  },
  {
   "cell_type": "code",
   "execution_count": 24,
   "metadata": {
    "execution": {
     "iopub.execute_input": "2022-09-20T05:25:31.754685Z",
     "iopub.status.busy": "2022-09-20T05:25:31.754298Z",
     "iopub.status.idle": "2022-09-20T05:25:31.764750Z",
     "shell.execute_reply": "2022-09-20T05:25:31.763555Z",
     "shell.execute_reply.started": "2022-09-20T05:25:31.754646Z"
    }
   },
   "outputs": [],
   "source": [
    "#establishing parameters for GridSearch\n",
    "parameters = {'penalty':['l1','l2'],\n",
    "              'C':[0.01,0.05,0.5,5]}"
   ]
  },
  {
   "cell_type": "code",
   "execution_count": 25,
   "metadata": {
    "execution": {
     "iopub.execute_input": "2022-09-20T05:25:31.766702Z",
     "iopub.status.busy": "2022-09-20T05:25:31.766192Z",
     "iopub.status.idle": "2022-09-20T05:25:31.776508Z",
     "shell.execute_reply": "2022-09-20T05:25:31.775449Z",
     "shell.execute_reply.started": "2022-09-20T05:25:31.766609Z"
    }
   },
   "outputs": [],
   "source": [
    "#fitting the model\n",
    "log_reg = Classification('Logistic Regression', X_train, X_val, y_train, y_val)"
   ]
  },
  {
   "cell_type": "code",
   "execution_count": 26,
   "metadata": {
    "execution": {
     "iopub.execute_input": "2022-09-20T05:25:31.778024Z",
     "iopub.status.busy": "2022-09-20T05:25:31.777698Z",
     "iopub.status.idle": "2022-09-20T05:26:30.747285Z",
     "shell.execute_reply": "2022-09-20T05:26:30.745975Z",
     "shell.execute_reply.started": "2022-09-20T05:25:31.777996Z"
    }
   },
   "outputs": [
    {
     "data": {
      "text/html": [
       "<div>\n",
       "<style scoped>\n",
       "    .dataframe tbody tr th:only-of-type {\n",
       "        vertical-align: middle;\n",
       "    }\n",
       "\n",
       "    .dataframe tbody tr th {\n",
       "        vertical-align: top;\n",
       "    }\n",
       "\n",
       "    .dataframe thead th {\n",
       "        text-align: right;\n",
       "    }\n",
       "</style>\n",
       "<table border=\"1\" class=\"dataframe\">\n",
       "  <thead>\n",
       "    <tr style=\"text-align: right;\">\n",
       "      <th></th>\n",
       "      <th>Model Name</th>\n",
       "      <th>Train Accuracy</th>\n",
       "      <th>Validation Accuracy</th>\n",
       "      <th>Accuracy Difference</th>\n",
       "    </tr>\n",
       "  </thead>\n",
       "  <tbody>\n",
       "    <tr>\n",
       "      <th>0</th>\n",
       "      <td>Logistic Regression</td>\n",
       "      <td>0.801329</td>\n",
       "      <td>0.788683</td>\n",
       "      <td>0.012646</td>\n",
       "    </tr>\n",
       "  </tbody>\n",
       "</table>\n",
       "</div>"
      ],
      "text/plain": [
       "            Model Name  Train Accuracy  Validation Accuracy  \\\n",
       "0  Logistic Regression        0.801329             0.788683   \n",
       "\n",
       "   Accuracy Difference  \n",
       "0             0.012646  "
      ]
     },
     "metadata": {},
     "output_type": "display_data"
    },
    {
     "name": "stdout",
     "output_type": "stream",
     "text": [
      "The best hyperparameters are:  {'C': 0.01, 'penalty': 'l2'} \n",
      "\n",
      "CPU times: user 12.8 s, sys: 201 ms, total: 13 s\n",
      "Wall time: 58.9 s\n"
     ]
    },
    {
     "data": {
      "text/html": [
       "<div>\n",
       "<style scoped>\n",
       "    .dataframe tbody tr th:only-of-type {\n",
       "        vertical-align: middle;\n",
       "    }\n",
       "\n",
       "    .dataframe tbody tr th {\n",
       "        vertical-align: top;\n",
       "    }\n",
       "\n",
       "    .dataframe thead th {\n",
       "        text-align: right;\n",
       "    }\n",
       "</style>\n",
       "<table border=\"1\" class=\"dataframe\">\n",
       "  <thead>\n",
       "    <tr style=\"text-align: right;\">\n",
       "      <th></th>\n",
       "      <th>0</th>\n",
       "      <th>1</th>\n",
       "      <th>2</th>\n",
       "      <th>accuracy</th>\n",
       "      <th>macro avg</th>\n",
       "    </tr>\n",
       "  </thead>\n",
       "  <tbody>\n",
       "    <tr>\n",
       "      <th>precision</th>\n",
       "      <td>0.694542</td>\n",
       "      <td>0.512260</td>\n",
       "      <td>0.838515</td>\n",
       "      <td>0.788683</td>\n",
       "      <td>0.681772</td>\n",
       "    </tr>\n",
       "    <tr>\n",
       "      <th>recall</th>\n",
       "      <td>0.678042</td>\n",
       "      <td>0.268962</td>\n",
       "      <td>0.934322</td>\n",
       "      <td>0.788683</td>\n",
       "      <td>0.627108</td>\n",
       "    </tr>\n",
       "    <tr>\n",
       "      <th>f1-score</th>\n",
       "      <td>0.686192</td>\n",
       "      <td>0.352725</td>\n",
       "      <td>0.883830</td>\n",
       "      <td>0.788683</td>\n",
       "      <td>0.640916</td>\n",
       "    </tr>\n",
       "  </tbody>\n",
       "</table>\n",
       "</div>"
      ],
      "text/plain": [
       "                  0         1         2  accuracy  macro avg\n",
       "precision  0.694542  0.512260  0.838515  0.788683   0.681772\n",
       "recall     0.678042  0.268962  0.934322  0.788683   0.627108\n",
       "f1-score   0.686192  0.352725  0.883830  0.788683   0.640916"
      ]
     },
     "execution_count": 26,
     "metadata": {},
     "output_type": "execute_result"
    }
   ],
   "source": [
    "%%time\n",
    "\n",
    "#getting scores\n",
    "log_reg.get_scores(parameters, skf)"
   ]
  },
  {
   "cell_type": "markdown",
   "metadata": {},
   "source": [
    "## 4.3 Multinomial Naive Bayes"
   ]
  },
  {
   "cell_type": "code",
   "execution_count": 27,
   "metadata": {
    "execution": {
     "iopub.execute_input": "2022-09-20T05:26:30.749208Z",
     "iopub.status.busy": "2022-09-20T05:26:30.748879Z",
     "iopub.status.idle": "2022-09-20T05:26:30.755172Z",
     "shell.execute_reply": "2022-09-20T05:26:30.753742Z",
     "shell.execute_reply.started": "2022-09-20T05:26:30.749175Z"
    }
   },
   "outputs": [],
   "source": [
    "#establishing parameters for GridSearch\n",
    "parameters = {'alpha': [0.001, 0.01, 0.5, 1.0]}"
   ]
  },
  {
   "cell_type": "code",
   "execution_count": 28,
   "metadata": {
    "execution": {
     "iopub.execute_input": "2022-09-20T05:26:30.762409Z",
     "iopub.status.busy": "2022-09-20T05:26:30.762057Z",
     "iopub.status.idle": "2022-09-20T05:26:30.769032Z",
     "shell.execute_reply": "2022-09-20T05:26:30.767700Z",
     "shell.execute_reply.started": "2022-09-20T05:26:30.762378Z"
    }
   },
   "outputs": [],
   "source": [
    "#fitting the model\n",
    "mnb = Classification('Multinomial Naive Bayes', X_train, X_val, y_train, y_val)"
   ]
  },
  {
   "cell_type": "code",
   "execution_count": 29,
   "metadata": {
    "execution": {
     "iopub.execute_input": "2022-09-20T05:26:30.772947Z",
     "iopub.status.busy": "2022-09-20T05:26:30.772554Z",
     "iopub.status.idle": "2022-09-20T05:26:31.904990Z",
     "shell.execute_reply": "2022-09-20T05:26:31.903706Z",
     "shell.execute_reply.started": "2022-09-20T05:26:30.772913Z"
    }
   },
   "outputs": [
    {
     "data": {
      "text/html": [
       "<div>\n",
       "<style scoped>\n",
       "    .dataframe tbody tr th:only-of-type {\n",
       "        vertical-align: middle;\n",
       "    }\n",
       "\n",
       "    .dataframe tbody tr th {\n",
       "        vertical-align: top;\n",
       "    }\n",
       "\n",
       "    .dataframe thead th {\n",
       "        text-align: right;\n",
       "    }\n",
       "</style>\n",
       "<table border=\"1\" class=\"dataframe\">\n",
       "  <thead>\n",
       "    <tr style=\"text-align: right;\">\n",
       "      <th></th>\n",
       "      <th>Model Name</th>\n",
       "      <th>Train Accuracy</th>\n",
       "      <th>Validation Accuracy</th>\n",
       "      <th>Accuracy Difference</th>\n",
       "    </tr>\n",
       "  </thead>\n",
       "  <tbody>\n",
       "    <tr>\n",
       "      <th>0</th>\n",
       "      <td>Multinomial Naive Bayes</td>\n",
       "      <td>0.696545</td>\n",
       "      <td>0.687671</td>\n",
       "      <td>0.008874</td>\n",
       "    </tr>\n",
       "  </tbody>\n",
       "</table>\n",
       "</div>"
      ],
      "text/plain": [
       "                Model Name  Train Accuracy  Validation Accuracy  \\\n",
       "0  Multinomial Naive Bayes        0.696545             0.687671   \n",
       "\n",
       "   Accuracy Difference  \n",
       "0             0.008874  "
      ]
     },
     "metadata": {},
     "output_type": "display_data"
    },
    {
     "name": "stdout",
     "output_type": "stream",
     "text": [
      "The best hyperparameters are:  {'alpha': 0.001} \n",
      "\n",
      "CPU times: user 367 ms, sys: 30.1 ms, total: 397 ms\n",
      "Wall time: 1.12 s\n"
     ]
    },
    {
     "data": {
      "text/html": [
       "<div>\n",
       "<style scoped>\n",
       "    .dataframe tbody tr th:only-of-type {\n",
       "        vertical-align: middle;\n",
       "    }\n",
       "\n",
       "    .dataframe tbody tr th {\n",
       "        vertical-align: top;\n",
       "    }\n",
       "\n",
       "    .dataframe thead th {\n",
       "        text-align: right;\n",
       "    }\n",
       "</style>\n",
       "<table border=\"1\" class=\"dataframe\">\n",
       "  <thead>\n",
       "    <tr style=\"text-align: right;\">\n",
       "      <th></th>\n",
       "      <th>0</th>\n",
       "      <th>1</th>\n",
       "      <th>2</th>\n",
       "      <th>accuracy</th>\n",
       "      <th>macro avg</th>\n",
       "    </tr>\n",
       "  </thead>\n",
       "  <tbody>\n",
       "    <tr>\n",
       "      <th>precision</th>\n",
       "      <td>0.526862</td>\n",
       "      <td>0.346822</td>\n",
       "      <td>0.910156</td>\n",
       "      <td>0.687671</td>\n",
       "      <td>0.594613</td>\n",
       "    </tr>\n",
       "    <tr>\n",
       "      <th>recall</th>\n",
       "      <td>0.673185</td>\n",
       "      <td>0.561293</td>\n",
       "      <td>0.720061</td>\n",
       "      <td>0.687671</td>\n",
       "      <td>0.651513</td>\n",
       "    </tr>\n",
       "    <tr>\n",
       "      <th>f1-score</th>\n",
       "      <td>0.591103</td>\n",
       "      <td>0.428732</td>\n",
       "      <td>0.804025</td>\n",
       "      <td>0.687671</td>\n",
       "      <td>0.607953</td>\n",
       "    </tr>\n",
       "  </tbody>\n",
       "</table>\n",
       "</div>"
      ],
      "text/plain": [
       "                  0         1         2  accuracy  macro avg\n",
       "precision  0.526862  0.346822  0.910156  0.687671   0.594613\n",
       "recall     0.673185  0.561293  0.720061  0.687671   0.651513\n",
       "f1-score   0.591103  0.428732  0.804025  0.687671   0.607953"
      ]
     },
     "execution_count": 29,
     "metadata": {},
     "output_type": "execute_result"
    }
   ],
   "source": [
    "%%time\n",
    "\n",
    "#getting scores\n",
    "mnb.get_scores(parameters, skf)"
   ]
  },
  {
   "cell_type": "markdown",
   "metadata": {},
   "source": [
    "## 4.4 Random Forest"
   ]
  },
  {
   "cell_type": "code",
   "execution_count": 30,
   "metadata": {
    "execution": {
     "iopub.execute_input": "2022-09-20T05:26:31.907411Z",
     "iopub.status.busy": "2022-09-20T05:26:31.906746Z",
     "iopub.status.idle": "2022-09-20T05:26:31.913382Z",
     "shell.execute_reply": "2022-09-20T05:26:31.912205Z",
     "shell.execute_reply.started": "2022-09-20T05:26:31.907364Z"
    }
   },
   "outputs": [],
   "source": [
    "#establishing parameters for GridSearch\n",
    "parameters = {'min_samples_leaf':[1,3,15,50],\n",
    "          'max_depth':[5,10,15,20]}"
   ]
  },
  {
   "cell_type": "code",
   "execution_count": 31,
   "metadata": {
    "execution": {
     "iopub.execute_input": "2022-09-20T05:26:31.915811Z",
     "iopub.status.busy": "2022-09-20T05:26:31.915091Z",
     "iopub.status.idle": "2022-09-20T05:26:31.924674Z",
     "shell.execute_reply": "2022-09-20T05:26:31.923570Z",
     "shell.execute_reply.started": "2022-09-20T05:26:31.915768Z"
    }
   },
   "outputs": [],
   "source": [
    "#fitting the model\n",
    "rf = Classification('Random Forest', X_train, X_val, y_train, y_val)"
   ]
  },
  {
   "cell_type": "code",
   "execution_count": 32,
   "metadata": {
    "execution": {
     "iopub.execute_input": "2022-09-20T05:26:31.929100Z",
     "iopub.status.busy": "2022-09-20T05:26:31.926199Z",
     "iopub.status.idle": "2022-09-20T05:30:55.440517Z",
     "shell.execute_reply": "2022-09-20T05:30:55.439203Z",
     "shell.execute_reply.started": "2022-09-20T05:26:31.929053Z"
    }
   },
   "outputs": [
    {
     "data": {
      "text/html": [
       "<div>\n",
       "<style scoped>\n",
       "    .dataframe tbody tr th:only-of-type {\n",
       "        vertical-align: middle;\n",
       "    }\n",
       "\n",
       "    .dataframe tbody tr th {\n",
       "        vertical-align: top;\n",
       "    }\n",
       "\n",
       "    .dataframe thead th {\n",
       "        text-align: right;\n",
       "    }\n",
       "</style>\n",
       "<table border=\"1\" class=\"dataframe\">\n",
       "  <thead>\n",
       "    <tr style=\"text-align: right;\">\n",
       "      <th></th>\n",
       "      <th>Model Name</th>\n",
       "      <th>Train Accuracy</th>\n",
       "      <th>Validation Accuracy</th>\n",
       "      <th>Accuracy Difference</th>\n",
       "    </tr>\n",
       "  </thead>\n",
       "  <tbody>\n",
       "    <tr>\n",
       "      <th>0</th>\n",
       "      <td>Random Forest</td>\n",
       "      <td>0.760727</td>\n",
       "      <td>0.717962</td>\n",
       "      <td>0.042766</td>\n",
       "    </tr>\n",
       "  </tbody>\n",
       "</table>\n",
       "</div>"
      ],
      "text/plain": [
       "      Model Name  Train Accuracy  Validation Accuracy  Accuracy Difference\n",
       "0  Random Forest        0.760727             0.717962             0.042766"
      ]
     },
     "metadata": {},
     "output_type": "display_data"
    },
    {
     "name": "stdout",
     "output_type": "stream",
     "text": [
      "The best hyperparameters are:  {'max_depth': 20, 'min_samples_leaf': 1} \n",
      "\n",
      "CPU times: user 3min 36s, sys: 500 ms, total: 3min 36s\n",
      "Wall time: 4min 23s\n"
     ]
    },
    {
     "data": {
      "text/html": [
       "<div>\n",
       "<style scoped>\n",
       "    .dataframe tbody tr th:only-of-type {\n",
       "        vertical-align: middle;\n",
       "    }\n",
       "\n",
       "    .dataframe tbody tr th {\n",
       "        vertical-align: top;\n",
       "    }\n",
       "\n",
       "    .dataframe thead th {\n",
       "        text-align: right;\n",
       "    }\n",
       "</style>\n",
       "<table border=\"1\" class=\"dataframe\">\n",
       "  <thead>\n",
       "    <tr style=\"text-align: right;\">\n",
       "      <th></th>\n",
       "      <th>0</th>\n",
       "      <th>1</th>\n",
       "      <th>2</th>\n",
       "      <th>accuracy</th>\n",
       "      <th>macro avg</th>\n",
       "    </tr>\n",
       "  </thead>\n",
       "  <tbody>\n",
       "    <tr>\n",
       "      <th>precision</th>\n",
       "      <td>0.789629</td>\n",
       "      <td>0.523810</td>\n",
       "      <td>0.714804</td>\n",
       "      <td>0.717962</td>\n",
       "      <td>0.676081</td>\n",
       "    </tr>\n",
       "    <tr>\n",
       "      <th>recall</th>\n",
       "      <td>0.245833</td>\n",
       "      <td>0.012315</td>\n",
       "      <td>0.994087</td>\n",
       "      <td>0.717962</td>\n",
       "      <td>0.417412</td>\n",
       "    </tr>\n",
       "    <tr>\n",
       "      <th>f1-score</th>\n",
       "      <td>0.374937</td>\n",
       "      <td>0.024063</td>\n",
       "      <td>0.831624</td>\n",
       "      <td>0.717962</td>\n",
       "      <td>0.410208</td>\n",
       "    </tr>\n",
       "  </tbody>\n",
       "</table>\n",
       "</div>"
      ],
      "text/plain": [
       "                  0         1         2  accuracy  macro avg\n",
       "precision  0.789629  0.523810  0.714804  0.717962   0.676081\n",
       "recall     0.245833  0.012315  0.994087  0.717962   0.417412\n",
       "f1-score   0.374937  0.024063  0.831624  0.717962   0.410208"
      ]
     },
     "execution_count": 32,
     "metadata": {},
     "output_type": "execute_result"
    }
   ],
   "source": [
    "%%time\n",
    "\n",
    "#getting scores\n",
    "rf.get_scores(parameters, skf)"
   ]
  },
  {
   "cell_type": "markdown",
   "metadata": {},
   "source": [
    "## 4.5 Decision Tree"
   ]
  },
  {
   "cell_type": "code",
   "execution_count": 33,
   "metadata": {
    "execution": {
     "iopub.execute_input": "2022-09-20T05:30:55.442485Z",
     "iopub.status.busy": "2022-09-20T05:30:55.442024Z",
     "iopub.status.idle": "2022-09-20T05:30:55.447599Z",
     "shell.execute_reply": "2022-09-20T05:30:55.446416Z",
     "shell.execute_reply.started": "2022-09-20T05:30:55.442452Z"
    }
   },
   "outputs": [],
   "source": [
    "#establishing parameters for GridSearch\n",
    "parameters = {'min_samples_leaf':[3,15,50,100],\n",
    "              'max_depth':[3,5,7,10]}"
   ]
  },
  {
   "cell_type": "code",
   "execution_count": 34,
   "metadata": {
    "execution": {
     "iopub.execute_input": "2022-09-20T05:30:55.449861Z",
     "iopub.status.busy": "2022-09-20T05:30:55.448880Z",
     "iopub.status.idle": "2022-09-20T05:30:55.463621Z",
     "shell.execute_reply": "2022-09-20T05:30:55.462796Z",
     "shell.execute_reply.started": "2022-09-20T05:30:55.449826Z"
    }
   },
   "outputs": [],
   "source": [
    "#fitting the model\n",
    "tree = Classification('Decision Tree', X_train, X_val, y_train, y_val)"
   ]
  },
  {
   "cell_type": "code",
   "execution_count": 35,
   "metadata": {
    "execution": {
     "iopub.execute_input": "2022-09-20T05:30:55.465566Z",
     "iopub.status.busy": "2022-09-20T05:30:55.465016Z",
     "iopub.status.idle": "2022-09-20T05:36:22.759267Z",
     "shell.execute_reply": "2022-09-20T05:36:22.758119Z",
     "shell.execute_reply.started": "2022-09-20T05:30:55.465525Z"
    }
   },
   "outputs": [
    {
     "data": {
      "text/html": [
       "<div>\n",
       "<style scoped>\n",
       "    .dataframe tbody tr th:only-of-type {\n",
       "        vertical-align: middle;\n",
       "    }\n",
       "\n",
       "    .dataframe tbody tr th {\n",
       "        vertical-align: top;\n",
       "    }\n",
       "\n",
       "    .dataframe thead th {\n",
       "        text-align: right;\n",
       "    }\n",
       "</style>\n",
       "<table border=\"1\" class=\"dataframe\">\n",
       "  <thead>\n",
       "    <tr style=\"text-align: right;\">\n",
       "      <th></th>\n",
       "      <th>Model Name</th>\n",
       "      <th>Train Accuracy</th>\n",
       "      <th>Validation Accuracy</th>\n",
       "      <th>Accuracy Difference</th>\n",
       "    </tr>\n",
       "  </thead>\n",
       "  <tbody>\n",
       "    <tr>\n",
       "      <th>0</th>\n",
       "      <td>Decision Tree</td>\n",
       "      <td>0.711174</td>\n",
       "      <td>0.708625</td>\n",
       "      <td>0.002549</td>\n",
       "    </tr>\n",
       "  </tbody>\n",
       "</table>\n",
       "</div>"
      ],
      "text/plain": [
       "      Model Name  Train Accuracy  Validation Accuracy  Accuracy Difference\n",
       "0  Decision Tree        0.711174             0.708625             0.002549"
      ]
     },
     "metadata": {},
     "output_type": "display_data"
    },
    {
     "name": "stdout",
     "output_type": "stream",
     "text": [
      "The best hyperparameters are:  {'max_depth': 10, 'min_samples_leaf': 100} \n",
      "\n",
      "CPU times: user 3min 9s, sys: 122 ms, total: 3min 9s\n",
      "Wall time: 5min 27s\n"
     ]
    },
    {
     "data": {
      "text/html": [
       "<div>\n",
       "<style scoped>\n",
       "    .dataframe tbody tr th:only-of-type {\n",
       "        vertical-align: middle;\n",
       "    }\n",
       "\n",
       "    .dataframe tbody tr th {\n",
       "        vertical-align: top;\n",
       "    }\n",
       "\n",
       "    .dataframe thead th {\n",
       "        text-align: right;\n",
       "    }\n",
       "</style>\n",
       "<table border=\"1\" class=\"dataframe\">\n",
       "  <thead>\n",
       "    <tr style=\"text-align: right;\">\n",
       "      <th></th>\n",
       "      <th>0</th>\n",
       "      <th>1</th>\n",
       "      <th>2</th>\n",
       "      <th>accuracy</th>\n",
       "      <th>macro avg</th>\n",
       "    </tr>\n",
       "  </thead>\n",
       "  <tbody>\n",
       "    <tr>\n",
       "      <th>precision</th>\n",
       "      <td>0.694600</td>\n",
       "      <td>0.400000</td>\n",
       "      <td>0.720327</td>\n",
       "      <td>0.708625</td>\n",
       "      <td>0.604976</td>\n",
       "    </tr>\n",
       "    <tr>\n",
       "      <th>recall</th>\n",
       "      <td>0.195826</td>\n",
       "      <td>0.084523</td>\n",
       "      <td>0.976030</td>\n",
       "      <td>0.708625</td>\n",
       "      <td>0.418793</td>\n",
       "    </tr>\n",
       "    <tr>\n",
       "      <th>f1-score</th>\n",
       "      <td>0.305519</td>\n",
       "      <td>0.139556</td>\n",
       "      <td>0.828907</td>\n",
       "      <td>0.708625</td>\n",
       "      <td>0.424661</td>\n",
       "    </tr>\n",
       "  </tbody>\n",
       "</table>\n",
       "</div>"
      ],
      "text/plain": [
       "                  0         1         2  accuracy  macro avg\n",
       "precision  0.694600  0.400000  0.720327  0.708625   0.604976\n",
       "recall     0.195826  0.084523  0.976030  0.708625   0.418793\n",
       "f1-score   0.305519  0.139556  0.828907  0.708625   0.424661"
      ]
     },
     "execution_count": 35,
     "metadata": {},
     "output_type": "execute_result"
    }
   ],
   "source": [
    "%%time\n",
    "\n",
    "#getting scores\n",
    "tree.get_scores(parameters, skf)"
   ]
  },
  {
   "cell_type": "markdown",
   "metadata": {},
   "source": [
    "## 4.6 K Neighbors "
   ]
  },
  {
   "cell_type": "code",
   "execution_count": 36,
   "metadata": {
    "execution": {
     "iopub.execute_input": "2022-09-20T05:36:22.762823Z",
     "iopub.status.busy": "2022-09-20T05:36:22.761941Z",
     "iopub.status.idle": "2022-09-20T05:36:22.768856Z",
     "shell.execute_reply": "2022-09-20T05:36:22.767620Z",
     "shell.execute_reply.started": "2022-09-20T05:36:22.762774Z"
    }
   },
   "outputs": [],
   "source": [
    "#establishing parameters for GridSearch\n",
    "parameters = {'n_neighbors':[5,10,50,150,300]}"
   ]
  },
  {
   "cell_type": "code",
   "execution_count": 37,
   "metadata": {
    "execution": {
     "iopub.execute_input": "2022-09-20T05:36:22.770921Z",
     "iopub.status.busy": "2022-09-20T05:36:22.770539Z",
     "iopub.status.idle": "2022-09-20T05:36:22.784395Z",
     "shell.execute_reply": "2022-09-20T05:36:22.783356Z",
     "shell.execute_reply.started": "2022-09-20T05:36:22.770890Z"
    }
   },
   "outputs": [],
   "source": [
    "#fitting the model\n",
    "knn = Classification('KNN', X_train, X_val, y_train, y_val)"
   ]
  },
  {
   "cell_type": "code",
   "execution_count": 38,
   "metadata": {
    "execution": {
     "iopub.execute_input": "2022-09-20T05:36:22.786523Z",
     "iopub.status.busy": "2022-09-20T05:36:22.785905Z",
     "iopub.status.idle": "2022-09-20T08:36:21.814244Z",
     "shell.execute_reply": "2022-09-20T08:36:21.811035Z",
     "shell.execute_reply.started": "2022-09-20T05:36:22.786488Z"
    }
   },
   "outputs": [
    {
     "data": {
      "text/html": [
       "<div>\n",
       "<style scoped>\n",
       "    .dataframe tbody tr th:only-of-type {\n",
       "        vertical-align: middle;\n",
       "    }\n",
       "\n",
       "    .dataframe tbody tr th {\n",
       "        vertical-align: top;\n",
       "    }\n",
       "\n",
       "    .dataframe thead th {\n",
       "        text-align: right;\n",
       "    }\n",
       "</style>\n",
       "<table border=\"1\" class=\"dataframe\">\n",
       "  <thead>\n",
       "    <tr style=\"text-align: right;\">\n",
       "      <th></th>\n",
       "      <th>Model Name</th>\n",
       "      <th>Train Accuracy</th>\n",
       "      <th>Validation Accuracy</th>\n",
       "      <th>Accuracy Difference</th>\n",
       "    </tr>\n",
       "  </thead>\n",
       "  <tbody>\n",
       "    <tr>\n",
       "      <th>0</th>\n",
       "      <td>KNN</td>\n",
       "      <td>0.680715</td>\n",
       "      <td>0.680636</td>\n",
       "      <td>0.00008</td>\n",
       "    </tr>\n",
       "  </tbody>\n",
       "</table>\n",
       "</div>"
      ],
      "text/plain": [
       "  Model Name  Train Accuracy  Validation Accuracy  Accuracy Difference\n",
       "0        KNN        0.680715             0.680636              0.00008"
      ]
     },
     "metadata": {},
     "output_type": "display_data"
    },
    {
     "name": "stdout",
     "output_type": "stream",
     "text": [
      "The best hyperparameters are:  {'n_neighbors': 150} \n",
      "\n",
      "CPU times: user 44min 6s, sys: 11min 51s, total: 55min 57s\n",
      "Wall time: 2h 59min 58s\n"
     ]
    },
    {
     "data": {
      "text/html": [
       "<div>\n",
       "<style scoped>\n",
       "    .dataframe tbody tr th:only-of-type {\n",
       "        vertical-align: middle;\n",
       "    }\n",
       "\n",
       "    .dataframe tbody tr th {\n",
       "        vertical-align: top;\n",
       "    }\n",
       "\n",
       "    .dataframe thead th {\n",
       "        text-align: right;\n",
       "    }\n",
       "</style>\n",
       "<table border=\"1\" class=\"dataframe\">\n",
       "  <thead>\n",
       "    <tr style=\"text-align: right;\">\n",
       "      <th></th>\n",
       "      <th>0</th>\n",
       "      <th>1</th>\n",
       "      <th>2</th>\n",
       "      <th>accuracy</th>\n",
       "      <th>macro avg</th>\n",
       "    </tr>\n",
       "  </thead>\n",
       "  <tbody>\n",
       "    <tr>\n",
       "      <th>precision</th>\n",
       "      <td>0.755319</td>\n",
       "      <td>0.0</td>\n",
       "      <td>0.680483</td>\n",
       "      <td>0.680636</td>\n",
       "      <td>0.478601</td>\n",
       "    </tr>\n",
       "    <tr>\n",
       "      <th>recall</th>\n",
       "      <td>0.009319</td>\n",
       "      <td>0.0</td>\n",
       "      <td>0.999553</td>\n",
       "      <td>0.680636</td>\n",
       "      <td>0.336290</td>\n",
       "    </tr>\n",
       "    <tr>\n",
       "      <th>f1-score</th>\n",
       "      <td>0.018410</td>\n",
       "      <td>0.0</td>\n",
       "      <td>0.809719</td>\n",
       "      <td>0.680636</td>\n",
       "      <td>0.276043</td>\n",
       "    </tr>\n",
       "  </tbody>\n",
       "</table>\n",
       "</div>"
      ],
      "text/plain": [
       "                  0    1         2  accuracy  macro avg\n",
       "precision  0.755319  0.0  0.680483  0.680636   0.478601\n",
       "recall     0.009319  0.0  0.999553  0.680636   0.336290\n",
       "f1-score   0.018410  0.0  0.809719  0.680636   0.276043"
      ]
     },
     "execution_count": 38,
     "metadata": {},
     "output_type": "execute_result"
    }
   ],
   "source": [
    "%%time\n",
    "\n",
    "#getting scores\n",
    "knn.get_scores(parameters, skf)"
   ]
  },
  {
   "cell_type": "markdown",
   "metadata": {},
   "source": [
    "## 4.7 AdaBoost"
   ]
  },
  {
   "cell_type": "code",
   "execution_count": 39,
   "metadata": {
    "execution": {
     "iopub.execute_input": "2022-09-20T08:36:21.820670Z",
     "iopub.status.busy": "2022-09-20T08:36:21.820038Z",
     "iopub.status.idle": "2022-09-20T08:36:21.830550Z",
     "shell.execute_reply": "2022-09-20T08:36:21.829585Z",
     "shell.execute_reply.started": "2022-09-20T08:36:21.820615Z"
    }
   },
   "outputs": [],
   "source": [
    "#establishing parameters for GridSearch\n",
    "parameters = {'learning_rate':[0.1,1,10]}"
   ]
  },
  {
   "cell_type": "code",
   "execution_count": 40,
   "metadata": {
    "execution": {
     "iopub.execute_input": "2022-09-20T08:36:21.832763Z",
     "iopub.status.busy": "2022-09-20T08:36:21.831996Z",
     "iopub.status.idle": "2022-09-20T08:36:21.848689Z",
     "shell.execute_reply": "2022-09-20T08:36:21.847613Z",
     "shell.execute_reply.started": "2022-09-20T08:36:21.832726Z"
    }
   },
   "outputs": [],
   "source": [
    "#fitting the model\n",
    "ada = Classification('AdaBoost', X_train, X_val, y_train, y_val)"
   ]
  },
  {
   "cell_type": "code",
   "execution_count": 41,
   "metadata": {
    "execution": {
     "iopub.execute_input": "2022-09-20T08:36:21.850829Z",
     "iopub.status.busy": "2022-09-20T08:36:21.850243Z",
     "iopub.status.idle": "2022-09-20T08:41:27.081117Z",
     "shell.execute_reply": "2022-09-20T08:41:27.079609Z",
     "shell.execute_reply.started": "2022-09-20T08:36:21.850796Z"
    }
   },
   "outputs": [
    {
     "data": {
      "text/html": [
       "<div>\n",
       "<style scoped>\n",
       "    .dataframe tbody tr th:only-of-type {\n",
       "        vertical-align: middle;\n",
       "    }\n",
       "\n",
       "    .dataframe tbody tr th {\n",
       "        vertical-align: top;\n",
       "    }\n",
       "\n",
       "    .dataframe thead th {\n",
       "        text-align: right;\n",
       "    }\n",
       "</style>\n",
       "<table border=\"1\" class=\"dataframe\">\n",
       "  <thead>\n",
       "    <tr style=\"text-align: right;\">\n",
       "      <th></th>\n",
       "      <th>Model Name</th>\n",
       "      <th>Train Accuracy</th>\n",
       "      <th>Validation Accuracy</th>\n",
       "      <th>Accuracy Difference</th>\n",
       "    </tr>\n",
       "  </thead>\n",
       "  <tbody>\n",
       "    <tr>\n",
       "      <th>0</th>\n",
       "      <td>AdaBoost</td>\n",
       "      <td>0.690552</td>\n",
       "      <td>0.690515</td>\n",
       "      <td>0.000036</td>\n",
       "    </tr>\n",
       "  </tbody>\n",
       "</table>\n",
       "</div>"
      ],
      "text/plain": [
       "  Model Name  Train Accuracy  Validation Accuracy  Accuracy Difference\n",
       "0   AdaBoost        0.690552             0.690515             0.000036"
      ]
     },
     "metadata": {},
     "output_type": "display_data"
    },
    {
     "name": "stdout",
     "output_type": "stream",
     "text": [
      "The best hyperparameters are:  {'learning_rate': 1} \n",
      "\n",
      "CPU times: user 1min 56s, sys: 2.36 s, total: 1min 59s\n",
      "Wall time: 5min 5s\n"
     ]
    },
    {
     "data": {
      "text/html": [
       "<div>\n",
       "<style scoped>\n",
       "    .dataframe tbody tr th:only-of-type {\n",
       "        vertical-align: middle;\n",
       "    }\n",
       "\n",
       "    .dataframe tbody tr th {\n",
       "        vertical-align: top;\n",
       "    }\n",
       "\n",
       "    .dataframe thead th {\n",
       "        text-align: right;\n",
       "    }\n",
       "</style>\n",
       "<table border=\"1\" class=\"dataframe\">\n",
       "  <thead>\n",
       "    <tr style=\"text-align: right;\">\n",
       "      <th></th>\n",
       "      <th>0</th>\n",
       "      <th>1</th>\n",
       "      <th>2</th>\n",
       "      <th>accuracy</th>\n",
       "      <th>macro avg</th>\n",
       "    </tr>\n",
       "  </thead>\n",
       "  <tbody>\n",
       "    <tr>\n",
       "      <th>precision</th>\n",
       "      <td>0.868885</td>\n",
       "      <td>0.454880</td>\n",
       "      <td>0.691333</td>\n",
       "      <td>0.690515</td>\n",
       "      <td>0.671699</td>\n",
       "    </tr>\n",
       "    <tr>\n",
       "      <th>recall</th>\n",
       "      <td>0.058275</td>\n",
       "      <td>0.034565</td>\n",
       "      <td>0.994279</td>\n",
       "      <td>0.690515</td>\n",
       "      <td>0.362373</td>\n",
       "    </tr>\n",
       "    <tr>\n",
       "      <th>f1-score</th>\n",
       "      <td>0.109225</td>\n",
       "      <td>0.064248</td>\n",
       "      <td>0.815583</td>\n",
       "      <td>0.690515</td>\n",
       "      <td>0.329685</td>\n",
       "    </tr>\n",
       "  </tbody>\n",
       "</table>\n",
       "</div>"
      ],
      "text/plain": [
       "                  0         1         2  accuracy  macro avg\n",
       "precision  0.868885  0.454880  0.691333  0.690515   0.671699\n",
       "recall     0.058275  0.034565  0.994279  0.690515   0.362373\n",
       "f1-score   0.109225  0.064248  0.815583  0.690515   0.329685"
      ]
     },
     "execution_count": 41,
     "metadata": {},
     "output_type": "execute_result"
    }
   ],
   "source": [
    "%%time\n",
    "\n",
    "#getting scores\n",
    "ada.get_scores(parameters, skf)"
   ]
  },
  {
   "cell_type": "markdown",
   "metadata": {},
   "source": [
    "## 4.8 XGBoost"
   ]
  },
  {
   "cell_type": "code",
   "execution_count": 42,
   "metadata": {
    "execution": {
     "iopub.execute_input": "2022-09-20T08:41:27.084531Z",
     "iopub.status.busy": "2022-09-20T08:41:27.084156Z",
     "iopub.status.idle": "2022-09-20T08:41:27.091516Z",
     "shell.execute_reply": "2022-09-20T08:41:27.090239Z",
     "shell.execute_reply.started": "2022-09-20T08:41:27.084497Z"
    }
   },
   "outputs": [],
   "source": [
    "#establishing parameters for GridSearch\n",
    "parameters = {'eta':[0.001,0.005,0.1,0.5],\n",
    "              'min_child_weight':[1,5,10]}"
   ]
  },
  {
   "cell_type": "code",
   "execution_count": 43,
   "metadata": {
    "execution": {
     "iopub.execute_input": "2022-09-20T08:41:27.093495Z",
     "iopub.status.busy": "2022-09-20T08:41:27.093086Z",
     "iopub.status.idle": "2022-09-20T08:41:27.107458Z",
     "shell.execute_reply": "2022-09-20T08:41:27.106002Z",
     "shell.execute_reply.started": "2022-09-20T08:41:27.093453Z"
    }
   },
   "outputs": [],
   "source": [
    "#fitting the model\n",
    "xgb = Classification('XGBoost', X_train, X_val, y_train, y_val)"
   ]
  },
  {
   "cell_type": "code",
   "execution_count": 44,
   "metadata": {
    "execution": {
     "iopub.execute_input": "2022-09-20T08:41:27.109849Z",
     "iopub.status.busy": "2022-09-20T08:41:27.109393Z",
     "iopub.status.idle": "2022-09-20T12:12:09.739262Z",
     "shell.execute_reply": "2022-09-20T12:12:09.735686Z",
     "shell.execute_reply.started": "2022-09-20T08:41:27.109814Z"
    }
   },
   "outputs": [
    {
     "name": "stderr",
     "output_type": "stream",
     "text": [
      "/opt/conda/lib/python3.7/site-packages/sklearn/ensemble/_weight_boosting.py:656: RuntimeWarning: divide by zero encountered in log\n",
      "  np.log(sample_weight)\n",
      "/opt/conda/lib/python3.7/site-packages/sklearn/ensemble/_weight_boosting.py:657: RuntimeWarning: overflow encountered in exp\n",
      "  + estimator_weight * incorrect * (sample_weight > 0)\n",
      "/opt/conda/lib/python3.7/site-packages/sklearn/ensemble/_weight_boosting.py:486: UserWarning: Sample weights have reached infinite values, at iteration 6, causing overflow. Iterations stopped. Try lowering the learning rate.\n",
      "  return super().fit(X, y, sample_weight)\n",
      "/opt/conda/lib/python3.7/site-packages/sklearn/ensemble/_weight_boosting.py:656: RuntimeWarning: divide by zero encountered in log\n",
      "  np.log(sample_weight)\n",
      "/opt/conda/lib/python3.7/site-packages/sklearn/ensemble/_weight_boosting.py:657: RuntimeWarning: overflow encountered in exp\n",
      "  + estimator_weight * incorrect * (sample_weight > 0)\n",
      "/opt/conda/lib/python3.7/site-packages/sklearn/ensemble/_weight_boosting.py:486: UserWarning: Sample weights have reached infinite values, at iteration 6, causing overflow. Iterations stopped. Try lowering the learning rate.\n",
      "  return super().fit(X, y, sample_weight)\n",
      "/opt/conda/lib/python3.7/site-packages/sklearn/ensemble/_weight_boosting.py:656: RuntimeWarning: divide by zero encountered in log\n",
      "  np.log(sample_weight)\n",
      "/opt/conda/lib/python3.7/site-packages/sklearn/ensemble/_weight_boosting.py:657: RuntimeWarning: overflow encountered in exp\n",
      "  + estimator_weight * incorrect * (sample_weight > 0)\n",
      "/opt/conda/lib/python3.7/site-packages/sklearn/ensemble/_weight_boosting.py:486: UserWarning: Sample weights have reached infinite values, at iteration 6, causing overflow. Iterations stopped. Try lowering the learning rate.\n",
      "  return super().fit(X, y, sample_weight)\n",
      "/opt/conda/lib/python3.7/site-packages/sklearn/ensemble/_weight_boosting.py:656: RuntimeWarning: divide by zero encountered in log\n",
      "  np.log(sample_weight)\n",
      "/opt/conda/lib/python3.7/site-packages/sklearn/ensemble/_weight_boosting.py:657: RuntimeWarning: overflow encountered in exp\n",
      "  + estimator_weight * incorrect * (sample_weight > 0)\n",
      "/opt/conda/lib/python3.7/site-packages/sklearn/ensemble/_weight_boosting.py:486: UserWarning: Sample weights have reached infinite values, at iteration 6, causing overflow. Iterations stopped. Try lowering the learning rate.\n",
      "  return super().fit(X, y, sample_weight)\n",
      "/opt/conda/lib/python3.7/site-packages/sklearn/ensemble/_weight_boosting.py:656: RuntimeWarning: divide by zero encountered in log\n",
      "  np.log(sample_weight)\n",
      "/opt/conda/lib/python3.7/site-packages/sklearn/ensemble/_weight_boosting.py:657: RuntimeWarning: overflow encountered in exp\n",
      "  + estimator_weight * incorrect * (sample_weight > 0)\n",
      "/opt/conda/lib/python3.7/site-packages/sklearn/ensemble/_weight_boosting.py:486: UserWarning: Sample weights have reached infinite values, at iteration 6, causing overflow. Iterations stopped. Try lowering the learning rate.\n",
      "  return super().fit(X, y, sample_weight)\n"
     ]
    },
    {
     "data": {
      "text/html": [
       "<div>\n",
       "<style scoped>\n",
       "    .dataframe tbody tr th:only-of-type {\n",
       "        vertical-align: middle;\n",
       "    }\n",
       "\n",
       "    .dataframe tbody tr th {\n",
       "        vertical-align: top;\n",
       "    }\n",
       "\n",
       "    .dataframe thead th {\n",
       "        text-align: right;\n",
       "    }\n",
       "</style>\n",
       "<table border=\"1\" class=\"dataframe\">\n",
       "  <thead>\n",
       "    <tr style=\"text-align: right;\">\n",
       "      <th></th>\n",
       "      <th>Model Name</th>\n",
       "      <th>Train Accuracy</th>\n",
       "      <th>Validation Accuracy</th>\n",
       "      <th>Accuracy Difference</th>\n",
       "    </tr>\n",
       "  </thead>\n",
       "  <tbody>\n",
       "    <tr>\n",
       "      <th>0</th>\n",
       "      <td>XGBoost</td>\n",
       "      <td>0.825757</td>\n",
       "      <td>0.775546</td>\n",
       "      <td>0.050211</td>\n",
       "    </tr>\n",
       "  </tbody>\n",
       "</table>\n",
       "</div>"
      ],
      "text/plain": [
       "  Model Name  Train Accuracy  Validation Accuracy  Accuracy Difference\n",
       "0    XGBoost        0.825757             0.775546             0.050211"
      ]
     },
     "metadata": {},
     "output_type": "display_data"
    },
    {
     "name": "stdout",
     "output_type": "stream",
     "text": [
      "The best hyperparameters are:  {'eta': 0.001, 'min_child_weight': 10} \n",
      "\n",
      "CPU times: user 33min 30s, sys: 1.38 s, total: 33min 32s\n",
      "Wall time: 3h 30min 42s\n"
     ]
    },
    {
     "data": {
      "text/html": [
       "<div>\n",
       "<style scoped>\n",
       "    .dataframe tbody tr th:only-of-type {\n",
       "        vertical-align: middle;\n",
       "    }\n",
       "\n",
       "    .dataframe tbody tr th {\n",
       "        vertical-align: top;\n",
       "    }\n",
       "\n",
       "    .dataframe thead th {\n",
       "        text-align: right;\n",
       "    }\n",
       "</style>\n",
       "<table border=\"1\" class=\"dataframe\">\n",
       "  <thead>\n",
       "    <tr style=\"text-align: right;\">\n",
       "      <th></th>\n",
       "      <th>0</th>\n",
       "      <th>1</th>\n",
       "      <th>2</th>\n",
       "      <th>accuracy</th>\n",
       "      <th>macro avg</th>\n",
       "    </tr>\n",
       "  </thead>\n",
       "  <tbody>\n",
       "    <tr>\n",
       "      <th>precision</th>\n",
       "      <td>0.717170</td>\n",
       "      <td>0.508607</td>\n",
       "      <td>0.807231</td>\n",
       "      <td>0.775546</td>\n",
       "      <td>0.677669</td>\n",
       "    </tr>\n",
       "    <tr>\n",
       "      <th>recall</th>\n",
       "      <td>0.564116</td>\n",
       "      <td>0.219144</td>\n",
       "      <td>0.954105</td>\n",
       "      <td>0.775546</td>\n",
       "      <td>0.579122</td>\n",
       "    </tr>\n",
       "    <tr>\n",
       "      <th>f1-score</th>\n",
       "      <td>0.631502</td>\n",
       "      <td>0.306308</td>\n",
       "      <td>0.874544</td>\n",
       "      <td>0.775546</td>\n",
       "      <td>0.604118</td>\n",
       "    </tr>\n",
       "  </tbody>\n",
       "</table>\n",
       "</div>"
      ],
      "text/plain": [
       "                  0         1         2  accuracy  macro avg\n",
       "precision  0.717170  0.508607  0.807231  0.775546   0.677669\n",
       "recall     0.564116  0.219144  0.954105  0.775546   0.579122\n",
       "f1-score   0.631502  0.306308  0.874544  0.775546   0.604118"
      ]
     },
     "execution_count": 44,
     "metadata": {},
     "output_type": "execute_result"
    }
   ],
   "source": [
    "%%time\n",
    "\n",
    "#getting scores\n",
    "xgb.get_scores(parameters, skf)"
   ]
  },
  {
   "cell_type": "code",
   "execution_count": 45,
   "metadata": {
    "execution": {
     "iopub.execute_input": "2022-09-20T12:12:09.746743Z",
     "iopub.status.busy": "2022-09-20T12:12:09.746156Z",
     "iopub.status.idle": "2022-09-20T12:12:09.765906Z",
     "shell.execute_reply": "2022-09-20T12:12:09.764809Z",
     "shell.execute_reply.started": "2022-09-20T12:12:09.746697Z"
    }
   },
   "outputs": [
    {
     "data": {
      "text/html": [
       "<div>\n",
       "<style scoped>\n",
       "    .dataframe tbody tr th:only-of-type {\n",
       "        vertical-align: middle;\n",
       "    }\n",
       "\n",
       "    .dataframe tbody tr th {\n",
       "        vertical-align: top;\n",
       "    }\n",
       "\n",
       "    .dataframe thead th {\n",
       "        text-align: right;\n",
       "    }\n",
       "</style>\n",
       "<table border=\"1\" class=\"dataframe\">\n",
       "  <thead>\n",
       "    <tr style=\"text-align: right;\">\n",
       "      <th></th>\n",
       "      <th>Model Name</th>\n",
       "      <th>Train Accuracy</th>\n",
       "      <th>Validation Accuracy</th>\n",
       "      <th>Accuracy Difference</th>\n",
       "    </tr>\n",
       "  </thead>\n",
       "  <tbody>\n",
       "    <tr>\n",
       "      <th>0</th>\n",
       "      <td>XGBoost</td>\n",
       "      <td>0.825757</td>\n",
       "      <td>0.775546</td>\n",
       "      <td>0.050211</td>\n",
       "    </tr>\n",
       "  </tbody>\n",
       "</table>\n",
       "</div>"
      ],
      "text/plain": [
       "  Model Name  Train Accuracy  Validation Accuracy  Accuracy Difference\n",
       "0    XGBoost        0.825757             0.775546             0.050211"
      ]
     },
     "execution_count": 45,
     "metadata": {},
     "output_type": "execute_result"
    }
   ],
   "source": [
    "xgb.scores_table"
   ]
  },
  {
   "cell_type": "markdown",
   "metadata": {},
   "source": [
    "# 5. Evaluation"
   ]
  },
  {
   "cell_type": "markdown",
   "metadata": {},
   "source": [
    "## 5.1 Comparing scores from all models"
   ]
  },
  {
   "cell_type": "code",
   "execution_count": 46,
   "metadata": {
    "execution": {
     "iopub.execute_input": "2022-09-20T12:12:09.768736Z",
     "iopub.status.busy": "2022-09-20T12:12:09.767477Z",
     "iopub.status.idle": "2022-09-20T12:12:09.783806Z",
     "shell.execute_reply": "2022-09-20T12:12:09.782655Z",
     "shell.execute_reply.started": "2022-09-20T12:12:09.768687Z"
    }
   },
   "outputs": [],
   "source": [
    "models = pd.concat([log_reg.scores_table,\n",
    "                    mnb.scores_table,\n",
    "                    rf.scores_table,\n",
    "                    tree.scores_table,\n",
    "                    knn.scores_table,\n",
    "                    ada.scores_table,\n",
    "                    xgb.scores_table],\n",
    "                    axis=0)"
   ]
  },
  {
   "cell_type": "code",
   "execution_count": 47,
   "metadata": {
    "execution": {
     "iopub.execute_input": "2022-09-20T12:12:09.785974Z",
     "iopub.status.busy": "2022-09-20T12:12:09.785521Z",
     "iopub.status.idle": "2022-09-20T12:12:09.803938Z",
     "shell.execute_reply": "2022-09-20T12:12:09.802592Z",
     "shell.execute_reply.started": "2022-09-20T12:12:09.785941Z"
    }
   },
   "outputs": [
    {
     "data": {
      "text/html": [
       "<div>\n",
       "<style scoped>\n",
       "    .dataframe tbody tr th:only-of-type {\n",
       "        vertical-align: middle;\n",
       "    }\n",
       "\n",
       "    .dataframe tbody tr th {\n",
       "        vertical-align: top;\n",
       "    }\n",
       "\n",
       "    .dataframe thead th {\n",
       "        text-align: right;\n",
       "    }\n",
       "</style>\n",
       "<table border=\"1\" class=\"dataframe\">\n",
       "  <thead>\n",
       "    <tr style=\"text-align: right;\">\n",
       "      <th></th>\n",
       "      <th>Model Name</th>\n",
       "      <th>Train Accuracy</th>\n",
       "      <th>Validation Accuracy</th>\n",
       "      <th>Accuracy Difference</th>\n",
       "    </tr>\n",
       "  </thead>\n",
       "  <tbody>\n",
       "    <tr>\n",
       "      <th>0</th>\n",
       "      <td>Logistic Regression</td>\n",
       "      <td>0.801329</td>\n",
       "      <td>0.788683</td>\n",
       "      <td>0.012646</td>\n",
       "    </tr>\n",
       "    <tr>\n",
       "      <th>0</th>\n",
       "      <td>Multinomial Naive Bayes</td>\n",
       "      <td>0.696545</td>\n",
       "      <td>0.687671</td>\n",
       "      <td>0.008874</td>\n",
       "    </tr>\n",
       "    <tr>\n",
       "      <th>0</th>\n",
       "      <td>Random Forest</td>\n",
       "      <td>0.760727</td>\n",
       "      <td>0.717962</td>\n",
       "      <td>0.042766</td>\n",
       "    </tr>\n",
       "    <tr>\n",
       "      <th>0</th>\n",
       "      <td>Decision Tree</td>\n",
       "      <td>0.711174</td>\n",
       "      <td>0.708625</td>\n",
       "      <td>0.002549</td>\n",
       "    </tr>\n",
       "    <tr>\n",
       "      <th>0</th>\n",
       "      <td>KNN</td>\n",
       "      <td>0.680715</td>\n",
       "      <td>0.680636</td>\n",
       "      <td>0.000080</td>\n",
       "    </tr>\n",
       "    <tr>\n",
       "      <th>0</th>\n",
       "      <td>AdaBoost</td>\n",
       "      <td>0.690552</td>\n",
       "      <td>0.690515</td>\n",
       "      <td>0.000036</td>\n",
       "    </tr>\n",
       "    <tr>\n",
       "      <th>0</th>\n",
       "      <td>XGBoost</td>\n",
       "      <td>0.825757</td>\n",
       "      <td>0.775546</td>\n",
       "      <td>0.050211</td>\n",
       "    </tr>\n",
       "  </tbody>\n",
       "</table>\n",
       "</div>"
      ],
      "text/plain": [
       "                Model Name  Train Accuracy  Validation Accuracy  \\\n",
       "0      Logistic Regression        0.801329             0.788683   \n",
       "0  Multinomial Naive Bayes        0.696545             0.687671   \n",
       "0            Random Forest        0.760727             0.717962   \n",
       "0            Decision Tree        0.711174             0.708625   \n",
       "0                      KNN        0.680715             0.680636   \n",
       "0                 AdaBoost        0.690552             0.690515   \n",
       "0                  XGBoost        0.825757             0.775546   \n",
       "\n",
       "   Accuracy Difference  \n",
       "0             0.012646  \n",
       "0             0.008874  \n",
       "0             0.042766  \n",
       "0             0.002549  \n",
       "0             0.000080  \n",
       "0             0.000036  \n",
       "0             0.050211  "
      ]
     },
     "execution_count": 47,
     "metadata": {},
     "output_type": "execute_result"
    }
   ],
   "source": [
    "models"
   ]
  },
  {
   "cell_type": "code",
   "execution_count": 54,
   "metadata": {
    "execution": {
     "iopub.execute_input": "2022-09-20T12:37:09.098227Z",
     "iopub.status.busy": "2022-09-20T12:37:09.097564Z",
     "iopub.status.idle": "2022-09-20T12:37:09.120238Z",
     "shell.execute_reply": "2022-09-20T12:37:09.119247Z",
     "shell.execute_reply.started": "2022-09-20T12:37:09.098088Z"
    }
   },
   "outputs": [],
   "source": [
    "#saving models results as a csv\n",
    "models.to_csv('./models_results.csv',index=False)"
   ]
  },
  {
   "cell_type": "code",
   "execution_count": 55,
   "metadata": {
    "execution": {
     "iopub.execute_input": "2022-09-20T12:37:21.047502Z",
     "iopub.status.busy": "2022-09-20T12:37:21.047033Z",
     "iopub.status.idle": "2022-09-20T12:37:23.228537Z",
     "shell.execute_reply": "2022-09-20T12:37:23.227385Z",
     "shell.execute_reply.started": "2022-09-20T12:37:21.047463Z"
    }
   },
   "outputs": [],
   "source": [
    "#saving all models to a pickle\n",
    "for model in [log_reg, mnb, rf, tree, knn, ada, xgb]:\n",
    "    pickle.dump(model, open(f'./{model.model_type}.pkl', 'wb'))"
   ]
  },
  {
   "cell_type": "markdown",
   "metadata": {},
   "source": [
    "## 5.2 Fitting the best model with test data"
   ]
  },
  {
   "cell_type": "markdown",
   "metadata": {},
   "source": [
    "## 5.3 Further model metrics and tuning"
   ]
  },
  {
   "cell_type": "code",
   "execution_count": 57,
   "metadata": {
    "execution": {
     "iopub.execute_input": "2022-09-20T12:38:18.146742Z",
     "iopub.status.busy": "2022-09-20T12:38:18.146285Z",
     "iopub.status.idle": "2022-09-20T12:38:18.160989Z",
     "shell.execute_reply": "2022-09-20T12:38:18.159541Z",
     "shell.execute_reply.started": "2022-09-20T12:38:18.146704Z"
    }
   },
   "outputs": [
    {
     "data": {
      "text/html": [
       "<div>\n",
       "<style scoped>\n",
       "    .dataframe tbody tr th:only-of-type {\n",
       "        vertical-align: middle;\n",
       "    }\n",
       "\n",
       "    .dataframe tbody tr th {\n",
       "        vertical-align: top;\n",
       "    }\n",
       "\n",
       "    .dataframe thead th {\n",
       "        text-align: right;\n",
       "    }\n",
       "</style>\n",
       "<table border=\"1\" class=\"dataframe\">\n",
       "  <thead>\n",
       "    <tr style=\"text-align: right;\">\n",
       "      <th></th>\n",
       "      <th>0</th>\n",
       "      <th>1</th>\n",
       "      <th>2</th>\n",
       "      <th>accuracy</th>\n",
       "      <th>macro avg</th>\n",
       "    </tr>\n",
       "  </thead>\n",
       "  <tbody>\n",
       "    <tr>\n",
       "      <th>precision</th>\n",
       "      <td>0.717170</td>\n",
       "      <td>0.508607</td>\n",
       "      <td>0.807231</td>\n",
       "      <td>0.775546</td>\n",
       "      <td>0.677669</td>\n",
       "    </tr>\n",
       "    <tr>\n",
       "      <th>recall</th>\n",
       "      <td>0.564116</td>\n",
       "      <td>0.219144</td>\n",
       "      <td>0.954105</td>\n",
       "      <td>0.775546</td>\n",
       "      <td>0.579122</td>\n",
       "    </tr>\n",
       "    <tr>\n",
       "      <th>f1-score</th>\n",
       "      <td>0.631502</td>\n",
       "      <td>0.306308</td>\n",
       "      <td>0.874544</td>\n",
       "      <td>0.775546</td>\n",
       "      <td>0.604118</td>\n",
       "    </tr>\n",
       "  </tbody>\n",
       "</table>\n",
       "</div>"
      ],
      "text/plain": [
       "                  0         1         2  accuracy  macro avg\n",
       "precision  0.717170  0.508607  0.807231  0.775546   0.677669\n",
       "recall     0.564116  0.219144  0.954105  0.775546   0.579122\n",
       "f1-score   0.631502  0.306308  0.874544  0.775546   0.604118"
      ]
     },
     "execution_count": 57,
     "metadata": {},
     "output_type": "execute_result"
    }
   ],
   "source": [
    "xgb.classification_report"
   ]
  },
  {
   "cell_type": "code",
   "execution_count": 60,
   "metadata": {
    "execution": {
     "iopub.execute_input": "2022-09-20T12:40:00.478377Z",
     "iopub.status.busy": "2022-09-20T12:40:00.477818Z",
     "iopub.status.idle": "2022-09-20T12:40:00.496804Z",
     "shell.execute_reply": "2022-09-20T12:40:00.495540Z",
     "shell.execute_reply.started": "2022-09-20T12:40:00.478332Z"
    }
   },
   "outputs": [
    {
     "data": {
      "text/html": [
       "<div>\n",
       "<style scoped>\n",
       "    .dataframe tbody tr th:only-of-type {\n",
       "        vertical-align: middle;\n",
       "    }\n",
       "\n",
       "    .dataframe tbody tr th {\n",
       "        vertical-align: top;\n",
       "    }\n",
       "\n",
       "    .dataframe thead th {\n",
       "        text-align: right;\n",
       "    }\n",
       "</style>\n",
       "<table border=\"1\" class=\"dataframe\">\n",
       "  <thead>\n",
       "    <tr style=\"text-align: right;\">\n",
       "      <th></th>\n",
       "      <th>0</th>\n",
       "      <th>1</th>\n",
       "      <th>2</th>\n",
       "      <th>accuracy</th>\n",
       "      <th>macro avg</th>\n",
       "    </tr>\n",
       "  </thead>\n",
       "  <tbody>\n",
       "    <tr>\n",
       "      <th>precision</th>\n",
       "      <td>0.694542</td>\n",
       "      <td>0.512260</td>\n",
       "      <td>0.838515</td>\n",
       "      <td>0.788683</td>\n",
       "      <td>0.681772</td>\n",
       "    </tr>\n",
       "    <tr>\n",
       "      <th>recall</th>\n",
       "      <td>0.678042</td>\n",
       "      <td>0.268962</td>\n",
       "      <td>0.934322</td>\n",
       "      <td>0.788683</td>\n",
       "      <td>0.627108</td>\n",
       "    </tr>\n",
       "    <tr>\n",
       "      <th>f1-score</th>\n",
       "      <td>0.686192</td>\n",
       "      <td>0.352725</td>\n",
       "      <td>0.883830</td>\n",
       "      <td>0.788683</td>\n",
       "      <td>0.640916</td>\n",
       "    </tr>\n",
       "  </tbody>\n",
       "</table>\n",
       "</div>"
      ],
      "text/plain": [
       "                  0         1         2  accuracy  macro avg\n",
       "precision  0.694542  0.512260  0.838515  0.788683   0.681772\n",
       "recall     0.678042  0.268962  0.934322  0.788683   0.627108\n",
       "f1-score   0.686192  0.352725  0.883830  0.788683   0.640916"
      ]
     },
     "execution_count": 60,
     "metadata": {},
     "output_type": "execute_result"
    }
   ],
   "source": [
    "log_reg.classification_report"
   ]
  }
 ],
 "metadata": {
  "kernelspec": {
   "display_name": "Python 3 (ipykernel)",
   "language": "python",
   "name": "python3"
  },
  "language_info": {
   "codemirror_mode": {
    "name": "ipython",
    "version": 3
   },
   "file_extension": ".py",
   "mimetype": "text/x-python",
   "name": "python",
   "nbconvert_exporter": "python",
   "pygments_lexer": "ipython3",
   "version": "3.9.7"
  }
 },
 "nbformat": 4,
 "nbformat_minor": 4
}
