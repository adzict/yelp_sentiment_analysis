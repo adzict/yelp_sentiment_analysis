{
 "cells": [
  {
   "cell_type": "markdown",
   "id": "7946e9bd",
   "metadata": {},
   "source": [
    "# 1. Data Preprocessing and Basic EDA\n",
    "\n",
    "This is the earliest stage of the project, where I will mostly deal with cleaning data: analyze irregularities, analyze streucture of the data, anomalies, and make decisions aligned with the project's goal.\n",
    "\n",
    "The structure of this notebook is organized as follows:\n",
    "\n",
    "<ul>\n",
    "    <li>1. Imports</li>\n",
    "    <li>2. Data</li>\n",
    "        <ul>\n",
    "            <li>2.1 Business Dataset</li>\n",
    "            <li>2.2 Review Dataset</li>\n",
    "            <li>2.3 User Dataset</li>\n",
    "        </ul>\n",
    "    <li>3. Early EDA and Data Cleaning </li>\n",
    "        <ul>\n",
    "            <li>3.1 Missing values</li>\n",
    "            <li>3.2 Duplicate rows</li>\n",
    "            <li>3.3 Removing unnecessary features</li>\n",
    "        </ul>\n",
    "    <li>4. Saving data for the next stage</li>\n",
    "</ul>"
   ]
  },
  {
   "cell_type": "markdown",
   "id": "5493efb9",
   "metadata": {},
   "source": [
    "# 1. Imports"
   ]
  },
  {
   "cell_type": "code",
   "execution_count": 1,
   "id": "5b27b2af",
   "metadata": {},
   "outputs": [],
   "source": [
    "#basic libraries for linear algebra and data procesing\n",
    "import numpy as np\n",
    "import pandas as pd\n",
    "import missingno as msno\n",
    "\n",
    "#visualization\n",
    "import matplotlib.pyplot as plt\n",
    "import seaborn as sns\n",
    "\n",
    "#time and warnings\n",
    "import time\n",
    "import warnings\n",
    "\n",
    "#settings\n",
    "warnings.filterwarnings(\"ignore\")\n",
    "%matplotlib inline\n",
    "sns.set_context('poster', font_scale=0.5)"
   ]
  },
  {
   "cell_type": "markdown",
   "id": "a8a33daa",
   "metadata": {},
   "source": [
    "# 2. Data"
   ]
  },
  {
   "cell_type": "code",
   "execution_count": 2,
   "id": "71ffeee9",
   "metadata": {},
   "outputs": [],
   "source": [
    "#loading the csv files into pandas dataframe\n",
    "business = pd.read_csv('data/yelp_training_set_business.csv')\n",
    "review = pd.read_csv('data/yelp_training_set_review.csv')\n",
    "user = pd.read_csv('data/yelp_training_set_user.csv')"
   ]
  },
  {
   "cell_type": "markdown",
   "id": "8cadac96",
   "metadata": {},
   "source": [
    "## 2.1 Businesses Dataset\n",
    "\n",
    "**Analysis**\n",
    "\n",
    "- dtypes: bool(1), float64(4), int64(2), object(8)\n",
    "- column_a is another index column\n",
    "- business_categories have missing values\n",
    "- business_neighborhoods contain no information\n",
    "\n",
    "**Feature Description**\n",
    "\n",
    "    business_blank - bool, unidentifiable\n",
    "    business_categories - an array of strings of business categories\n",
    "    business_city - string, the city\n",
    "    business_full_address - string, the full address of the business\n",
    "    business_id - string, 22 character unique string business id\n",
    "    business_latitude - float, latitude\n",
    "    business_longitude - float, longitude\n",
    "    business_name - string, the business's name\n",
    "    business_neighborhoods - NaN's\n",
    "    business_open - bool, True if open, False if closed\n",
    "    business_review_count - integer, number of reviews\n",
    "    business_stars - float, star rating, rounded to half-stars\n",
    "    business_state - string, 2 character state code, if applicable\n",
    "    business_type - string, business type\n",
    "    business_location - string, longitude and latitude of the business location"
   ]
  },
  {
   "cell_type": "code",
   "execution_count": 3,
   "id": "bd341d6a",
   "metadata": {},
   "outputs": [
    {
     "name": "stdout",
     "output_type": "stream",
     "text": [
      "<class 'pandas.core.frame.DataFrame'>\n",
      "RangeIndex: 11537 entries, 0 to 11536\n",
      "Data columns (total 15 columns):\n",
      " #   Column                  Non-Null Count  Dtype  \n",
      "---  ------                  --------------  -----  \n",
      " 0   column_a                11537 non-null  int64  \n",
      " 1   business_categories     11360 non-null  object \n",
      " 2   business_city           11537 non-null  object \n",
      " 3   business_full_address   11537 non-null  object \n",
      " 4   business_id             11537 non-null  object \n",
      " 5   business_latitude       11537 non-null  float64\n",
      " 6   business_longitude      11537 non-null  float64\n",
      " 7   business_name           11537 non-null  object \n",
      " 8   business_neighborhoods  0 non-null      float64\n",
      " 9   business_open           11537 non-null  bool   \n",
      " 10  business_review_count   11537 non-null  int64  \n",
      " 11  business_stars          11537 non-null  float64\n",
      " 12  business_state          11537 non-null  object \n",
      " 13  business_type           11537 non-null  object \n",
      " 14  business_location       11537 non-null  object \n",
      "dtypes: bool(1), float64(4), int64(2), object(8)\n",
      "memory usage: 1.2+ MB\n"
     ]
    }
   ],
   "source": [
    "business.info()"
   ]
  },
  {
   "cell_type": "code",
   "execution_count": 4,
   "id": "5710aca5",
   "metadata": {},
   "outputs": [
    {
     "data": {
      "text/html": [
       "<div>\n",
       "<style scoped>\n",
       "    .dataframe tbody tr th:only-of-type {\n",
       "        vertical-align: middle;\n",
       "    }\n",
       "\n",
       "    .dataframe tbody tr th {\n",
       "        vertical-align: top;\n",
       "    }\n",
       "\n",
       "    .dataframe thead th {\n",
       "        text-align: right;\n",
       "    }\n",
       "</style>\n",
       "<table border=\"1\" class=\"dataframe\">\n",
       "  <thead>\n",
       "    <tr style=\"text-align: right;\">\n",
       "      <th></th>\n",
       "      <th>column_a</th>\n",
       "      <th>business_categories</th>\n",
       "      <th>business_city</th>\n",
       "      <th>business_full_address</th>\n",
       "      <th>business_id</th>\n",
       "      <th>business_latitude</th>\n",
       "      <th>business_longitude</th>\n",
       "      <th>business_name</th>\n",
       "      <th>business_neighborhoods</th>\n",
       "      <th>business_open</th>\n",
       "      <th>business_review_count</th>\n",
       "      <th>business_stars</th>\n",
       "      <th>business_state</th>\n",
       "      <th>business_type</th>\n",
       "      <th>business_location</th>\n",
       "    </tr>\n",
       "  </thead>\n",
       "  <tbody>\n",
       "    <tr>\n",
       "      <th>0</th>\n",
       "      <td>0</td>\n",
       "      <td>Accountants; Professional Services; Tax Servic...</td>\n",
       "      <td>Peoria</td>\n",
       "      <td>8466 W Peoria Ave\\nSte 6\\nPeoria, AZ 85345</td>\n",
       "      <td>rncjoVoEFUJGCUoC1JgnUA</td>\n",
       "      <td>33.581867</td>\n",
       "      <td>-112.241596</td>\n",
       "      <td>Peoria Income Tax Service</td>\n",
       "      <td>NaN</td>\n",
       "      <td>True</td>\n",
       "      <td>3</td>\n",
       "      <td>5.0</td>\n",
       "      <td>AZ</td>\n",
       "      <td>business</td>\n",
       "      <td>POINT(-112.241596 33.581867)</td>\n",
       "    </tr>\n",
       "    <tr>\n",
       "      <th>1</th>\n",
       "      <td>1</td>\n",
       "      <td>Sporting Goods; Bikes; Shopping</td>\n",
       "      <td>Phoenix</td>\n",
       "      <td>2149 W Wood Dr\\nPhoenix, AZ 85029</td>\n",
       "      <td>0FNFSzCFP_rGUoJx8W7tJg</td>\n",
       "      <td>33.604054</td>\n",
       "      <td>-112.105933</td>\n",
       "      <td>Bike Doctor</td>\n",
       "      <td>NaN</td>\n",
       "      <td>True</td>\n",
       "      <td>5</td>\n",
       "      <td>5.0</td>\n",
       "      <td>AZ</td>\n",
       "      <td>business</td>\n",
       "      <td>POINT(-112.105933 33.604054)</td>\n",
       "    </tr>\n",
       "    <tr>\n",
       "      <th>2</th>\n",
       "      <td>2</td>\n",
       "      <td>NaN</td>\n",
       "      <td>Phoenix</td>\n",
       "      <td>1134 N Central Ave\\nPhoenix, AZ 85004</td>\n",
       "      <td>3f_lyB6vFK48ukH6ScvLHg</td>\n",
       "      <td>33.460526</td>\n",
       "      <td>-112.073933</td>\n",
       "      <td>Valley Permaculture Alliance</td>\n",
       "      <td>NaN</td>\n",
       "      <td>True</td>\n",
       "      <td>4</td>\n",
       "      <td>5.0</td>\n",
       "      <td>AZ</td>\n",
       "      <td>business</td>\n",
       "      <td>POINT(-112.0739333 33.4605258)</td>\n",
       "    </tr>\n",
       "    <tr>\n",
       "      <th>3</th>\n",
       "      <td>3</td>\n",
       "      <td>Food; Grocery</td>\n",
       "      <td>Phoenix</td>\n",
       "      <td>845 W Southern Ave\\nPhoenix, AZ 85041</td>\n",
       "      <td>usAsSV36QmUej8--yvN-dg</td>\n",
       "      <td>33.392210</td>\n",
       "      <td>-112.085377</td>\n",
       "      <td>Food City</td>\n",
       "      <td>NaN</td>\n",
       "      <td>True</td>\n",
       "      <td>5</td>\n",
       "      <td>3.5</td>\n",
       "      <td>AZ</td>\n",
       "      <td>business</td>\n",
       "      <td>POINT(-112.0853773 33.3922099)</td>\n",
       "    </tr>\n",
       "    <tr>\n",
       "      <th>4</th>\n",
       "      <td>4</td>\n",
       "      <td>Food; Bagels; Delis; Restaurants</td>\n",
       "      <td>Glendale Az</td>\n",
       "      <td>6520 W Happy Valley Rd\\nSte 101\\nGlendale Az, ...</td>\n",
       "      <td>PzOqRohWw7F7YEPBz6AubA</td>\n",
       "      <td>33.712797</td>\n",
       "      <td>-112.200264</td>\n",
       "      <td>Hot Bagels &amp; Deli</td>\n",
       "      <td>NaN</td>\n",
       "      <td>True</td>\n",
       "      <td>14</td>\n",
       "      <td>3.5</td>\n",
       "      <td>AZ</td>\n",
       "      <td>business</td>\n",
       "      <td>POINT(-112.200264 33.712797)</td>\n",
       "    </tr>\n",
       "  </tbody>\n",
       "</table>\n",
       "</div>"
      ],
      "text/plain": [
       "   column_a                                business_categories business_city  \\\n",
       "0         0  Accountants; Professional Services; Tax Servic...        Peoria   \n",
       "1         1                    Sporting Goods; Bikes; Shopping       Phoenix   \n",
       "2         2                                                NaN       Phoenix   \n",
       "3         3                                      Food; Grocery       Phoenix   \n",
       "4         4                   Food; Bagels; Delis; Restaurants   Glendale Az   \n",
       "\n",
       "                               business_full_address             business_id  \\\n",
       "0         8466 W Peoria Ave\\nSte 6\\nPeoria, AZ 85345  rncjoVoEFUJGCUoC1JgnUA   \n",
       "1                  2149 W Wood Dr\\nPhoenix, AZ 85029  0FNFSzCFP_rGUoJx8W7tJg   \n",
       "2              1134 N Central Ave\\nPhoenix, AZ 85004  3f_lyB6vFK48ukH6ScvLHg   \n",
       "3              845 W Southern Ave\\nPhoenix, AZ 85041  usAsSV36QmUej8--yvN-dg   \n",
       "4  6520 W Happy Valley Rd\\nSte 101\\nGlendale Az, ...  PzOqRohWw7F7YEPBz6AubA   \n",
       "\n",
       "   business_latitude  business_longitude                 business_name  \\\n",
       "0          33.581867         -112.241596     Peoria Income Tax Service   \n",
       "1          33.604054         -112.105933                   Bike Doctor   \n",
       "2          33.460526         -112.073933  Valley Permaculture Alliance   \n",
       "3          33.392210         -112.085377                     Food City   \n",
       "4          33.712797         -112.200264             Hot Bagels & Deli   \n",
       "\n",
       "   business_neighborhoods  business_open  business_review_count  \\\n",
       "0                     NaN           True                      3   \n",
       "1                     NaN           True                      5   \n",
       "2                     NaN           True                      4   \n",
       "3                     NaN           True                      5   \n",
       "4                     NaN           True                     14   \n",
       "\n",
       "   business_stars business_state business_type               business_location  \n",
       "0             5.0             AZ      business    POINT(-112.241596 33.581867)  \n",
       "1             5.0             AZ      business    POINT(-112.105933 33.604054)  \n",
       "2             5.0             AZ      business  POINT(-112.0739333 33.4605258)  \n",
       "3             3.5             AZ      business  POINT(-112.0853773 33.3922099)  \n",
       "4             3.5             AZ      business    POINT(-112.200264 33.712797)  "
      ]
     },
     "execution_count": 4,
     "metadata": {},
     "output_type": "execute_result"
    }
   ],
   "source": [
    "business.head()"
   ]
  },
  {
   "cell_type": "code",
   "execution_count": 5,
   "id": "48eeb7f9",
   "metadata": {},
   "outputs": [
    {
     "data": {
      "text/plain": [
       "Index(['column_a', 'business_categories', 'business_city',\n",
       "       'business_full_address', 'business_id', 'business_latitude',\n",
       "       'business_longitude', 'business_name', 'business_neighborhoods',\n",
       "       'business_open', 'business_review_count', 'business_stars',\n",
       "       'business_state', 'business_type', 'business_location'],\n",
       "      dtype='object')"
      ]
     },
     "execution_count": 5,
     "metadata": {},
     "output_type": "execute_result"
    }
   ],
   "source": [
    "business.columns"
   ]
  },
  {
   "cell_type": "code",
   "execution_count": 6,
   "id": "f498005e",
   "metadata": {},
   "outputs": [
    {
     "data": {
      "text/plain": [
       "Mexican; Restaurants                                                            528\n",
       "Pizza; Restaurants                                                              281\n",
       "Hotels & Travel; Event Planning & Services; Hotels                              227\n",
       "Food; Coffee & Tea                                                              225\n",
       "Restaurants                                                                     202\n",
       "                                                                               ... \n",
       "Bars; Food; Beer, Wine & Spirits; Wine Bars; Nightlife; Restaurants               1\n",
       "Computers; Shopping; Home & Garden; Appliances                                    1\n",
       "Bars; Music Venues; Arts & Entertainment; Dive Bars; Nightlife; Comedy Clubs      1\n",
       "Bridal; Fashion; Shopping                                                         1\n",
       "Cosmetology Schools; Specialty Schools; Education; Beauty & Spas                  1\n",
       "Name: business_categories, Length: 2060, dtype: int64"
      ]
     },
     "execution_count": 6,
     "metadata": {},
     "output_type": "execute_result"
    }
   ],
   "source": [
    "business['business_categories'].value_counts()"
   ]
  },
  {
   "cell_type": "code",
   "execution_count": 7,
   "id": "fa4127b7",
   "metadata": {},
   "outputs": [
    {
     "data": {
      "text/plain": [
       "Phoenix             4154\n",
       "Scottsdale          2026\n",
       "Tempe               1153\n",
       "Mesa                 898\n",
       "Chandler             865\n",
       "Glendale             610\n",
       "Gilbert              439\n",
       "Peoria               267\n",
       "Surprise             161\n",
       "Avondale             129\n",
       "Goodyear             125\n",
       "Queen Creek           78\n",
       "Cave Creek            65\n",
       "Paradise Valley       57\n",
       "Casa Grande           48\n",
       "Fountain Hills        47\n",
       "Apache Junction       46\n",
       "Anthem                34\n",
       "Buckeye               31\n",
       "Maricopa              31\n",
       "Sun City              28\n",
       "Wickenburg            28\n",
       "Litchfield Park       26\n",
       "Laveen                22\n",
       "Tolleson              22\n",
       "Carefree              20\n",
       "Gold Canyon           13\n",
       "El Mirage             11\n",
       "Gila Bend             10\n",
       "Florence              10\n",
       "Sun City West          8\n",
       "Fort McDowell          7\n",
       "Youngtown              7\n",
       "San Tan Valley         6\n",
       "Higley                 6\n",
       "Morristown             5\n",
       "Coolidge               5\n",
       "Guadalupe              4\n",
       "Sun Lakes              4\n",
       "Ahwatukee              4\n",
       "Tonopah                3\n",
       "Tortilla Flat          3\n",
       "Rio Verde              2\n",
       "Fountain Hls           2\n",
       "Wittmann               2\n",
       "Yuma                   1\n",
       "Goldfield              1\n",
       "Saguaro Lake           1\n",
       "Good Year              1\n",
       "Grand Junction         1\n",
       "Tonto Basin            1\n",
       "Sun City Anthem        1\n",
       "Tucson                 1\n",
       "Charleston             1\n",
       "North Scottsdale       1\n",
       "Glendale Az            1\n",
       "Pheonix                1\n",
       "Stanfield              1\n",
       "North Pinal            1\n",
       "Waddell                1\n",
       "Name: business_city, dtype: int64"
      ]
     },
     "execution_count": 7,
     "metadata": {},
     "output_type": "execute_result"
    }
   ],
   "source": [
    "business['business_city'].value_counts()"
   ]
  },
  {
   "cell_type": "code",
   "execution_count": 8,
   "id": "5c4405dc",
   "metadata": {},
   "outputs": [
    {
     "data": {
      "text/plain": [
       "Series([], Name: business_neighborhoods, dtype: int64)"
      ]
     },
     "execution_count": 8,
     "metadata": {},
     "output_type": "execute_result"
    }
   ],
   "source": [
    "business['business_neighborhoods'].value_counts()"
   ]
  },
  {
   "cell_type": "code",
   "execution_count": 9,
   "id": "d04a13ac",
   "metadata": {},
   "outputs": [
    {
     "data": {
      "text/plain": [
       "True     10313\n",
       "False     1224\n",
       "Name: business_open, dtype: int64"
      ]
     },
     "execution_count": 9,
     "metadata": {},
     "output_type": "execute_result"
    }
   ],
   "source": [
    "business['business_open'].value_counts()"
   ]
  },
  {
   "cell_type": "code",
   "execution_count": 10,
   "id": "b8203c1f",
   "metadata": {},
   "outputs": [
    {
     "data": {
      "text/plain": [
       "True     10313\n",
       "False     1224\n",
       "Name: business_open, dtype: int64"
      ]
     },
     "execution_count": 10,
     "metadata": {},
     "output_type": "execute_result"
    }
   ],
   "source": [
    "business['business_open'].value_counts()"
   ]
  },
  {
   "cell_type": "code",
   "execution_count": 11,
   "id": "2aec2c58",
   "metadata": {},
   "outputs": [
    {
     "data": {
      "text/plain": [
       "3      2531\n",
       "4      1709\n",
       "5      1032\n",
       "6       835\n",
       "7       576\n",
       "       ... \n",
       "200       1\n",
       "245       1\n",
       "549       1\n",
       "268       1\n",
       "239       1\n",
       "Name: business_review_count, Length: 293, dtype: int64"
      ]
     },
     "execution_count": 11,
     "metadata": {},
     "output_type": "execute_result"
    }
   ],
   "source": [
    "business['business_review_count'].value_counts()"
   ]
  },
  {
   "cell_type": "code",
   "execution_count": 12,
   "id": "25fca8d7",
   "metadata": {},
   "outputs": [
    {
     "data": {
      "text/plain": [
       "4.0    2674\n",
       "3.5    2639\n",
       "4.5    1748\n",
       "3.0    1511\n",
       "5.0    1273\n",
       "2.5    1011\n",
       "2.0     403\n",
       "1.5     170\n",
       "1.0     108\n",
       "Name: business_stars, dtype: int64"
      ]
     },
     "execution_count": 12,
     "metadata": {},
     "output_type": "execute_result"
    }
   ],
   "source": [
    "business['business_stars'].value_counts()"
   ]
  },
  {
   "cell_type": "code",
   "execution_count": 13,
   "id": "49beddf1",
   "metadata": {},
   "outputs": [
    {
     "data": {
      "text/plain": [
       "AZ    11534\n",
       "CA        1\n",
       "SC        1\n",
       "CO        1\n",
       "Name: business_state, dtype: int64"
      ]
     },
     "execution_count": 13,
     "metadata": {},
     "output_type": "execute_result"
    }
   ],
   "source": [
    "business['business_state'].value_counts()"
   ]
  },
  {
   "cell_type": "code",
   "execution_count": 14,
   "id": "1f9cbc80",
   "metadata": {},
   "outputs": [
    {
     "data": {
      "text/plain": [
       "business    11537\n",
       "Name: business_type, dtype: int64"
      ]
     },
     "execution_count": 14,
     "metadata": {},
     "output_type": "execute_result"
    }
   ],
   "source": [
    "business['business_type'].value_counts()"
   ]
  },
  {
   "cell_type": "code",
   "execution_count": 15,
   "id": "673e9e28",
   "metadata": {},
   "outputs": [
    {
     "data": {
      "text/plain": [
       "str"
      ]
     },
     "execution_count": 15,
     "metadata": {},
     "output_type": "execute_result"
    }
   ],
   "source": [
    "type(business['business_location'][0])"
   ]
  },
  {
   "cell_type": "markdown",
   "id": "df55fac7",
   "metadata": {},
   "source": [
    "## 2.2 Reviews Dataset\n",
    "\n",
    "**Analysis**\n",
    "\n",
    "- 33 features\n",
    "- dtypes: bool(3), float64(5), int64(10), object(15)\n",
    "- column_a is another index column\n",
    "- review dataframe contains all features from the business dataframe\n",
    "- reviewer_name have missing values\n",
    "- text contains missing values\n",
    "\n",
    "**Feature Description**\n",
    "\n",
    "    business_blank - bool, unidentifiable\n",
    "    business_categories - an array of strings of business categories\n",
    "    business_city - string, the city\n",
    "    business_full_address - string, the full address of the business\n",
    "    business_id - string, 22 character unique string business id\n",
    "    business_latitude - float, latitude\n",
    "    business_longitude - float, longitude\n",
    "    business_name - string, the business's name\n",
    "    business_neighborhoods - NaN's\n",
    "    business_open - bool, True if open, False if closed\n",
    "    business_review_count - integer, number of reviews\n",
    "    business_stars - float, star rating, rounded to half-stars\n",
    "    business_state - string, 2 character state code, if applicable\n",
    "    business_type - string, business type\n",
    "    cool - integer, number of cool votes received\n",
    "    date - string, date formatted YYYY-MM-DD\n",
    "    funny - integer, number of funny votes received\n",
    "    review_id - string, 22 character unique review id\n",
    "    reviewer_average_stars - float, average rating of all reviews\n",
    "    reviewer_blank - bool, undefined\n",
    "    reviewer_cool - integer, number of cool votes sent by the user\n",
    "    reviewer_funny - integer, number of funny votes sent by the user\n",
    "    reviewer_name - string, the user's first name\n",
    "    reviewer_review_count - integer, the number of reviews they've written\n",
    "    reviewer_type - string, user\n",
    "    reviewer_useful - integer, number of useful votes sent by the user\n",
    "    stars - integer, star rating\n",
    "    text - string, the review itself\n",
    "    type - string, type of text review\n",
    "    useful - integer, number of useful votes received\n",
    "    user_id - string, 22 character unique user id, maps to the user in user\n",
    "    business_location - string, longitude and latitude of the business location"
   ]
  },
  {
   "cell_type": "code",
   "execution_count": 16,
   "id": "8f029d17",
   "metadata": {},
   "outputs": [
    {
     "name": "stdout",
     "output_type": "stream",
     "text": [
      "<class 'pandas.core.frame.DataFrame'>\n",
      "RangeIndex: 229907 entries, 0 to 229906\n",
      "Data columns (total 33 columns):\n",
      " #   Column                  Non-Null Count   Dtype  \n",
      "---  ------                  --------------   -----  \n",
      " 0   column_a                229907 non-null  int64  \n",
      " 1   business_blank          229907 non-null  bool   \n",
      " 2   business_categories     229130 non-null  object \n",
      " 3   business_city           229907 non-null  object \n",
      " 4   business_full_address   229907 non-null  object \n",
      " 5   business_id             229907 non-null  object \n",
      " 6   business_latitude       229907 non-null  float64\n",
      " 7   business_longitude      229907 non-null  float64\n",
      " 8   business_name           229907 non-null  object \n",
      " 9   business_neighborhoods  0 non-null       float64\n",
      " 10  business_open           229907 non-null  bool   \n",
      " 11  business_review_count   229907 non-null  int64  \n",
      " 12  business_stars          229907 non-null  float64\n",
      " 13  business_state          229907 non-null  object \n",
      " 14  business_type           229907 non-null  object \n",
      " 15  cool                    229907 non-null  int64  \n",
      " 16  date                    229907 non-null  object \n",
      " 17  funny                   229907 non-null  int64  \n",
      " 18  review_id               229907 non-null  object \n",
      " 19  reviewer_average_stars  229907 non-null  float64\n",
      " 20  reviewer_blank          229907 non-null  bool   \n",
      " 21  reviewer_cool           229907 non-null  int64  \n",
      " 22  reviewer_funny          229907 non-null  int64  \n",
      " 23  reviewer_name           215879 non-null  object \n",
      " 24  reviewer_review_count   229907 non-null  int64  \n",
      " 25  reviewer_type           229907 non-null  object \n",
      " 26  reviewer_useful         229907 non-null  int64  \n",
      " 27  stars                   229907 non-null  int64  \n",
      " 28  text                    229901 non-null  object \n",
      " 29  type                    229907 non-null  object \n",
      " 30  useful                  229907 non-null  int64  \n",
      " 31  user_id                 229907 non-null  object \n",
      " 32  business_location       229907 non-null  object \n",
      "dtypes: bool(3), float64(5), int64(10), object(15)\n",
      "memory usage: 53.3+ MB\n"
     ]
    }
   ],
   "source": [
    "review.info()"
   ]
  },
  {
   "cell_type": "code",
   "execution_count": 17,
   "id": "5b56fd26",
   "metadata": {},
   "outputs": [
    {
     "data": {
      "text/html": [
       "<div>\n",
       "<style scoped>\n",
       "    .dataframe tbody tr th:only-of-type {\n",
       "        vertical-align: middle;\n",
       "    }\n",
       "\n",
       "    .dataframe tbody tr th {\n",
       "        vertical-align: top;\n",
       "    }\n",
       "\n",
       "    .dataframe thead th {\n",
       "        text-align: right;\n",
       "    }\n",
       "</style>\n",
       "<table border=\"1\" class=\"dataframe\">\n",
       "  <thead>\n",
       "    <tr style=\"text-align: right;\">\n",
       "      <th></th>\n",
       "      <th>column_a</th>\n",
       "      <th>business_blank</th>\n",
       "      <th>business_categories</th>\n",
       "      <th>business_city</th>\n",
       "      <th>business_full_address</th>\n",
       "      <th>business_id</th>\n",
       "      <th>business_latitude</th>\n",
       "      <th>business_longitude</th>\n",
       "      <th>business_name</th>\n",
       "      <th>business_neighborhoods</th>\n",
       "      <th>...</th>\n",
       "      <th>reviewer_name</th>\n",
       "      <th>reviewer_review_count</th>\n",
       "      <th>reviewer_type</th>\n",
       "      <th>reviewer_useful</th>\n",
       "      <th>stars</th>\n",
       "      <th>text</th>\n",
       "      <th>type</th>\n",
       "      <th>useful</th>\n",
       "      <th>user_id</th>\n",
       "      <th>business_location</th>\n",
       "    </tr>\n",
       "  </thead>\n",
       "  <tbody>\n",
       "    <tr>\n",
       "      <th>0</th>\n",
       "      <td>0</td>\n",
       "      <td>False</td>\n",
       "      <td>Breakfast &amp; Brunch; Restaurants</td>\n",
       "      <td>Phoenix</td>\n",
       "      <td>6106 S 32nd St\\nPhoenix, AZ 85042</td>\n",
       "      <td>9yKzy9PApeiPPOUJEtnvkg</td>\n",
       "      <td>33.390792</td>\n",
       "      <td>-112.012504</td>\n",
       "      <td>Morning Glory Cafe</td>\n",
       "      <td>NaN</td>\n",
       "      <td>...</td>\n",
       "      <td>Jason</td>\n",
       "      <td>376</td>\n",
       "      <td>user</td>\n",
       "      <td>1034</td>\n",
       "      <td>5</td>\n",
       "      <td>My wife took me here on my birthday for breakf...</td>\n",
       "      <td>review</td>\n",
       "      <td>5</td>\n",
       "      <td>rLtl8ZkDX5vH5nAx9C3q5Q</td>\n",
       "      <td>POINT(-112.012504 33.390792)</td>\n",
       "    </tr>\n",
       "    <tr>\n",
       "      <th>1</th>\n",
       "      <td>1</td>\n",
       "      <td>False</td>\n",
       "      <td>Italian; Pizza; Restaurants</td>\n",
       "      <td>Phoenix</td>\n",
       "      <td>4848 E Chandler Blvd\\nPhoenix, AZ 85044</td>\n",
       "      <td>ZRJwVLyzEJq1VAihDhYiow</td>\n",
       "      <td>33.305607</td>\n",
       "      <td>-111.978758</td>\n",
       "      <td>Spinato's Pizzeria</td>\n",
       "      <td>NaN</td>\n",
       "      <td>...</td>\n",
       "      <td>Paul</td>\n",
       "      <td>2</td>\n",
       "      <td>user</td>\n",
       "      <td>0</td>\n",
       "      <td>5</td>\n",
       "      <td>I have no idea why some people give bad review...</td>\n",
       "      <td>review</td>\n",
       "      <td>0</td>\n",
       "      <td>0a2KyEL0d3Yb1V6aivbIuQ</td>\n",
       "      <td>POINT(-111.9787576 33.3056067)</td>\n",
       "    </tr>\n",
       "    <tr>\n",
       "      <th>2</th>\n",
       "      <td>2</td>\n",
       "      <td>False</td>\n",
       "      <td>Middle Eastern; Restaurants</td>\n",
       "      <td>Tempe</td>\n",
       "      <td>1513 E  Apache Blvd\\nTempe, AZ 85281</td>\n",
       "      <td>6oRAC4uyJCsJl1X0WZpVSA</td>\n",
       "      <td>33.414345</td>\n",
       "      <td>-111.913031</td>\n",
       "      <td>Haji-Baba</td>\n",
       "      <td>NaN</td>\n",
       "      <td>...</td>\n",
       "      <td>Nicole</td>\n",
       "      <td>3</td>\n",
       "      <td>user</td>\n",
       "      <td>3</td>\n",
       "      <td>4</td>\n",
       "      <td>love the gyro plate. Rice is so good and I als...</td>\n",
       "      <td>review</td>\n",
       "      <td>1</td>\n",
       "      <td>0hT2KtfLiobPvh6cDC8JQg</td>\n",
       "      <td>POINT(-111.913031 33.414345)</td>\n",
       "    </tr>\n",
       "    <tr>\n",
       "      <th>3</th>\n",
       "      <td>3</td>\n",
       "      <td>False</td>\n",
       "      <td>Active Life; Dog Parks; Parks</td>\n",
       "      <td>Scottsdale</td>\n",
       "      <td>5401 N Hayden Rd\\nScottsdale, AZ 85250</td>\n",
       "      <td>_1QQZuf4zZOyFCvXc0o6Vg</td>\n",
       "      <td>33.522945</td>\n",
       "      <td>-111.907886</td>\n",
       "      <td>Chaparral Dog Park</td>\n",
       "      <td>NaN</td>\n",
       "      <td>...</td>\n",
       "      <td>lindsey</td>\n",
       "      <td>31</td>\n",
       "      <td>user</td>\n",
       "      <td>75</td>\n",
       "      <td>5</td>\n",
       "      <td>Rosie, Dakota, and I LOVE Chaparral Dog Park!!...</td>\n",
       "      <td>review</td>\n",
       "      <td>2</td>\n",
       "      <td>uZetl9T0NcROGOyFfughhg</td>\n",
       "      <td>POINT(-111.907886266708 33.5229446452242)</td>\n",
       "    </tr>\n",
       "    <tr>\n",
       "      <th>4</th>\n",
       "      <td>4</td>\n",
       "      <td>False</td>\n",
       "      <td>Tires; Automotive</td>\n",
       "      <td>Mesa</td>\n",
       "      <td>1357 S Power Road\\nMesa, AZ 85206</td>\n",
       "      <td>6ozycU1RpktNG2-1BroVtw</td>\n",
       "      <td>33.391027</td>\n",
       "      <td>-111.684482</td>\n",
       "      <td>Discount Tire</td>\n",
       "      <td>NaN</td>\n",
       "      <td>...</td>\n",
       "      <td>Roger</td>\n",
       "      <td>28</td>\n",
       "      <td>user</td>\n",
       "      <td>32</td>\n",
       "      <td>5</td>\n",
       "      <td>General Manager Scott Petello is a good egg!!!...</td>\n",
       "      <td>review</td>\n",
       "      <td>0</td>\n",
       "      <td>vYmM4KTsC8ZfQBg-j5MWkw</td>\n",
       "      <td>POINT(-111.6844821 33.3910269)</td>\n",
       "    </tr>\n",
       "  </tbody>\n",
       "</table>\n",
       "<p>5 rows × 33 columns</p>\n",
       "</div>"
      ],
      "text/plain": [
       "   column_a  business_blank              business_categories business_city  \\\n",
       "0         0           False  Breakfast & Brunch; Restaurants       Phoenix   \n",
       "1         1           False      Italian; Pizza; Restaurants       Phoenix   \n",
       "2         2           False      Middle Eastern; Restaurants         Tempe   \n",
       "3         3           False    Active Life; Dog Parks; Parks    Scottsdale   \n",
       "4         4           False                Tires; Automotive          Mesa   \n",
       "\n",
       "                     business_full_address             business_id  \\\n",
       "0        6106 S 32nd St\\nPhoenix, AZ 85042  9yKzy9PApeiPPOUJEtnvkg   \n",
       "1  4848 E Chandler Blvd\\nPhoenix, AZ 85044  ZRJwVLyzEJq1VAihDhYiow   \n",
       "2     1513 E  Apache Blvd\\nTempe, AZ 85281  6oRAC4uyJCsJl1X0WZpVSA   \n",
       "3   5401 N Hayden Rd\\nScottsdale, AZ 85250  _1QQZuf4zZOyFCvXc0o6Vg   \n",
       "4        1357 S Power Road\\nMesa, AZ 85206  6ozycU1RpktNG2-1BroVtw   \n",
       "\n",
       "   business_latitude  business_longitude       business_name  \\\n",
       "0          33.390792         -112.012504  Morning Glory Cafe   \n",
       "1          33.305607         -111.978758  Spinato's Pizzeria   \n",
       "2          33.414345         -111.913031           Haji-Baba   \n",
       "3          33.522945         -111.907886  Chaparral Dog Park   \n",
       "4          33.391027         -111.684482       Discount Tire   \n",
       "\n",
       "   business_neighborhoods  ...  reviewer_name  reviewer_review_count  \\\n",
       "0                     NaN  ...          Jason                    376   \n",
       "1                     NaN  ...           Paul                      2   \n",
       "2                     NaN  ...         Nicole                      3   \n",
       "3                     NaN  ...        lindsey                     31   \n",
       "4                     NaN  ...          Roger                     28   \n",
       "\n",
       "   reviewer_type reviewer_useful stars  \\\n",
       "0           user            1034     5   \n",
       "1           user               0     5   \n",
       "2           user               3     4   \n",
       "3           user              75     5   \n",
       "4           user              32     5   \n",
       "\n",
       "                                                text    type  useful  \\\n",
       "0  My wife took me here on my birthday for breakf...  review       5   \n",
       "1  I have no idea why some people give bad review...  review       0   \n",
       "2  love the gyro plate. Rice is so good and I als...  review       1   \n",
       "3  Rosie, Dakota, and I LOVE Chaparral Dog Park!!...  review       2   \n",
       "4  General Manager Scott Petello is a good egg!!!...  review       0   \n",
       "\n",
       "                  user_id                          business_location  \n",
       "0  rLtl8ZkDX5vH5nAx9C3q5Q               POINT(-112.012504 33.390792)  \n",
       "1  0a2KyEL0d3Yb1V6aivbIuQ             POINT(-111.9787576 33.3056067)  \n",
       "2  0hT2KtfLiobPvh6cDC8JQg               POINT(-111.913031 33.414345)  \n",
       "3  uZetl9T0NcROGOyFfughhg  POINT(-111.907886266708 33.5229446452242)  \n",
       "4  vYmM4KTsC8ZfQBg-j5MWkw             POINT(-111.6844821 33.3910269)  \n",
       "\n",
       "[5 rows x 33 columns]"
      ]
     },
     "execution_count": 17,
     "metadata": {},
     "output_type": "execute_result"
    }
   ],
   "source": [
    "review.head()"
   ]
  },
  {
   "cell_type": "code",
   "execution_count": 18,
   "id": "d3f82709",
   "metadata": {},
   "outputs": [
    {
     "data": {
      "text/plain": [
       "Index(['column_a', 'business_blank', 'business_categories', 'business_city',\n",
       "       'business_full_address', 'business_id', 'business_latitude',\n",
       "       'business_longitude', 'business_name', 'business_neighborhoods',\n",
       "       'business_open', 'business_review_count', 'business_stars',\n",
       "       'business_state', 'business_type', 'cool', 'date', 'funny', 'review_id',\n",
       "       'reviewer_average_stars', 'reviewer_blank', 'reviewer_cool',\n",
       "       'reviewer_funny', 'reviewer_name', 'reviewer_review_count',\n",
       "       'reviewer_type', 'reviewer_useful', 'stars', 'text', 'type', 'useful',\n",
       "       'user_id', 'business_location'],\n",
       "      dtype='object')"
      ]
     },
     "execution_count": 18,
     "metadata": {},
     "output_type": "execute_result"
    }
   ],
   "source": [
    "review.columns"
   ]
  },
  {
   "cell_type": "code",
   "execution_count": 19,
   "id": "fd377f4d",
   "metadata": {},
   "outputs": [
    {
     "data": {
      "text/plain": [
       "0.00    14029\n",
       "4.00     9454\n",
       "5.00     8060\n",
       "3.00     4045\n",
       "3.67     4027\n",
       "        ...  \n",
       "1.61        1\n",
       "2.07        1\n",
       "1.36        1\n",
       "1.09        1\n",
       "1.82        1\n",
       "Name: reviewer_average_stars, Length: 331, dtype: int64"
      ]
     },
     "execution_count": 19,
     "metadata": {},
     "output_type": "execute_result"
    }
   ],
   "source": [
    "review['reviewer_average_stars'].value_counts()"
   ]
  },
  {
   "cell_type": "code",
   "execution_count": 20,
   "id": "6411e72a",
   "metadata": {},
   "outputs": [
    {
     "data": {
      "text/plain": [
       "0       39450\n",
       "1       15012\n",
       "2       10795\n",
       "3        8321\n",
       "4        6584\n",
       "        ...  \n",
       "3703        1\n",
       "3902        1\n",
       "710         1\n",
       "2479        1\n",
       "662         1\n",
       "Name: reviewer_cool, Length: 1116, dtype: int64"
      ]
     },
     "execution_count": 20,
     "metadata": {},
     "output_type": "execute_result"
    }
   ],
   "source": [
    "review['reviewer_cool'].value_counts()"
   ]
  },
  {
   "cell_type": "code",
   "execution_count": 21,
   "id": "3b44faca",
   "metadata": {},
   "outputs": [
    {
     "data": {
      "text/plain": [
       "user    229907\n",
       "Name: reviewer_type, dtype: int64"
      ]
     },
     "execution_count": 21,
     "metadata": {},
     "output_type": "execute_result"
    }
   ],
   "source": [
    "review['reviewer_type'].value_counts()"
   ]
  },
  {
   "cell_type": "code",
   "execution_count": 22,
   "id": "df1bcddc",
   "metadata": {},
   "outputs": [
    {
     "data": {
      "text/plain": [
       "4    79878\n",
       "5    76193\n",
       "3    35363\n",
       "2    20957\n",
       "1    17516\n",
       "Name: stars, dtype: int64"
      ]
     },
     "execution_count": 22,
     "metadata": {},
     "output_type": "execute_result"
    }
   ],
   "source": [
    "review['stars'].value_counts()"
   ]
  },
  {
   "cell_type": "code",
   "execution_count": 23,
   "id": "8cab77b7",
   "metadata": {},
   "outputs": [
    {
     "data": {
      "text/plain": [
       "review    229907\n",
       "Name: type, dtype: int64"
      ]
     },
     "execution_count": 23,
     "metadata": {},
     "output_type": "execute_result"
    }
   ],
   "source": [
    "review['type'].value_counts()"
   ]
  },
  {
   "cell_type": "code",
   "execution_count": 24,
   "id": "16b54ba5",
   "metadata": {},
   "outputs": [
    {
     "data": {
      "text/plain": [
       "'Wonderful Vietnamese sandwich shoppe. Their baguettes are great hot out of the oven with butter or in one of their many sandwich choices. They have a modest selection of baked goods along with some of the best egg rolls around. Bring cash or your ATM card as no credit cards are accepted but they have an ATM on premises.'"
      ]
     },
     "execution_count": 24,
     "metadata": {},
     "output_type": "execute_result"
    }
   ],
   "source": [
    "review['text'][11]"
   ]
  },
  {
   "cell_type": "code",
   "execution_count": 25,
   "id": "662b4116",
   "metadata": {},
   "outputs": [
    {
     "data": {
      "text/plain": [
       "False    215879\n",
       "True      14028\n",
       "Name: reviewer_blank, dtype: int64"
      ]
     },
     "execution_count": 25,
     "metadata": {},
     "output_type": "execute_result"
    }
   ],
   "source": [
    "review['reviewer_blank'].value_counts()"
   ]
  },
  {
   "cell_type": "markdown",
   "id": "feca9673",
   "metadata": {},
   "source": [
    "## 2.3 Users Dataset\n",
    "\n",
    "**Analysis**\n",
    "- 9 features\n",
    "- dtypes: float64(1), int64(5), object(3)\n",
    "- column_a has no information\n",
    "\n",
    "**Feature Description**\n",
    "\n",
    "    reviewer_average_stars - float, average rating of all reviews\n",
    "    reviewer_cool - integer, number of cool votes sent by the user\n",
    "    reviewer_funny - integer, number of funny votes sent by the user\n",
    "    reviewer_name - string, the user's first name\n",
    "    reviewer_review_count - integer, the number of reviews they've written\n",
    "    reviewer_type - string, user\n",
    "    reviewer_useful - integer, number of useful votes sent by the user\n",
    "    user_id - string, 22 character unique user id, maps to the user in user"
   ]
  },
  {
   "cell_type": "code",
   "execution_count": 26,
   "id": "86d1f07b",
   "metadata": {},
   "outputs": [
    {
     "name": "stdout",
     "output_type": "stream",
     "text": [
      "<class 'pandas.core.frame.DataFrame'>\n",
      "RangeIndex: 43873 entries, 0 to 43872\n",
      "Data columns (total 9 columns):\n",
      " #   Column                  Non-Null Count  Dtype  \n",
      "---  ------                  --------------  -----  \n",
      " 0   column_a                43873 non-null  int64  \n",
      " 1   reviewer_average_stars  43873 non-null  float64\n",
      " 2   reviewer_cool           43873 non-null  int64  \n",
      " 3   reviewer_funny          43873 non-null  int64  \n",
      " 4   reviewer_name           43873 non-null  object \n",
      " 5   reviewer_review_count   43873 non-null  int64  \n",
      " 6   reviewer_type           43873 non-null  object \n",
      " 7   reviewer_useful         43873 non-null  int64  \n",
      " 8   user_id                 43873 non-null  object \n",
      "dtypes: float64(1), int64(5), object(3)\n",
      "memory usage: 3.0+ MB\n"
     ]
    }
   ],
   "source": [
    "user.info()"
   ]
  },
  {
   "cell_type": "code",
   "execution_count": 27,
   "id": "eeefcb32",
   "metadata": {},
   "outputs": [
    {
     "data": {
      "text/html": [
       "<div>\n",
       "<style scoped>\n",
       "    .dataframe tbody tr th:only-of-type {\n",
       "        vertical-align: middle;\n",
       "    }\n",
       "\n",
       "    .dataframe tbody tr th {\n",
       "        vertical-align: top;\n",
       "    }\n",
       "\n",
       "    .dataframe thead th {\n",
       "        text-align: right;\n",
       "    }\n",
       "</style>\n",
       "<table border=\"1\" class=\"dataframe\">\n",
       "  <thead>\n",
       "    <tr style=\"text-align: right;\">\n",
       "      <th></th>\n",
       "      <th>column_a</th>\n",
       "      <th>reviewer_average_stars</th>\n",
       "      <th>reviewer_cool</th>\n",
       "      <th>reviewer_funny</th>\n",
       "      <th>reviewer_name</th>\n",
       "      <th>reviewer_review_count</th>\n",
       "      <th>reviewer_type</th>\n",
       "      <th>reviewer_useful</th>\n",
       "      <th>user_id</th>\n",
       "    </tr>\n",
       "  </thead>\n",
       "  <tbody>\n",
       "    <tr>\n",
       "      <th>0</th>\n",
       "      <td>0</td>\n",
       "      <td>5.0</td>\n",
       "      <td>0</td>\n",
       "      <td>0</td>\n",
       "      <td>Jim</td>\n",
       "      <td>6</td>\n",
       "      <td>user</td>\n",
       "      <td>7</td>\n",
       "      <td>CR2y7yEm4X035ZMzrTtN9Q</td>\n",
       "    </tr>\n",
       "    <tr>\n",
       "      <th>1</th>\n",
       "      <td>1</td>\n",
       "      <td>1.0</td>\n",
       "      <td>0</td>\n",
       "      <td>0</td>\n",
       "      <td>Kelle</td>\n",
       "      <td>2</td>\n",
       "      <td>user</td>\n",
       "      <td>1</td>\n",
       "      <td>_9GXoHhdxc30ujPaQwh6Ew</td>\n",
       "    </tr>\n",
       "    <tr>\n",
       "      <th>2</th>\n",
       "      <td>2</td>\n",
       "      <td>5.0</td>\n",
       "      <td>0</td>\n",
       "      <td>0</td>\n",
       "      <td>Stephanie</td>\n",
       "      <td>2</td>\n",
       "      <td>user</td>\n",
       "      <td>1</td>\n",
       "      <td>8mM-nqxjg6pT04kwcjMbsw</td>\n",
       "    </tr>\n",
       "    <tr>\n",
       "      <th>3</th>\n",
       "      <td>3</td>\n",
       "      <td>5.0</td>\n",
       "      <td>0</td>\n",
       "      <td>0</td>\n",
       "      <td>T</td>\n",
       "      <td>2</td>\n",
       "      <td>user</td>\n",
       "      <td>2</td>\n",
       "      <td>Ch6CdTR2IVaVANr-RglMOg</td>\n",
       "    </tr>\n",
       "    <tr>\n",
       "      <th>4</th>\n",
       "      <td>4</td>\n",
       "      <td>1.0</td>\n",
       "      <td>0</td>\n",
       "      <td>0</td>\n",
       "      <td>Beth</td>\n",
       "      <td>1</td>\n",
       "      <td>user</td>\n",
       "      <td>0</td>\n",
       "      <td>NZrLmHRyiHmyT1JrfzkCOA</td>\n",
       "    </tr>\n",
       "  </tbody>\n",
       "</table>\n",
       "</div>"
      ],
      "text/plain": [
       "   column_a  reviewer_average_stars  reviewer_cool  reviewer_funny  \\\n",
       "0         0                     5.0              0               0   \n",
       "1         1                     1.0              0               0   \n",
       "2         2                     5.0              0               0   \n",
       "3         3                     5.0              0               0   \n",
       "4         4                     1.0              0               0   \n",
       "\n",
       "  reviewer_name  reviewer_review_count reviewer_type  reviewer_useful  \\\n",
       "0           Jim                      6          user                7   \n",
       "1         Kelle                      2          user                1   \n",
       "2     Stephanie                      2          user                1   \n",
       "3             T                      2          user                2   \n",
       "4          Beth                      1          user                0   \n",
       "\n",
       "                  user_id  \n",
       "0  CR2y7yEm4X035ZMzrTtN9Q  \n",
       "1  _9GXoHhdxc30ujPaQwh6Ew  \n",
       "2  8mM-nqxjg6pT04kwcjMbsw  \n",
       "3  Ch6CdTR2IVaVANr-RglMOg  \n",
       "4  NZrLmHRyiHmyT1JrfzkCOA  "
      ]
     },
     "execution_count": 27,
     "metadata": {},
     "output_type": "execute_result"
    }
   ],
   "source": [
    "user.head()"
   ]
  },
  {
   "cell_type": "code",
   "execution_count": 28,
   "id": "a297c2cd",
   "metadata": {},
   "outputs": [
    {
     "data": {
      "text/plain": [
       "user    43873\n",
       "Name: reviewer_type, dtype: int64"
      ]
     },
     "execution_count": 28,
     "metadata": {},
     "output_type": "execute_result"
    }
   ],
   "source": [
    "user['reviewer_type'].value_counts()"
   ]
  },
  {
   "cell_type": "markdown",
   "id": "ed3d9c01",
   "metadata": {},
   "source": [
    "# Early EDA and Data Cleaning \n",
    "\n",
    "**Analysis**\n",
    "- The review dataset contains all features from the business and the user dataset. At this moment it is unclear if the user and business dataset will be used for further data analysis.\n",
    "\n",
    "**Recommendations**\n",
    "\n",
    "I recommend removing the following features from the datasets if applicable:\n",
    "\n",
    "    column_a - contains the index\n",
    "    business_blank - contains only the False boolean value of unknown       \n",
    "    business_neighborhoods - contains all missing values\n",
    "    business_type - contains only one value 'business'\n",
    "    reviewer_type - has only one value 'user' which is deemed unnecessary\n",
    "    type - contains only one value 'review' which is deemed unnecess      \n",
    "    business_location - contains already existing information on longitude/latitude)"
   ]
  },
  {
   "cell_type": "markdown",
   "id": "a6dac942",
   "metadata": {},
   "source": [
    "## 3.1 Missing values"
   ]
  },
  {
   "cell_type": "markdown",
   "id": "dc4df0a2",
   "metadata": {},
   "source": [
    "### Business Dataset\n",
    "\n",
    "- All missing values have been removed on the *business_categories* column"
   ]
  },
  {
   "cell_type": "code",
   "execution_count": 29,
   "id": "6b303d94",
   "metadata": {},
   "outputs": [
    {
     "name": "stdout",
     "output_type": "stream",
     "text": [
      "Number of missing values:  11714\n",
      "Percent of missing values per feature: \n"
     ]
    },
    {
     "data": {
      "text/plain": [
       "column_a                    0.000000\n",
       "business_categories         1.534194\n",
       "business_city               0.000000\n",
       "business_full_address       0.000000\n",
       "business_id                 0.000000\n",
       "business_latitude           0.000000\n",
       "business_longitude          0.000000\n",
       "business_name               0.000000\n",
       "business_neighborhoods    100.000000\n",
       "business_open               0.000000\n",
       "business_review_count       0.000000\n",
       "business_stars              0.000000\n",
       "business_state              0.000000\n",
       "business_type               0.000000\n",
       "business_location           0.000000\n",
       "dtype: float64"
      ]
     },
     "execution_count": 29,
     "metadata": {},
     "output_type": "execute_result"
    }
   ],
   "source": [
    "#exploring the number of missing values per feature in percentage\n",
    "print('Number of missing values: ', business.isnull().values.sum())\n",
    "print('Percent of missing values per feature: ') \n",
    "business.isnull().sum() * 100 / len(business)"
   ]
  },
  {
   "cell_type": "code",
   "execution_count": 30,
   "id": "3eb9aa1c",
   "metadata": {},
   "outputs": [
    {
     "data": {
      "text/plain": [
       "<AxesSubplot:>"
      ]
     },
     "execution_count": 30,
     "metadata": {},
     "output_type": "execute_result"
    },
    {
     "data": {
      "image/png": "[encoded data removed]",
      "text/plain": [
       "<Figure size 1800x720 with 2 Axes>"
      ]
     },
     "metadata": {
      "needs_background": "light"
     },
     "output_type": "display_data"
    }
   ],
   "source": [
    "#matrix map of missing values\n",
    "msno.matrix(business)"
   ]
  },
  {
   "cell_type": "code",
   "execution_count": 31,
   "id": "14f09f73",
   "metadata": {},
   "outputs": [],
   "source": [
    "#removing all missing values in categories\n",
    "business.dropna(subset = ['business_categories'], inplace=True)"
   ]
  },
  {
   "cell_type": "code",
   "execution_count": 32,
   "id": "68dc8f92",
   "metadata": {},
   "outputs": [
    {
     "data": {
      "text/html": [
       "<div>\n",
       "<style scoped>\n",
       "    .dataframe tbody tr th:only-of-type {\n",
       "        vertical-align: middle;\n",
       "    }\n",
       "\n",
       "    .dataframe tbody tr th {\n",
       "        vertical-align: top;\n",
       "    }\n",
       "\n",
       "    .dataframe thead th {\n",
       "        text-align: right;\n",
       "    }\n",
       "</style>\n",
       "<table border=\"1\" class=\"dataframe\">\n",
       "  <thead>\n",
       "    <tr style=\"text-align: right;\">\n",
       "      <th></th>\n",
       "      <th>column_a</th>\n",
       "      <th>business_categories</th>\n",
       "      <th>business_city</th>\n",
       "      <th>business_full_address</th>\n",
       "      <th>business_id</th>\n",
       "      <th>business_latitude</th>\n",
       "      <th>business_longitude</th>\n",
       "      <th>business_name</th>\n",
       "      <th>business_neighborhoods</th>\n",
       "      <th>business_open</th>\n",
       "      <th>business_review_count</th>\n",
       "      <th>business_stars</th>\n",
       "      <th>business_state</th>\n",
       "      <th>business_type</th>\n",
       "      <th>business_location</th>\n",
       "    </tr>\n",
       "  </thead>\n",
       "  <tbody>\n",
       "    <tr>\n",
       "      <th>0</th>\n",
       "      <td>0</td>\n",
       "      <td>Accountants; Professional Services; Tax Servic...</td>\n",
       "      <td>Peoria</td>\n",
       "      <td>8466 W Peoria Ave\\nSte 6\\nPeoria, AZ 85345</td>\n",
       "      <td>rncjoVoEFUJGCUoC1JgnUA</td>\n",
       "      <td>33.581867</td>\n",
       "      <td>-112.241596</td>\n",
       "      <td>Peoria Income Tax Service</td>\n",
       "      <td>NaN</td>\n",
       "      <td>True</td>\n",
       "      <td>3</td>\n",
       "      <td>5.0</td>\n",
       "      <td>AZ</td>\n",
       "      <td>business</td>\n",
       "      <td>POINT(-112.241596 33.581867)</td>\n",
       "    </tr>\n",
       "    <tr>\n",
       "      <th>1</th>\n",
       "      <td>1</td>\n",
       "      <td>Sporting Goods; Bikes; Shopping</td>\n",
       "      <td>Phoenix</td>\n",
       "      <td>2149 W Wood Dr\\nPhoenix, AZ 85029</td>\n",
       "      <td>0FNFSzCFP_rGUoJx8W7tJg</td>\n",
       "      <td>33.604054</td>\n",
       "      <td>-112.105933</td>\n",
       "      <td>Bike Doctor</td>\n",
       "      <td>NaN</td>\n",
       "      <td>True</td>\n",
       "      <td>5</td>\n",
       "      <td>5.0</td>\n",
       "      <td>AZ</td>\n",
       "      <td>business</td>\n",
       "      <td>POINT(-112.105933 33.604054)</td>\n",
       "    </tr>\n",
       "    <tr>\n",
       "      <th>2</th>\n",
       "      <td>3</td>\n",
       "      <td>Food; Grocery</td>\n",
       "      <td>Phoenix</td>\n",
       "      <td>845 W Southern Ave\\nPhoenix, AZ 85041</td>\n",
       "      <td>usAsSV36QmUej8--yvN-dg</td>\n",
       "      <td>33.392210</td>\n",
       "      <td>-112.085377</td>\n",
       "      <td>Food City</td>\n",
       "      <td>NaN</td>\n",
       "      <td>True</td>\n",
       "      <td>5</td>\n",
       "      <td>3.5</td>\n",
       "      <td>AZ</td>\n",
       "      <td>business</td>\n",
       "      <td>POINT(-112.0853773 33.3922099)</td>\n",
       "    </tr>\n",
       "    <tr>\n",
       "      <th>3</th>\n",
       "      <td>4</td>\n",
       "      <td>Food; Bagels; Delis; Restaurants</td>\n",
       "      <td>Glendale Az</td>\n",
       "      <td>6520 W Happy Valley Rd\\nSte 101\\nGlendale Az, ...</td>\n",
       "      <td>PzOqRohWw7F7YEPBz6AubA</td>\n",
       "      <td>33.712797</td>\n",
       "      <td>-112.200264</td>\n",
       "      <td>Hot Bagels &amp; Deli</td>\n",
       "      <td>NaN</td>\n",
       "      <td>True</td>\n",
       "      <td>14</td>\n",
       "      <td>3.5</td>\n",
       "      <td>AZ</td>\n",
       "      <td>business</td>\n",
       "      <td>POINT(-112.200264 33.712797)</td>\n",
       "    </tr>\n",
       "    <tr>\n",
       "      <th>4</th>\n",
       "      <td>5</td>\n",
       "      <td>Women's Clothing; Fashion; Shopping</td>\n",
       "      <td>Glendale</td>\n",
       "      <td>The Americana at Brand\\n869 Americana Way\\nGle...</td>\n",
       "      <td>gtQzAiy7D-dPU8WzT3jX3Q</td>\n",
       "      <td>33.607766</td>\n",
       "      <td>-112.481632</td>\n",
       "      <td>Barney's New York Co-op</td>\n",
       "      <td>NaN</td>\n",
       "      <td>True</td>\n",
       "      <td>6</td>\n",
       "      <td>4.5</td>\n",
       "      <td>CA</td>\n",
       "      <td>business</td>\n",
       "      <td>POINT(-112.481632232666 33.6077660588006)</td>\n",
       "    </tr>\n",
       "  </tbody>\n",
       "</table>\n",
       "</div>"
      ],
      "text/plain": [
       "   column_a                                business_categories business_city  \\\n",
       "0         0  Accountants; Professional Services; Tax Servic...        Peoria   \n",
       "1         1                    Sporting Goods; Bikes; Shopping       Phoenix   \n",
       "2         3                                      Food; Grocery       Phoenix   \n",
       "3         4                   Food; Bagels; Delis; Restaurants   Glendale Az   \n",
       "4         5                Women's Clothing; Fashion; Shopping      Glendale   \n",
       "\n",
       "                               business_full_address             business_id  \\\n",
       "0         8466 W Peoria Ave\\nSte 6\\nPeoria, AZ 85345  rncjoVoEFUJGCUoC1JgnUA   \n",
       "1                  2149 W Wood Dr\\nPhoenix, AZ 85029  0FNFSzCFP_rGUoJx8W7tJg   \n",
       "2              845 W Southern Ave\\nPhoenix, AZ 85041  usAsSV36QmUej8--yvN-dg   \n",
       "3  6520 W Happy Valley Rd\\nSte 101\\nGlendale Az, ...  PzOqRohWw7F7YEPBz6AubA   \n",
       "4  The Americana at Brand\\n869 Americana Way\\nGle...  gtQzAiy7D-dPU8WzT3jX3Q   \n",
       "\n",
       "   business_latitude  business_longitude              business_name  \\\n",
       "0          33.581867         -112.241596  Peoria Income Tax Service   \n",
       "1          33.604054         -112.105933                Bike Doctor   \n",
       "2          33.392210         -112.085377                  Food City   \n",
       "3          33.712797         -112.200264          Hot Bagels & Deli   \n",
       "4          33.607766         -112.481632    Barney's New York Co-op   \n",
       "\n",
       "   business_neighborhoods  business_open  business_review_count  \\\n",
       "0                     NaN           True                      3   \n",
       "1                     NaN           True                      5   \n",
       "2                     NaN           True                      5   \n",
       "3                     NaN           True                     14   \n",
       "4                     NaN           True                      6   \n",
       "\n",
       "   business_stars business_state business_type  \\\n",
       "0             5.0             AZ      business   \n",
       "1             5.0             AZ      business   \n",
       "2             3.5             AZ      business   \n",
       "3             3.5             AZ      business   \n",
       "4             4.5             CA      business   \n",
       "\n",
       "                           business_location  \n",
       "0               POINT(-112.241596 33.581867)  \n",
       "1               POINT(-112.105933 33.604054)  \n",
       "2             POINT(-112.0853773 33.3922099)  \n",
       "3               POINT(-112.200264 33.712797)  \n",
       "4  POINT(-112.481632232666 33.6077660588006)  "
      ]
     },
     "execution_count": 32,
     "metadata": {},
     "output_type": "execute_result"
    }
   ],
   "source": [
    "#resetting the index\n",
    "business.reset_index(drop=True, inplace=True)\n",
    "business.head()"
   ]
  },
  {
   "cell_type": "markdown",
   "id": "55a5bb48",
   "metadata": {},
   "source": [
    "### Review Dataset\n",
    "\n",
    "- All missing values have been removed on the *business_categories* column\n",
    "- There are missing values left in the *reviewers_name*, I decided not to remove them at this early stage of Data Exploration"
   ]
  },
  {
   "cell_type": "code",
   "execution_count": 33,
   "id": "bcf6c2e2",
   "metadata": {},
   "outputs": [
    {
     "name": "stdout",
     "output_type": "stream",
     "text": [
      "Number of missing values:  244718\n",
      "Percent of missing values per feature: \n"
     ]
    },
    {
     "data": {
      "text/plain": [
       "column_a                    0.000000\n",
       "business_blank              0.000000\n",
       "business_categories         0.337963\n",
       "business_city               0.000000\n",
       "business_full_address       0.000000\n",
       "business_id                 0.000000\n",
       "business_latitude           0.000000\n",
       "business_longitude          0.000000\n",
       "business_name               0.000000\n",
       "business_neighborhoods    100.000000\n",
       "business_open               0.000000\n",
       "business_review_count       0.000000\n",
       "business_stars              0.000000\n",
       "business_state              0.000000\n",
       "business_type               0.000000\n",
       "cool                        0.000000\n",
       "date                        0.000000\n",
       "funny                       0.000000\n",
       "review_id                   0.000000\n",
       "reviewer_average_stars      0.000000\n",
       "reviewer_blank              0.000000\n",
       "reviewer_cool               0.000000\n",
       "reviewer_funny              0.000000\n",
       "reviewer_name               6.101598\n",
       "reviewer_review_count       0.000000\n",
       "reviewer_type               0.000000\n",
       "reviewer_useful             0.000000\n",
       "stars                       0.000000\n",
       "text                        0.002610\n",
       "type                        0.000000\n",
       "useful                      0.000000\n",
       "user_id                     0.000000\n",
       "business_location           0.000000\n",
       "dtype: float64"
      ]
     },
     "execution_count": 33,
     "metadata": {},
     "output_type": "execute_result"
    }
   ],
   "source": [
    "#exploring the number of missing values per feature in percentage\n",
    "print('Number of missing values: ', review.isnull().values.sum())\n",
    "print('Percent of missing values per feature: ') \n",
    "review.isnull().sum() * 100 / len(review)"
   ]
  },
  {
   "cell_type": "code",
   "execution_count": 34,
   "id": "dccdb06f",
   "metadata": {},
   "outputs": [
    {
     "data": {
      "text/plain": [
       "<AxesSubplot:>"
      ]
     },
     "execution_count": 34,
     "metadata": {},
     "output_type": "execute_result"
    },
    {
     "data": {
      "image/png": "[encoded data removed]",
      "text/plain": [
       "<Figure size 1800x720 with 2 Axes>"
      ]
     },
     "metadata": {
      "needs_background": "light"
     },
     "output_type": "display_data"
    }
   ],
   "source": [
    "#matrix map of missing values\n",
    "msno.matrix(review)"
   ]
  },
  {
   "cell_type": "code",
   "execution_count": 35,
   "id": "86555d9f",
   "metadata": {},
   "outputs": [],
   "source": [
    "#removing all missing values in categories\n",
    "review.dropna(subset = ['business_categories'], inplace=True)"
   ]
  },
  {
   "cell_type": "code",
   "execution_count": 36,
   "id": "51cafe77",
   "metadata": {},
   "outputs": [
    {
     "data": {
      "text/html": [
       "<div>\n",
       "<style scoped>\n",
       "    .dataframe tbody tr th:only-of-type {\n",
       "        vertical-align: middle;\n",
       "    }\n",
       "\n",
       "    .dataframe tbody tr th {\n",
       "        vertical-align: top;\n",
       "    }\n",
       "\n",
       "    .dataframe thead th {\n",
       "        text-align: right;\n",
       "    }\n",
       "</style>\n",
       "<table border=\"1\" class=\"dataframe\">\n",
       "  <thead>\n",
       "    <tr style=\"text-align: right;\">\n",
       "      <th></th>\n",
       "      <th>column_a</th>\n",
       "      <th>business_blank</th>\n",
       "      <th>business_categories</th>\n",
       "      <th>business_city</th>\n",
       "      <th>business_full_address</th>\n",
       "      <th>business_id</th>\n",
       "      <th>business_latitude</th>\n",
       "      <th>business_longitude</th>\n",
       "      <th>business_name</th>\n",
       "      <th>business_neighborhoods</th>\n",
       "      <th>...</th>\n",
       "      <th>reviewer_name</th>\n",
       "      <th>reviewer_review_count</th>\n",
       "      <th>reviewer_type</th>\n",
       "      <th>reviewer_useful</th>\n",
       "      <th>stars</th>\n",
       "      <th>text</th>\n",
       "      <th>type</th>\n",
       "      <th>useful</th>\n",
       "      <th>user_id</th>\n",
       "      <th>business_location</th>\n",
       "    </tr>\n",
       "  </thead>\n",
       "  <tbody>\n",
       "    <tr>\n",
       "      <th>0</th>\n",
       "      <td>0</td>\n",
       "      <td>False</td>\n",
       "      <td>Breakfast &amp; Brunch; Restaurants</td>\n",
       "      <td>Phoenix</td>\n",
       "      <td>6106 S 32nd St\\nPhoenix, AZ 85042</td>\n",
       "      <td>9yKzy9PApeiPPOUJEtnvkg</td>\n",
       "      <td>33.390792</td>\n",
       "      <td>-112.012504</td>\n",
       "      <td>Morning Glory Cafe</td>\n",
       "      <td>NaN</td>\n",
       "      <td>...</td>\n",
       "      <td>Jason</td>\n",
       "      <td>376</td>\n",
       "      <td>user</td>\n",
       "      <td>1034</td>\n",
       "      <td>5</td>\n",
       "      <td>My wife took me here on my birthday for breakf...</td>\n",
       "      <td>review</td>\n",
       "      <td>5</td>\n",
       "      <td>rLtl8ZkDX5vH5nAx9C3q5Q</td>\n",
       "      <td>POINT(-112.012504 33.390792)</td>\n",
       "    </tr>\n",
       "    <tr>\n",
       "      <th>1</th>\n",
       "      <td>1</td>\n",
       "      <td>False</td>\n",
       "      <td>Italian; Pizza; Restaurants</td>\n",
       "      <td>Phoenix</td>\n",
       "      <td>4848 E Chandler Blvd\\nPhoenix, AZ 85044</td>\n",
       "      <td>ZRJwVLyzEJq1VAihDhYiow</td>\n",
       "      <td>33.305607</td>\n",
       "      <td>-111.978758</td>\n",
       "      <td>Spinato's Pizzeria</td>\n",
       "      <td>NaN</td>\n",
       "      <td>...</td>\n",
       "      <td>Paul</td>\n",
       "      <td>2</td>\n",
       "      <td>user</td>\n",
       "      <td>0</td>\n",
       "      <td>5</td>\n",
       "      <td>I have no idea why some people give bad review...</td>\n",
       "      <td>review</td>\n",
       "      <td>0</td>\n",
       "      <td>0a2KyEL0d3Yb1V6aivbIuQ</td>\n",
       "      <td>POINT(-111.9787576 33.3056067)</td>\n",
       "    </tr>\n",
       "    <tr>\n",
       "      <th>2</th>\n",
       "      <td>2</td>\n",
       "      <td>False</td>\n",
       "      <td>Middle Eastern; Restaurants</td>\n",
       "      <td>Tempe</td>\n",
       "      <td>1513 E  Apache Blvd\\nTempe, AZ 85281</td>\n",
       "      <td>6oRAC4uyJCsJl1X0WZpVSA</td>\n",
       "      <td>33.414345</td>\n",
       "      <td>-111.913031</td>\n",
       "      <td>Haji-Baba</td>\n",
       "      <td>NaN</td>\n",
       "      <td>...</td>\n",
       "      <td>Nicole</td>\n",
       "      <td>3</td>\n",
       "      <td>user</td>\n",
       "      <td>3</td>\n",
       "      <td>4</td>\n",
       "      <td>love the gyro plate. Rice is so good and I als...</td>\n",
       "      <td>review</td>\n",
       "      <td>1</td>\n",
       "      <td>0hT2KtfLiobPvh6cDC8JQg</td>\n",
       "      <td>POINT(-111.913031 33.414345)</td>\n",
       "    </tr>\n",
       "    <tr>\n",
       "      <th>3</th>\n",
       "      <td>3</td>\n",
       "      <td>False</td>\n",
       "      <td>Active Life; Dog Parks; Parks</td>\n",
       "      <td>Scottsdale</td>\n",
       "      <td>5401 N Hayden Rd\\nScottsdale, AZ 85250</td>\n",
       "      <td>_1QQZuf4zZOyFCvXc0o6Vg</td>\n",
       "      <td>33.522945</td>\n",
       "      <td>-111.907886</td>\n",
       "      <td>Chaparral Dog Park</td>\n",
       "      <td>NaN</td>\n",
       "      <td>...</td>\n",
       "      <td>lindsey</td>\n",
       "      <td>31</td>\n",
       "      <td>user</td>\n",
       "      <td>75</td>\n",
       "      <td>5</td>\n",
       "      <td>Rosie, Dakota, and I LOVE Chaparral Dog Park!!...</td>\n",
       "      <td>review</td>\n",
       "      <td>2</td>\n",
       "      <td>uZetl9T0NcROGOyFfughhg</td>\n",
       "      <td>POINT(-111.907886266708 33.5229446452242)</td>\n",
       "    </tr>\n",
       "    <tr>\n",
       "      <th>4</th>\n",
       "      <td>4</td>\n",
       "      <td>False</td>\n",
       "      <td>Tires; Automotive</td>\n",
       "      <td>Mesa</td>\n",
       "      <td>1357 S Power Road\\nMesa, AZ 85206</td>\n",
       "      <td>6ozycU1RpktNG2-1BroVtw</td>\n",
       "      <td>33.391027</td>\n",
       "      <td>-111.684482</td>\n",
       "      <td>Discount Tire</td>\n",
       "      <td>NaN</td>\n",
       "      <td>...</td>\n",
       "      <td>Roger</td>\n",
       "      <td>28</td>\n",
       "      <td>user</td>\n",
       "      <td>32</td>\n",
       "      <td>5</td>\n",
       "      <td>General Manager Scott Petello is a good egg!!!...</td>\n",
       "      <td>review</td>\n",
       "      <td>0</td>\n",
       "      <td>vYmM4KTsC8ZfQBg-j5MWkw</td>\n",
       "      <td>POINT(-111.6844821 33.3910269)</td>\n",
       "    </tr>\n",
       "  </tbody>\n",
       "</table>\n",
       "<p>5 rows × 33 columns</p>\n",
       "</div>"
      ],
      "text/plain": [
       "   column_a  business_blank              business_categories business_city  \\\n",
       "0         0           False  Breakfast & Brunch; Restaurants       Phoenix   \n",
       "1         1           False      Italian; Pizza; Restaurants       Phoenix   \n",
       "2         2           False      Middle Eastern; Restaurants         Tempe   \n",
       "3         3           False    Active Life; Dog Parks; Parks    Scottsdale   \n",
       "4         4           False                Tires; Automotive          Mesa   \n",
       "\n",
       "                     business_full_address             business_id  \\\n",
       "0        6106 S 32nd St\\nPhoenix, AZ 85042  9yKzy9PApeiPPOUJEtnvkg   \n",
       "1  4848 E Chandler Blvd\\nPhoenix, AZ 85044  ZRJwVLyzEJq1VAihDhYiow   \n",
       "2     1513 E  Apache Blvd\\nTempe, AZ 85281  6oRAC4uyJCsJl1X0WZpVSA   \n",
       "3   5401 N Hayden Rd\\nScottsdale, AZ 85250  _1QQZuf4zZOyFCvXc0o6Vg   \n",
       "4        1357 S Power Road\\nMesa, AZ 85206  6ozycU1RpktNG2-1BroVtw   \n",
       "\n",
       "   business_latitude  business_longitude       business_name  \\\n",
       "0          33.390792         -112.012504  Morning Glory Cafe   \n",
       "1          33.305607         -111.978758  Spinato's Pizzeria   \n",
       "2          33.414345         -111.913031           Haji-Baba   \n",
       "3          33.522945         -111.907886  Chaparral Dog Park   \n",
       "4          33.391027         -111.684482       Discount Tire   \n",
       "\n",
       "   business_neighborhoods  ...  reviewer_name  reviewer_review_count  \\\n",
       "0                     NaN  ...          Jason                    376   \n",
       "1                     NaN  ...           Paul                      2   \n",
       "2                     NaN  ...         Nicole                      3   \n",
       "3                     NaN  ...        lindsey                     31   \n",
       "4                     NaN  ...          Roger                     28   \n",
       "\n",
       "   reviewer_type reviewer_useful stars  \\\n",
       "0           user            1034     5   \n",
       "1           user               0     5   \n",
       "2           user               3     4   \n",
       "3           user              75     5   \n",
       "4           user              32     5   \n",
       "\n",
       "                                                text    type  useful  \\\n",
       "0  My wife took me here on my birthday for breakf...  review       5   \n",
       "1  I have no idea why some people give bad review...  review       0   \n",
       "2  love the gyro plate. Rice is so good and I als...  review       1   \n",
       "3  Rosie, Dakota, and I LOVE Chaparral Dog Park!!...  review       2   \n",
       "4  General Manager Scott Petello is a good egg!!!...  review       0   \n",
       "\n",
       "                  user_id                          business_location  \n",
       "0  rLtl8ZkDX5vH5nAx9C3q5Q               POINT(-112.012504 33.390792)  \n",
       "1  0a2KyEL0d3Yb1V6aivbIuQ             POINT(-111.9787576 33.3056067)  \n",
       "2  0hT2KtfLiobPvh6cDC8JQg               POINT(-111.913031 33.414345)  \n",
       "3  uZetl9T0NcROGOyFfughhg  POINT(-111.907886266708 33.5229446452242)  \n",
       "4  vYmM4KTsC8ZfQBg-j5MWkw             POINT(-111.6844821 33.3910269)  \n",
       "\n",
       "[5 rows x 33 columns]"
      ]
     },
     "execution_count": 36,
     "metadata": {},
     "output_type": "execute_result"
    }
   ],
   "source": [
    "#resetting the index\n",
    "review.reset_index(drop=True, inplace=True)\n",
    "review.head()"
   ]
  },
  {
   "cell_type": "markdown",
   "id": "ca42fd43",
   "metadata": {},
   "source": [
    "### User Dataset"
   ]
  },
  {
   "cell_type": "code",
   "execution_count": 37,
   "id": "c3517851",
   "metadata": {},
   "outputs": [
    {
     "name": "stdout",
     "output_type": "stream",
     "text": [
      "Number of missing values:  0\n",
      "Percent of missing values per feature: \n"
     ]
    },
    {
     "data": {
      "text/plain": [
       "column_a                  0.0\n",
       "reviewer_average_stars    0.0\n",
       "reviewer_cool             0.0\n",
       "reviewer_funny            0.0\n",
       "reviewer_name             0.0\n",
       "reviewer_review_count     0.0\n",
       "reviewer_type             0.0\n",
       "reviewer_useful           0.0\n",
       "user_id                   0.0\n",
       "dtype: float64"
      ]
     },
     "execution_count": 37,
     "metadata": {},
     "output_type": "execute_result"
    }
   ],
   "source": [
    "#exploring the number of missing values per feature in percentage\n",
    "print('Number of missing values: ', user.isnull().values.sum())\n",
    "print('Percent of missing values per feature: ') \n",
    "user.isnull().sum() * 100 / len(user)"
   ]
  },
  {
   "cell_type": "markdown",
   "id": "f7262148",
   "metadata": {},
   "source": [
    "## 3.2 Duplicate rows\n",
    "\n",
    "- There were no duplicate rows detected in the dataset"
   ]
  },
  {
   "cell_type": "code",
   "execution_count": 38,
   "id": "4281a129",
   "metadata": {},
   "outputs": [
    {
     "data": {
      "text/plain": [
       "0"
      ]
     },
     "execution_count": 38,
     "metadata": {},
     "output_type": "execute_result"
    }
   ],
   "source": [
    "#checking for duplicate rows\n",
    "len(business) - len(business.drop_duplicates())"
   ]
  },
  {
   "cell_type": "code",
   "execution_count": 39,
   "id": "71f6e475",
   "metadata": {},
   "outputs": [
    {
     "data": {
      "text/plain": [
       "0"
      ]
     },
     "execution_count": 39,
     "metadata": {},
     "output_type": "execute_result"
    }
   ],
   "source": [
    "#checking for duplicate rows\n",
    "len(review) - len(review.drop_duplicates())"
   ]
  },
  {
   "cell_type": "code",
   "execution_count": 40,
   "id": "326a5b09",
   "metadata": {},
   "outputs": [
    {
     "data": {
      "text/plain": [
       "0"
      ]
     },
     "execution_count": 40,
     "metadata": {},
     "output_type": "execute_result"
    }
   ],
   "source": [
    "#checking for duplicate rows\n",
    "len(user) - len(user.drop_duplicates())"
   ]
  },
  {
   "cell_type": "markdown",
   "id": "8b0beea1",
   "metadata": {},
   "source": [
    "## 3.3 Removing unnecessary features"
   ]
  },
  {
   "cell_type": "markdown",
   "id": "89f297be",
   "metadata": {},
   "source": [
    "### Business Dataset"
   ]
  },
  {
   "cell_type": "code",
   "execution_count": 41,
   "id": "8b6c02fb",
   "metadata": {},
   "outputs": [],
   "source": [
    "#dropping unnecessary columns in the business dataset\n",
    "\n",
    "business.drop(columns=['column_a', \n",
    "                       'business_neighborhoods', \n",
    "                       'business_location', \n",
    "                       'business_type'], \n",
    "              inplace=True)"
   ]
  },
  {
   "cell_type": "code",
   "execution_count": 42,
   "id": "1e37bd47",
   "metadata": {},
   "outputs": [
    {
     "data": {
      "text/html": [
       "<div>\n",
       "<style scoped>\n",
       "    .dataframe tbody tr th:only-of-type {\n",
       "        vertical-align: middle;\n",
       "    }\n",
       "\n",
       "    .dataframe tbody tr th {\n",
       "        vertical-align: top;\n",
       "    }\n",
       "\n",
       "    .dataframe thead th {\n",
       "        text-align: right;\n",
       "    }\n",
       "</style>\n",
       "<table border=\"1\" class=\"dataframe\">\n",
       "  <thead>\n",
       "    <tr style=\"text-align: right;\">\n",
       "      <th></th>\n",
       "      <th>business_categories</th>\n",
       "      <th>business_city</th>\n",
       "      <th>business_full_address</th>\n",
       "      <th>business_id</th>\n",
       "      <th>business_latitude</th>\n",
       "      <th>business_longitude</th>\n",
       "      <th>business_name</th>\n",
       "      <th>business_open</th>\n",
       "      <th>business_review_count</th>\n",
       "      <th>business_stars</th>\n",
       "      <th>business_state</th>\n",
       "    </tr>\n",
       "  </thead>\n",
       "  <tbody>\n",
       "    <tr>\n",
       "      <th>0</th>\n",
       "      <td>Accountants; Professional Services; Tax Servic...</td>\n",
       "      <td>Peoria</td>\n",
       "      <td>8466 W Peoria Ave\\nSte 6\\nPeoria, AZ 85345</td>\n",
       "      <td>rncjoVoEFUJGCUoC1JgnUA</td>\n",
       "      <td>33.581867</td>\n",
       "      <td>-112.241596</td>\n",
       "      <td>Peoria Income Tax Service</td>\n",
       "      <td>True</td>\n",
       "      <td>3</td>\n",
       "      <td>5.0</td>\n",
       "      <td>AZ</td>\n",
       "    </tr>\n",
       "    <tr>\n",
       "      <th>1</th>\n",
       "      <td>Sporting Goods; Bikes; Shopping</td>\n",
       "      <td>Phoenix</td>\n",
       "      <td>2149 W Wood Dr\\nPhoenix, AZ 85029</td>\n",
       "      <td>0FNFSzCFP_rGUoJx8W7tJg</td>\n",
       "      <td>33.604054</td>\n",
       "      <td>-112.105933</td>\n",
       "      <td>Bike Doctor</td>\n",
       "      <td>True</td>\n",
       "      <td>5</td>\n",
       "      <td>5.0</td>\n",
       "      <td>AZ</td>\n",
       "    </tr>\n",
       "    <tr>\n",
       "      <th>2</th>\n",
       "      <td>Food; Grocery</td>\n",
       "      <td>Phoenix</td>\n",
       "      <td>845 W Southern Ave\\nPhoenix, AZ 85041</td>\n",
       "      <td>usAsSV36QmUej8--yvN-dg</td>\n",
       "      <td>33.392210</td>\n",
       "      <td>-112.085377</td>\n",
       "      <td>Food City</td>\n",
       "      <td>True</td>\n",
       "      <td>5</td>\n",
       "      <td>3.5</td>\n",
       "      <td>AZ</td>\n",
       "    </tr>\n",
       "    <tr>\n",
       "      <th>3</th>\n",
       "      <td>Food; Bagels; Delis; Restaurants</td>\n",
       "      <td>Glendale Az</td>\n",
       "      <td>6520 W Happy Valley Rd\\nSte 101\\nGlendale Az, ...</td>\n",
       "      <td>PzOqRohWw7F7YEPBz6AubA</td>\n",
       "      <td>33.712797</td>\n",
       "      <td>-112.200264</td>\n",
       "      <td>Hot Bagels &amp; Deli</td>\n",
       "      <td>True</td>\n",
       "      <td>14</td>\n",
       "      <td>3.5</td>\n",
       "      <td>AZ</td>\n",
       "    </tr>\n",
       "    <tr>\n",
       "      <th>4</th>\n",
       "      <td>Women's Clothing; Fashion; Shopping</td>\n",
       "      <td>Glendale</td>\n",
       "      <td>The Americana at Brand\\n869 Americana Way\\nGle...</td>\n",
       "      <td>gtQzAiy7D-dPU8WzT3jX3Q</td>\n",
       "      <td>33.607766</td>\n",
       "      <td>-112.481632</td>\n",
       "      <td>Barney's New York Co-op</td>\n",
       "      <td>True</td>\n",
       "      <td>6</td>\n",
       "      <td>4.5</td>\n",
       "      <td>CA</td>\n",
       "    </tr>\n",
       "  </tbody>\n",
       "</table>\n",
       "</div>"
      ],
      "text/plain": [
       "                                 business_categories business_city  \\\n",
       "0  Accountants; Professional Services; Tax Servic...        Peoria   \n",
       "1                    Sporting Goods; Bikes; Shopping       Phoenix   \n",
       "2                                      Food; Grocery       Phoenix   \n",
       "3                   Food; Bagels; Delis; Restaurants   Glendale Az   \n",
       "4                Women's Clothing; Fashion; Shopping      Glendale   \n",
       "\n",
       "                               business_full_address             business_id  \\\n",
       "0         8466 W Peoria Ave\\nSte 6\\nPeoria, AZ 85345  rncjoVoEFUJGCUoC1JgnUA   \n",
       "1                  2149 W Wood Dr\\nPhoenix, AZ 85029  0FNFSzCFP_rGUoJx8W7tJg   \n",
       "2              845 W Southern Ave\\nPhoenix, AZ 85041  usAsSV36QmUej8--yvN-dg   \n",
       "3  6520 W Happy Valley Rd\\nSte 101\\nGlendale Az, ...  PzOqRohWw7F7YEPBz6AubA   \n",
       "4  The Americana at Brand\\n869 Americana Way\\nGle...  gtQzAiy7D-dPU8WzT3jX3Q   \n",
       "\n",
       "   business_latitude  business_longitude              business_name  \\\n",
       "0          33.581867         -112.241596  Peoria Income Tax Service   \n",
       "1          33.604054         -112.105933                Bike Doctor   \n",
       "2          33.392210         -112.085377                  Food City   \n",
       "3          33.712797         -112.200264          Hot Bagels & Deli   \n",
       "4          33.607766         -112.481632    Barney's New York Co-op   \n",
       "\n",
       "   business_open  business_review_count  business_stars business_state  \n",
       "0           True                      3             5.0             AZ  \n",
       "1           True                      5             5.0             AZ  \n",
       "2           True                      5             3.5             AZ  \n",
       "3           True                     14             3.5             AZ  \n",
       "4           True                      6             4.5             CA  "
      ]
     },
     "execution_count": 42,
     "metadata": {},
     "output_type": "execute_result"
    }
   ],
   "source": [
    "#resetting the index\n",
    "business.reset_index(drop=True, inplace=True)\n",
    "business.head()"
   ]
  },
  {
   "cell_type": "code",
   "execution_count": 43,
   "id": "7f0791df",
   "metadata": {},
   "outputs": [
    {
     "name": "stdout",
     "output_type": "stream",
     "text": [
      "Number of missing values:  0\n",
      "Data lenght:  11360\n"
     ]
    }
   ],
   "source": [
    "print('Number of missing values: ', business.isnull().values.sum())\n",
    "print('Data lenght: ', len(business))"
   ]
  },
  {
   "cell_type": "markdown",
   "id": "574f7e48",
   "metadata": {},
   "source": [
    "### Review Dataset"
   ]
  },
  {
   "cell_type": "code",
   "execution_count": 44,
   "id": "ae6e14ab",
   "metadata": {},
   "outputs": [],
   "source": [
    "#dropping unnecessary columns in the review dataset\n",
    "\n",
    "review.drop(columns=['column_a', \n",
    "                     'business_blank', \n",
    "                     'business_neighborhoods',\n",
    "                     'business_type',\n",
    "                     'reviewer_type', \n",
    "                     'type', \n",
    "                     'business_location'], \n",
    "            inplace=True)"
   ]
  },
  {
   "cell_type": "code",
   "execution_count": 45,
   "id": "d72cfa5f",
   "metadata": {},
   "outputs": [
    {
     "data": {
      "text/html": [
       "<div>\n",
       "<style scoped>\n",
       "    .dataframe tbody tr th:only-of-type {\n",
       "        vertical-align: middle;\n",
       "    }\n",
       "\n",
       "    .dataframe tbody tr th {\n",
       "        vertical-align: top;\n",
       "    }\n",
       "\n",
       "    .dataframe thead th {\n",
       "        text-align: right;\n",
       "    }\n",
       "</style>\n",
       "<table border=\"1\" class=\"dataframe\">\n",
       "  <thead>\n",
       "    <tr style=\"text-align: right;\">\n",
       "      <th></th>\n",
       "      <th>business_categories</th>\n",
       "      <th>business_city</th>\n",
       "      <th>business_full_address</th>\n",
       "      <th>business_id</th>\n",
       "      <th>business_latitude</th>\n",
       "      <th>business_longitude</th>\n",
       "      <th>business_name</th>\n",
       "      <th>business_open</th>\n",
       "      <th>business_review_count</th>\n",
       "      <th>business_stars</th>\n",
       "      <th>...</th>\n",
       "      <th>reviewer_blank</th>\n",
       "      <th>reviewer_cool</th>\n",
       "      <th>reviewer_funny</th>\n",
       "      <th>reviewer_name</th>\n",
       "      <th>reviewer_review_count</th>\n",
       "      <th>reviewer_useful</th>\n",
       "      <th>stars</th>\n",
       "      <th>text</th>\n",
       "      <th>useful</th>\n",
       "      <th>user_id</th>\n",
       "    </tr>\n",
       "  </thead>\n",
       "  <tbody>\n",
       "    <tr>\n",
       "      <th>0</th>\n",
       "      <td>Breakfast &amp; Brunch; Restaurants</td>\n",
       "      <td>Phoenix</td>\n",
       "      <td>6106 S 32nd St\\nPhoenix, AZ 85042</td>\n",
       "      <td>9yKzy9PApeiPPOUJEtnvkg</td>\n",
       "      <td>33.390792</td>\n",
       "      <td>-112.012504</td>\n",
       "      <td>Morning Glory Cafe</td>\n",
       "      <td>True</td>\n",
       "      <td>116</td>\n",
       "      <td>4.0</td>\n",
       "      <td>...</td>\n",
       "      <td>False</td>\n",
       "      <td>322</td>\n",
       "      <td>331</td>\n",
       "      <td>Jason</td>\n",
       "      <td>376</td>\n",
       "      <td>1034</td>\n",
       "      <td>5</td>\n",
       "      <td>My wife took me here on my birthday for breakf...</td>\n",
       "      <td>5</td>\n",
       "      <td>rLtl8ZkDX5vH5nAx9C3q5Q</td>\n",
       "    </tr>\n",
       "    <tr>\n",
       "      <th>1</th>\n",
       "      <td>Italian; Pizza; Restaurants</td>\n",
       "      <td>Phoenix</td>\n",
       "      <td>4848 E Chandler Blvd\\nPhoenix, AZ 85044</td>\n",
       "      <td>ZRJwVLyzEJq1VAihDhYiow</td>\n",
       "      <td>33.305607</td>\n",
       "      <td>-111.978758</td>\n",
       "      <td>Spinato's Pizzeria</td>\n",
       "      <td>True</td>\n",
       "      <td>102</td>\n",
       "      <td>4.0</td>\n",
       "      <td>...</td>\n",
       "      <td>False</td>\n",
       "      <td>0</td>\n",
       "      <td>2</td>\n",
       "      <td>Paul</td>\n",
       "      <td>2</td>\n",
       "      <td>0</td>\n",
       "      <td>5</td>\n",
       "      <td>I have no idea why some people give bad review...</td>\n",
       "      <td>0</td>\n",
       "      <td>0a2KyEL0d3Yb1V6aivbIuQ</td>\n",
       "    </tr>\n",
       "    <tr>\n",
       "      <th>2</th>\n",
       "      <td>Middle Eastern; Restaurants</td>\n",
       "      <td>Tempe</td>\n",
       "      <td>1513 E  Apache Blvd\\nTempe, AZ 85281</td>\n",
       "      <td>6oRAC4uyJCsJl1X0WZpVSA</td>\n",
       "      <td>33.414345</td>\n",
       "      <td>-111.913031</td>\n",
       "      <td>Haji-Baba</td>\n",
       "      <td>True</td>\n",
       "      <td>265</td>\n",
       "      <td>4.5</td>\n",
       "      <td>...</td>\n",
       "      <td>False</td>\n",
       "      <td>0</td>\n",
       "      <td>0</td>\n",
       "      <td>Nicole</td>\n",
       "      <td>3</td>\n",
       "      <td>3</td>\n",
       "      <td>4</td>\n",
       "      <td>love the gyro plate. Rice is so good and I als...</td>\n",
       "      <td>1</td>\n",
       "      <td>0hT2KtfLiobPvh6cDC8JQg</td>\n",
       "    </tr>\n",
       "    <tr>\n",
       "      <th>3</th>\n",
       "      <td>Active Life; Dog Parks; Parks</td>\n",
       "      <td>Scottsdale</td>\n",
       "      <td>5401 N Hayden Rd\\nScottsdale, AZ 85250</td>\n",
       "      <td>_1QQZuf4zZOyFCvXc0o6Vg</td>\n",
       "      <td>33.522945</td>\n",
       "      <td>-111.907886</td>\n",
       "      <td>Chaparral Dog Park</td>\n",
       "      <td>True</td>\n",
       "      <td>88</td>\n",
       "      <td>4.5</td>\n",
       "      <td>...</td>\n",
       "      <td>False</td>\n",
       "      <td>36</td>\n",
       "      <td>18</td>\n",
       "      <td>lindsey</td>\n",
       "      <td>31</td>\n",
       "      <td>75</td>\n",
       "      <td>5</td>\n",
       "      <td>Rosie, Dakota, and I LOVE Chaparral Dog Park!!...</td>\n",
       "      <td>2</td>\n",
       "      <td>uZetl9T0NcROGOyFfughhg</td>\n",
       "    </tr>\n",
       "    <tr>\n",
       "      <th>4</th>\n",
       "      <td>Tires; Automotive</td>\n",
       "      <td>Mesa</td>\n",
       "      <td>1357 S Power Road\\nMesa, AZ 85206</td>\n",
       "      <td>6ozycU1RpktNG2-1BroVtw</td>\n",
       "      <td>33.391027</td>\n",
       "      <td>-111.684482</td>\n",
       "      <td>Discount Tire</td>\n",
       "      <td>True</td>\n",
       "      <td>5</td>\n",
       "      <td>4.5</td>\n",
       "      <td>...</td>\n",
       "      <td>False</td>\n",
       "      <td>8</td>\n",
       "      <td>3</td>\n",
       "      <td>Roger</td>\n",
       "      <td>28</td>\n",
       "      <td>32</td>\n",
       "      <td>5</td>\n",
       "      <td>General Manager Scott Petello is a good egg!!!...</td>\n",
       "      <td>0</td>\n",
       "      <td>vYmM4KTsC8ZfQBg-j5MWkw</td>\n",
       "    </tr>\n",
       "  </tbody>\n",
       "</table>\n",
       "<p>5 rows × 26 columns</p>\n",
       "</div>"
      ],
      "text/plain": [
       "               business_categories business_city  \\\n",
       "0  Breakfast & Brunch; Restaurants       Phoenix   \n",
       "1      Italian; Pizza; Restaurants       Phoenix   \n",
       "2      Middle Eastern; Restaurants         Tempe   \n",
       "3    Active Life; Dog Parks; Parks    Scottsdale   \n",
       "4                Tires; Automotive          Mesa   \n",
       "\n",
       "                     business_full_address             business_id  \\\n",
       "0        6106 S 32nd St\\nPhoenix, AZ 85042  9yKzy9PApeiPPOUJEtnvkg   \n",
       "1  4848 E Chandler Blvd\\nPhoenix, AZ 85044  ZRJwVLyzEJq1VAihDhYiow   \n",
       "2     1513 E  Apache Blvd\\nTempe, AZ 85281  6oRAC4uyJCsJl1X0WZpVSA   \n",
       "3   5401 N Hayden Rd\\nScottsdale, AZ 85250  _1QQZuf4zZOyFCvXc0o6Vg   \n",
       "4        1357 S Power Road\\nMesa, AZ 85206  6ozycU1RpktNG2-1BroVtw   \n",
       "\n",
       "   business_latitude  business_longitude       business_name  business_open  \\\n",
       "0          33.390792         -112.012504  Morning Glory Cafe           True   \n",
       "1          33.305607         -111.978758  Spinato's Pizzeria           True   \n",
       "2          33.414345         -111.913031           Haji-Baba           True   \n",
       "3          33.522945         -111.907886  Chaparral Dog Park           True   \n",
       "4          33.391027         -111.684482       Discount Tire           True   \n",
       "\n",
       "   business_review_count  business_stars  ... reviewer_blank  reviewer_cool  \\\n",
       "0                    116             4.0  ...          False            322   \n",
       "1                    102             4.0  ...          False              0   \n",
       "2                    265             4.5  ...          False              0   \n",
       "3                     88             4.5  ...          False             36   \n",
       "4                      5             4.5  ...          False              8   \n",
       "\n",
       "  reviewer_funny  reviewer_name reviewer_review_count  reviewer_useful  stars  \\\n",
       "0            331          Jason                   376             1034      5   \n",
       "1              2           Paul                     2                0      5   \n",
       "2              0         Nicole                     3                3      4   \n",
       "3             18        lindsey                    31               75      5   \n",
       "4              3          Roger                    28               32      5   \n",
       "\n",
       "                                                text  useful  \\\n",
       "0  My wife took me here on my birthday for breakf...       5   \n",
       "1  I have no idea why some people give bad review...       0   \n",
       "2  love the gyro plate. Rice is so good and I als...       1   \n",
       "3  Rosie, Dakota, and I LOVE Chaparral Dog Park!!...       2   \n",
       "4  General Manager Scott Petello is a good egg!!!...       0   \n",
       "\n",
       "                  user_id  \n",
       "0  rLtl8ZkDX5vH5nAx9C3q5Q  \n",
       "1  0a2KyEL0d3Yb1V6aivbIuQ  \n",
       "2  0hT2KtfLiobPvh6cDC8JQg  \n",
       "3  uZetl9T0NcROGOyFfughhg  \n",
       "4  vYmM4KTsC8ZfQBg-j5MWkw  \n",
       "\n",
       "[5 rows x 26 columns]"
      ]
     },
     "execution_count": 45,
     "metadata": {},
     "output_type": "execute_result"
    }
   ],
   "source": [
    "#resetting the index in the review dataset\n",
    "review.reset_index(drop=True, inplace=True)\n",
    "review.head()"
   ]
  },
  {
   "cell_type": "code",
   "execution_count": 46,
   "id": "7427001b",
   "metadata": {},
   "outputs": [
    {
     "name": "stdout",
     "output_type": "stream",
     "text": [
      "Number of missing values:  13966\n",
      "Data lenght:  229130\n"
     ]
    }
   ],
   "source": [
    "print('Number of missing values: ', review.isnull().values.sum())\n",
    "print('Data lenght: ', len(review))"
   ]
  },
  {
   "cell_type": "markdown",
   "id": "fa71543d",
   "metadata": {},
   "source": [
    "### User Dataset"
   ]
  },
  {
   "cell_type": "code",
   "execution_count": 47,
   "id": "1db1259e",
   "metadata": {},
   "outputs": [],
   "source": [
    "#dropping unnecessary columns in the user dataset\n",
    "user.drop(columns=['column_a', 'reviewer_type'], inplace=True)"
   ]
  },
  {
   "cell_type": "code",
   "execution_count": 48,
   "id": "e4c5f056",
   "metadata": {},
   "outputs": [
    {
     "data": {
      "text/html": [
       "<div>\n",
       "<style scoped>\n",
       "    .dataframe tbody tr th:only-of-type {\n",
       "        vertical-align: middle;\n",
       "    }\n",
       "\n",
       "    .dataframe tbody tr th {\n",
       "        vertical-align: top;\n",
       "    }\n",
       "\n",
       "    .dataframe thead th {\n",
       "        text-align: right;\n",
       "    }\n",
       "</style>\n",
       "<table border=\"1\" class=\"dataframe\">\n",
       "  <thead>\n",
       "    <tr style=\"text-align: right;\">\n",
       "      <th></th>\n",
       "      <th>reviewer_average_stars</th>\n",
       "      <th>reviewer_cool</th>\n",
       "      <th>reviewer_funny</th>\n",
       "      <th>reviewer_name</th>\n",
       "      <th>reviewer_review_count</th>\n",
       "      <th>reviewer_useful</th>\n",
       "      <th>user_id</th>\n",
       "    </tr>\n",
       "  </thead>\n",
       "  <tbody>\n",
       "    <tr>\n",
       "      <th>0</th>\n",
       "      <td>5.0</td>\n",
       "      <td>0</td>\n",
       "      <td>0</td>\n",
       "      <td>Jim</td>\n",
       "      <td>6</td>\n",
       "      <td>7</td>\n",
       "      <td>CR2y7yEm4X035ZMzrTtN9Q</td>\n",
       "    </tr>\n",
       "    <tr>\n",
       "      <th>1</th>\n",
       "      <td>1.0</td>\n",
       "      <td>0</td>\n",
       "      <td>0</td>\n",
       "      <td>Kelle</td>\n",
       "      <td>2</td>\n",
       "      <td>1</td>\n",
       "      <td>_9GXoHhdxc30ujPaQwh6Ew</td>\n",
       "    </tr>\n",
       "    <tr>\n",
       "      <th>2</th>\n",
       "      <td>5.0</td>\n",
       "      <td>0</td>\n",
       "      <td>0</td>\n",
       "      <td>Stephanie</td>\n",
       "      <td>2</td>\n",
       "      <td>1</td>\n",
       "      <td>8mM-nqxjg6pT04kwcjMbsw</td>\n",
       "    </tr>\n",
       "    <tr>\n",
       "      <th>3</th>\n",
       "      <td>5.0</td>\n",
       "      <td>0</td>\n",
       "      <td>0</td>\n",
       "      <td>T</td>\n",
       "      <td>2</td>\n",
       "      <td>2</td>\n",
       "      <td>Ch6CdTR2IVaVANr-RglMOg</td>\n",
       "    </tr>\n",
       "    <tr>\n",
       "      <th>4</th>\n",
       "      <td>1.0</td>\n",
       "      <td>0</td>\n",
       "      <td>0</td>\n",
       "      <td>Beth</td>\n",
       "      <td>1</td>\n",
       "      <td>0</td>\n",
       "      <td>NZrLmHRyiHmyT1JrfzkCOA</td>\n",
       "    </tr>\n",
       "  </tbody>\n",
       "</table>\n",
       "</div>"
      ],
      "text/plain": [
       "   reviewer_average_stars  reviewer_cool  reviewer_funny reviewer_name  \\\n",
       "0                     5.0              0               0           Jim   \n",
       "1                     1.0              0               0         Kelle   \n",
       "2                     5.0              0               0     Stephanie   \n",
       "3                     5.0              0               0             T   \n",
       "4                     1.0              0               0          Beth   \n",
       "\n",
       "   reviewer_review_count  reviewer_useful                 user_id  \n",
       "0                      6                7  CR2y7yEm4X035ZMzrTtN9Q  \n",
       "1                      2                1  _9GXoHhdxc30ujPaQwh6Ew  \n",
       "2                      2                1  8mM-nqxjg6pT04kwcjMbsw  \n",
       "3                      2                2  Ch6CdTR2IVaVANr-RglMOg  \n",
       "4                      1                0  NZrLmHRyiHmyT1JrfzkCOA  "
      ]
     },
     "execution_count": 48,
     "metadata": {},
     "output_type": "execute_result"
    }
   ],
   "source": [
    "#resetting the index in the user dataset\n",
    "user.reset_index(drop=True, inplace=True)\n",
    "user.head()"
   ]
  },
  {
   "cell_type": "code",
   "execution_count": 49,
   "id": "5e32d824",
   "metadata": {},
   "outputs": [
    {
     "name": "stdout",
     "output_type": "stream",
     "text": [
      "Number of missing values:  0\n",
      "Data lenght:  43873\n"
     ]
    }
   ],
   "source": [
    "print('Number of missing values: ', user.isnull().values.sum())\n",
    "print('Data lenght: ', len(user))"
   ]
  },
  {
   "cell_type": "markdown",
   "id": "039fa7da",
   "metadata": {},
   "source": [
    "# 4. Saving data for the next stage"
   ]
  },
  {
   "cell_type": "code",
   "execution_count": 56,
   "id": "c0058620",
   "metadata": {},
   "outputs": [],
   "source": [
    "# business dataset\n",
    "business.to_csv('data/business_prepared.csv')\n",
    "\n",
    "#review dataset\n",
    "review.to_csv('data/review_prepared.csv')\n",
    "\n",
    "#user dataset\n",
    "user.to_csv('data/user_prepared.csv')"
   ]
  },
  {
   "cell_type": "code",
   "execution_count": null,
   "id": "eaa34043",
   "metadata": {},
   "outputs": [],
   "source": []
  }
 ],
 "metadata": {
  "kernelspec": {
   "display_name": "Python 3 (ipykernel)",
   "language": "python",
   "name": "python3"
  },
  "language_info": {
   "codemirror_mode": {
    "name": "ipython",
    "version": 3
   },
   "file_extension": ".py",
   "mimetype": "text/x-python",
   "name": "python",
   "nbconvert_exporter": "python",
   "pygments_lexer": "ipython3",
   "version": "3.9.7"
  }
 },
 "nbformat": 4,
 "nbformat_minor": 5
}
