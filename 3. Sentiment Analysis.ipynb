{
 "cells": [
  {
   "cell_type": "markdown",
   "id": "426b7d6b",
   "metadata": {},
   "source": [
    "# Sentiment Analysis\n",
    "\n",
    "This stage of the project is dedicated to Sentiment Analysis, or popularly called 'opinion mining'. The aim is to determine the overall contextual polarity of a review. In this sense, a review is a reaction of a person to their experience in an establishment. \n",
    "\n",
    "This analysis does not determines if a sentence is objective or subjective, fact or opinion. Results of the text analysis will be shown as *positive*, *negative* or *neutral* opinion.\n",
    "\n",
    "I will use NLTK Sentiment Analyser VADER for the analysis, and the target labels will be the variable 'stars' which indicates the rate of positive, negative or neutral opinion a user had in the review.\n",
    "\n",
    "<ul>\n",
    "    <li>1. Imports</li>\n",
    "    <li>2. Data</li>\n",
    "    <li>3. Sentiment Analysis</li>\n",
    "        <ul>\n",
    "            <li>3.1 Testing VADER with a random review</li>\n",
    "            <li>3.2 Computing polarity scores</li>\n",
    "            <li>3.3 Comparison Analysis of the compound score and the original label</li>\n",
    "        </ul>\n",
    "</ul>"
   ]
  },
  {
   "cell_type": "markdown",
   "id": "8a5b18c6",
   "metadata": {},
   "source": [
    "# 1. Imports"
   ]
  },
  {
   "cell_type": "code",
   "execution_count": 1,
   "id": "fb68637d",
   "metadata": {},
   "outputs": [],
   "source": [
    "#basic libraries for linear algebra and data procesing\n",
    "import numpy as np\n",
    "import pandas as pd\n",
    "\n",
    "#visualization\n",
    "import matplotlib.pyplot as plt\n",
    "import seaborn as sns\n",
    "\n",
    "#sentiment analysis\n",
    "from nltk.sentiment.vader import SentimentIntensityAnalyzer\n",
    "\n",
    "#comparison analysis metrics\n",
    "from sklearn.metrics import accuracy_score,classification_report,confusion_matrix,ConfusionMatrixDisplay\n",
    "\n",
    "#time and warnings\n",
    "import time\n",
    "import warnings\n",
    "\n",
    "#settings\n",
    "warnings.filterwarnings(\"ignore\")\n",
    "%matplotlib inline\n",
    "sns.set_context('poster', font_scale=0.5)"
   ]
  },
  {
   "cell_type": "markdown",
   "id": "8cc91654",
   "metadata": {},
   "source": [
    "# 2. Data"
   ]
  },
  {
   "cell_type": "code",
   "execution_count": 2,
   "id": "aefe7d6a",
   "metadata": {},
   "outputs": [],
   "source": [
    "#loading the review dataset\n",
    "review = pd.read_csv('data/review_prepared.csv')"
   ]
  },
  {
   "cell_type": "code",
   "execution_count": 3,
   "id": "783fe49f",
   "metadata": {},
   "outputs": [],
   "source": [
    "#filtering out the stars and text columns\n",
    "reviews = review[['text', 'stars']].reset_index().drop(columns='index')"
   ]
  },
  {
   "cell_type": "code",
   "execution_count": 4,
   "id": "0b629ad6",
   "metadata": {},
   "outputs": [
    {
     "name": "stdout",
     "output_type": "stream",
     "text": [
      "(229130, 2)\n"
     ]
    },
    {
     "data": {
      "text/html": [
       "<div>\n",
       "<style scoped>\n",
       "    .dataframe tbody tr th:only-of-type {\n",
       "        vertical-align: middle;\n",
       "    }\n",
       "\n",
       "    .dataframe tbody tr th {\n",
       "        vertical-align: top;\n",
       "    }\n",
       "\n",
       "    .dataframe thead th {\n",
       "        text-align: right;\n",
       "    }\n",
       "</style>\n",
       "<table border=\"1\" class=\"dataframe\">\n",
       "  <thead>\n",
       "    <tr style=\"text-align: right;\">\n",
       "      <th></th>\n",
       "      <th>text</th>\n",
       "      <th>stars</th>\n",
       "    </tr>\n",
       "  </thead>\n",
       "  <tbody>\n",
       "    <tr>\n",
       "      <th>0</th>\n",
       "      <td>My wife took me here on my birthday for breakf...</td>\n",
       "      <td>5</td>\n",
       "    </tr>\n",
       "    <tr>\n",
       "      <th>1</th>\n",
       "      <td>I have no idea why some people give bad review...</td>\n",
       "      <td>5</td>\n",
       "    </tr>\n",
       "    <tr>\n",
       "      <th>2</th>\n",
       "      <td>love the gyro plate. Rice is so good and I als...</td>\n",
       "      <td>4</td>\n",
       "    </tr>\n",
       "    <tr>\n",
       "      <th>3</th>\n",
       "      <td>Rosie, Dakota, and I LOVE Chaparral Dog Park!!...</td>\n",
       "      <td>5</td>\n",
       "    </tr>\n",
       "    <tr>\n",
       "      <th>4</th>\n",
       "      <td>General Manager Scott Petello is a good egg!!!...</td>\n",
       "      <td>5</td>\n",
       "    </tr>\n",
       "  </tbody>\n",
       "</table>\n",
       "</div>"
      ],
      "text/plain": [
       "                                                text  stars\n",
       "0  My wife took me here on my birthday for breakf...      5\n",
       "1  I have no idea why some people give bad review...      5\n",
       "2  love the gyro plate. Rice is so good and I als...      4\n",
       "3  Rosie, Dakota, and I LOVE Chaparral Dog Park!!...      5\n",
       "4  General Manager Scott Petello is a good egg!!!...      5"
      ]
     },
     "execution_count": 4,
     "metadata": {},
     "output_type": "execute_result"
    }
   ],
   "source": [
    "print(reviews.shape)\n",
    "reviews.head()"
   ]
  },
  {
   "cell_type": "markdown",
   "id": "84841dc7",
   "metadata": {},
   "source": [
    "# 3. Sentiment Analysis"
   ]
  },
  {
   "cell_type": "code",
   "execution_count": 5,
   "id": "1f44756a",
   "metadata": {},
   "outputs": [
    {
     "data": {
      "image/png": "[encoded data removed]",
      "text/plain": [
       "<Figure size 720x432 with 1 Axes>"
      ]
     },
     "metadata": {
      "needs_background": "light"
     },
     "output_type": "display_data"
    }
   ],
   "source": [
    "#number of values per star rating\n",
    "reviews['stars'].value_counts().plot.barh(color = '#8e77ec', figsize = (10,6), title = 'Number of values per rating');"
   ]
  },
  {
   "cell_type": "markdown",
   "id": "f648aa27",
   "metadata": {},
   "source": [
    "## 3.1 Testing VADER with a random review"
   ]
  },
  {
   "cell_type": "code",
   "execution_count": 6,
   "id": "c46f6193",
   "metadata": {},
   "outputs": [],
   "source": [
    "#creating a sid object from the VADER\n",
    "sid = SentimentIntensityAnalyzer()"
   ]
  },
  {
   "cell_type": "markdown",
   "id": "e5b1bda2",
   "metadata": {},
   "source": [
    "**Test 1**"
   ]
  },
  {
   "cell_type": "code",
   "execution_count": 7,
   "id": "8aa4adf8",
   "metadata": {},
   "outputs": [
    {
     "name": "stdout",
     "output_type": "stream",
     "text": [
      "VADER polarity score:  {'neg': 0.0, 'neu': 0.843, 'pos': 0.157, 'compound': 0.8324}\n",
      "Actual target star:  3\n",
      "Actual review text: The pizza is just OK. Pretty crowded at lunch time and seating is a nightmare. Get the lunch special, you get a personal pizza slicer and a pan. Would get it to go if I didn't live in the west valley. Good idea to have a separate take out door but don't count on this place to be acceptable for those of us with disabilities to get around.\n"
     ]
    }
   ],
   "source": [
    "test_sid_scores = sid.polarity_scores(reviews.loc[6543]['text'])\n",
    "test_target_star = reviews.loc[6543]['stars']\n",
    "\n",
    "print('VADER polarity score: ', test_sid_scores)\n",
    "print('Actual target star: ', test_target_star)\n",
    "print('Actual review text:', reviews.text[6543])"
   ]
  },
  {
   "cell_type": "markdown",
   "id": "6b5b2002",
   "metadata": {},
   "source": [
    "**Test 2**"
   ]
  },
  {
   "cell_type": "code",
   "execution_count": 8,
   "id": "cdde35c0",
   "metadata": {},
   "outputs": [
    {
     "name": "stdout",
     "output_type": "stream",
     "text": [
      "VADER polarity score:  {'neg': 0.0, 'neu': 1.0, 'pos': 0.0, 'compound': 0.0}\n",
      "Actual target star:  5\n",
      "Actual review text: Fan-friggin-tastic!\n"
     ]
    }
   ],
   "source": [
    "test2_sid_scores = sid.polarity_scores(reviews.loc[183761]['text'])\n",
    "test2_target_star = reviews.loc[183761]['stars']\n",
    "\n",
    "print('VADER polarity score: ', test2_sid_scores)\n",
    "print('Actual target star: ', test2_target_star)\n",
    "print('Actual review text:', reviews.text[183761])"
   ]
  },
  {
   "cell_type": "markdown",
   "id": "cb1b2798",
   "metadata": {},
   "source": [
    "**Test 3**"
   ]
  },
  {
   "cell_type": "code",
   "execution_count": 9,
   "id": "3b2948c1",
   "metadata": {},
   "outputs": [
    {
     "name": "stdout",
     "output_type": "stream",
     "text": [
      "VADER polarity score:  {'neg': 0.279, 'neu': 0.543, 'pos': 0.178, 'compound': -0.3182}\n",
      "Actual target star:  3\n",
      "Actual review text: Was cool, then last summer the music got shitty.\n"
     ]
    }
   ],
   "source": [
    "test3_sid_scores = sid.polarity_scores(reviews.loc[92701]['text'])\n",
    "test3_target_star = reviews.loc[92701]['stars']\n",
    "\n",
    "print('VADER polarity score: ', test3_sid_scores)\n",
    "print('Actual target star: ', test3_target_star)\n",
    "print('Actual review text:', reviews.text[92701])"
   ]
  },
  {
   "cell_type": "markdown",
   "id": "a12b7c81",
   "metadata": {},
   "source": [
    "## 3.2 Computing polarity scores using compound scores"
   ]
  },
  {
   "cell_type": "code",
   "execution_count": 10,
   "id": "121499dc",
   "metadata": {},
   "outputs": [],
   "source": [
    "#creating labels from stars\n",
    "reviews['label'] = reviews['stars'].apply(lambda s: 'positive' if s >= 4 else ('negative' if s <= 2 else 'neutral'))"
   ]
  },
  {
   "cell_type": "code",
   "execution_count": 11,
   "id": "b1935bd7",
   "metadata": {},
   "outputs": [
    {
     "name": "stdout",
     "output_type": "stream",
     "text": [
      "CPU times: user 5min 22s, sys: 1.35 s, total: 5min 23s\n",
      "Wall time: 5min 24s\n"
     ]
    },
    {
     "data": {
      "text/html": [
       "<div>\n",
       "<style scoped>\n",
       "    .dataframe tbody tr th:only-of-type {\n",
       "        vertical-align: middle;\n",
       "    }\n",
       "\n",
       "    .dataframe tbody tr th {\n",
       "        vertical-align: top;\n",
       "    }\n",
       "\n",
       "    .dataframe thead th {\n",
       "        text-align: right;\n",
       "    }\n",
       "</style>\n",
       "<table border=\"1\" class=\"dataframe\">\n",
       "  <thead>\n",
       "    <tr style=\"text-align: right;\">\n",
       "      <th></th>\n",
       "      <th>text</th>\n",
       "      <th>stars</th>\n",
       "      <th>label</th>\n",
       "      <th>polarity_scores</th>\n",
       "      <th>compound_score</th>\n",
       "      <th>compound_label</th>\n",
       "    </tr>\n",
       "  </thead>\n",
       "  <tbody>\n",
       "    <tr>\n",
       "      <th>0</th>\n",
       "      <td>My wife took me here on my birthday for breakf...</td>\n",
       "      <td>5</td>\n",
       "      <td>positive</td>\n",
       "      <td>{'neg': 0.015, 'neu': 0.687, 'pos': 0.298, 'co...</td>\n",
       "      <td>0.9950</td>\n",
       "      <td>positive</td>\n",
       "    </tr>\n",
       "    <tr>\n",
       "      <th>1</th>\n",
       "      <td>I have no idea why some people give bad review...</td>\n",
       "      <td>5</td>\n",
       "      <td>positive</td>\n",
       "      <td>{'neg': 0.049, 'neu': 0.741, 'pos': 0.21, 'com...</td>\n",
       "      <td>0.9943</td>\n",
       "      <td>positive</td>\n",
       "    </tr>\n",
       "    <tr>\n",
       "      <th>2</th>\n",
       "      <td>love the gyro plate. Rice is so good and I als...</td>\n",
       "      <td>4</td>\n",
       "      <td>positive</td>\n",
       "      <td>{'neg': 0.0, 'neu': 0.523, 'pos': 0.477, 'comp...</td>\n",
       "      <td>0.8988</td>\n",
       "      <td>positive</td>\n",
       "    </tr>\n",
       "    <tr>\n",
       "      <th>3</th>\n",
       "      <td>Rosie, Dakota, and I LOVE Chaparral Dog Park!!...</td>\n",
       "      <td>5</td>\n",
       "      <td>positive</td>\n",
       "      <td>{'neg': 0.0, 'neu': 0.793, 'pos': 0.207, 'comp...</td>\n",
       "      <td>0.9531</td>\n",
       "      <td>positive</td>\n",
       "    </tr>\n",
       "    <tr>\n",
       "      <th>4</th>\n",
       "      <td>General Manager Scott Petello is a good egg!!!...</td>\n",
       "      <td>5</td>\n",
       "      <td>positive</td>\n",
       "      <td>{'neg': 0.029, 'neu': 0.636, 'pos': 0.334, 'co...</td>\n",
       "      <td>0.9883</td>\n",
       "      <td>positive</td>\n",
       "    </tr>\n",
       "  </tbody>\n",
       "</table>\n",
       "</div>"
      ],
      "text/plain": [
       "                                                text  stars     label  \\\n",
       "0  My wife took me here on my birthday for breakf...      5  positive   \n",
       "1  I have no idea why some people give bad review...      5  positive   \n",
       "2  love the gyro plate. Rice is so good and I als...      4  positive   \n",
       "3  Rosie, Dakota, and I LOVE Chaparral Dog Park!!...      5  positive   \n",
       "4  General Manager Scott Petello is a good egg!!!...      5  positive   \n",
       "\n",
       "                                     polarity_scores  compound_score  \\\n",
       "0  {'neg': 0.015, 'neu': 0.687, 'pos': 0.298, 'co...          0.9950   \n",
       "1  {'neg': 0.049, 'neu': 0.741, 'pos': 0.21, 'com...          0.9943   \n",
       "2  {'neg': 0.0, 'neu': 0.523, 'pos': 0.477, 'comp...          0.8988   \n",
       "3  {'neg': 0.0, 'neu': 0.793, 'pos': 0.207, 'comp...          0.9531   \n",
       "4  {'neg': 0.029, 'neu': 0.636, 'pos': 0.334, 'co...          0.9883   \n",
       "\n",
       "  compound_label  \n",
       "0       positive  \n",
       "1       positive  \n",
       "2       positive  \n",
       "3       positive  \n",
       "4       positive  "
      ]
     },
     "execution_count": 11,
     "metadata": {},
     "output_type": "execute_result"
    }
   ],
   "source": [
    "%%time\n",
    "\n",
    "#creating columns in the dataframe that contain relevant data from the polarity scores\n",
    "reviews['polarity_scores'] = reviews['text'].apply(lambda text: sid.polarity_scores(str(text)))\n",
    "reviews['compound_score']  = reviews['polarity_scores'].apply(lambda score_dict: score_dict['compound'])\n",
    "reviews['compound_label'] = reviews['compound_score'].apply(lambda s: 'negative' if s < 0 else ('neutral' if s < 0.5 else 'positive'))\n",
    "reviews.head()"
   ]
  },
  {
   "cell_type": "markdown",
   "id": "cd4a87b3",
   "metadata": {},
   "source": [
    "## 3.3 Comparison Analysis of compound score and original label"
   ]
  },
  {
   "cell_type": "code",
   "execution_count": 12,
   "id": "fcde878c",
   "metadata": {},
   "outputs": [
    {
     "name": "stdout",
     "output_type": "stream",
     "text": [
      "Accuracy score:  0.7144895910618426\n"
     ]
    }
   ],
   "source": [
    "print('Accuracy score: ', accuracy_score(reviews.label, reviews.compound_label))"
   ]
  },
  {
   "cell_type": "code",
   "execution_count": 13,
   "id": "73c491c2",
   "metadata": {},
   "outputs": [
    {
     "name": "stdout",
     "output_type": "stream",
     "text": [
      "Classification Report:\n",
      "               precision    recall  f1-score   support\n",
      "\n",
      "    negative       0.68      0.39      0.49     38245\n",
      "     neutral       0.23      0.10      0.14     35268\n",
      "    positive       0.76      0.93      0.84    155617\n",
      "\n",
      "    accuracy                           0.71    229130\n",
      "   macro avg       0.55      0.47      0.49    229130\n",
      "weighted avg       0.66      0.71      0.67    229130\n",
      "\n"
     ]
    }
   ],
   "source": [
    "print('Classification Report:\\n', classification_report(reviews.label, reviews.compound_label))"
   ]
  },
  {
   "cell_type": "code",
   "execution_count": 14,
   "id": "cf822803",
   "metadata": {},
   "outputs": [
    {
     "name": "stdout",
     "output_type": "stream",
     "text": [
      "[[ 14802   5341  18102]\n",
      " [  3332   3487  28449]\n",
      " [  3728   6467 145422]]\n"
     ]
    }
   ],
   "source": [
    "print(confusion_matrix(reviews.label, reviews.compound_label))"
   ]
  },
  {
   "cell_type": "code",
   "execution_count": 15,
   "id": "9f07d00e",
   "metadata": {},
   "outputs": [
    {
     "data": {
      "image/png": "[encoded data removed]",
      "text/plain": [
       "<Figure size 432x288 with 2 Axes>"
      ]
     },
     "metadata": {
      "needs_background": "light"
     },
     "output_type": "display_data"
    }
   ],
   "source": [
    "disp = ConfusionMatrixDisplay(confusion_matrix(reviews.label, reviews.compound_label), \n",
    "                              display_labels=['negative', 'neutral', 'positive'])\n",
    "\n",
    "disp.plot()\n",
    "plt.show;"
   ]
  }
 ],
 "metadata": {
  "kernelspec": {
   "display_name": "Python 3 (ipykernel)",
   "language": "python",
   "name": "python3"
  },
  "language_info": {
   "codemirror_mode": {
    "name": "ipython",
    "version": 3
   },
   "file_extension": ".py",
   "mimetype": "text/x-python",
   "name": "python",
   "nbconvert_exporter": "python",
   "pygments_lexer": "ipython3",
   "version": "3.9.7"
  }
 },
 "nbformat": 4,
 "nbformat_minor": 5
}
